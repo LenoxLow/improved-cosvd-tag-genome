{
 "cells": [
  {
   "cell_type": "code",
   "execution_count": 7,
   "metadata": {},
   "outputs": [],
   "source": [
    "from __future__ import (absolute_import, division, print_function,\n",
    "                        unicode_literals)\n",
    "\n",
    "#cimport numpy as np # noqa\n",
    "import numpy as np\n",
    "\n",
    "from surprise import Reader, AlgoBase, PredictionImpossible\n",
    "from surprise import Dataset, SVD, SVDpp, NMF\n",
    "from surprise.utils import get_rng\n",
    "\n",
    "from surprise.model_selection import cross_validate\n",
    "from surprise.model_selection import train_test_split\n",
    "from surprise.model_selection import KFold\n",
    "from surprise.model_selection import GridSearchCV\n",
    "\n",
    "from surprise import accuracy\n",
    "\n",
    "import pandas as pd\n",
    "import os\n",
    "import time\n",
    "import math\n",
    "\n",
    "from sklearn.metrics import confusion_matrix, mean_squared_error, mean_absolute_error, precision_score, recall_score\n",
    "from math import sqrt\n",
    "\n",
    "from surprise import CoSVDv9\n",
    "from surprise import CoSVDv5"
   ]
  },
  {
   "cell_type": "code",
   "execution_count": 4,
   "metadata": {},
   "outputs": [],
   "source": [
    "#data_source = 'ml-latest-small' # 100k MovieLens dataset 2016\n",
    "data_source = 'mlsmall' # 100k MovieLens dataset 2018\n",
    "#data_source = 'ml10M100K' # 10M MovieLens dataset\n",
    "\n",
    "reader = Reader()\n",
    "path = os.path.join('../','Data',data_source)\n",
    "rate = pd.read_csv(path+'/ratings.csv')\n",
    "raw_tags = pd.read_csv(path+'/tags.csv', encoding='utf-8')\n",
    "\n",
    "data = Dataset.load_from_df(rate[['userId', 'movieId', 'rating']], reader)\n",
    "\n",
    "cv = KFold(n_splits=10, random_state=123)"
   ]
  },
  {
   "cell_type": "code",
   "execution_count": 5,
   "metadata": {},
   "outputs": [],
   "source": [
    "m_list=['RMSE', 'MAE', 'PREC_5', 'REC_5', 'NDCG_5', 'PREC_10', 'REC_10', 'NDCG_10', 'PREC_15', 'REC_15', 'NDCG_15']"
   ]
  },
  {
   "cell_type": "markdown",
   "metadata": {},
   "source": [
    "### CoSVD (F=40)"
   ]
  },
  {
   "cell_type": "code",
   "execution_count": 14,
   "metadata": {},
   "outputs": [
    {
     "name": "stdout",
     "output_type": "stream",
     "text": [
      "Evaluating RMSE, MAE, PREC_5, REC_5, NDCG_5, PREC_10, REC_10, NDCG_10, PREC_15, REC_15, NDCG_15 of algorithm CoSVDv9 on 10 split(s).\n",
      "\n",
      "                  Fold 1  Fold 2  Fold 3  Fold 4  Fold 5  Fold 6  Fold 7  Fold 8  Fold 9  Fold 10 Mean    Std     \n",
      "RMSE (testset)    0.8631  0.8662  0.8682  0.8679  0.8636  0.8473  0.8474  0.8437  0.8565  0.8504  0.8574  0.0090  \n",
      "MAE (testset)     0.6604  0.6622  0.6652  0.6633  0.6673  0.6483  0.6536  0.6455  0.6576  0.6492  0.6573  0.0073  \n",
      "PREC_5 (testset)  0.3478  0.3468  0.3269  0.3258  0.3363  0.3465  0.3253  0.3443  0.3507  0.3442  0.3395  0.0095  \n",
      "REC_5 (testset)   0.1898  0.1926  0.1811  0.1891  0.1853  0.1840  0.1858  0.1986  0.1959  0.1924  0.1895  0.0052  \n",
      "NDCG_5 (testset)  0.8184  0.8277  0.8254  0.8213  0.8295  0.8310  0.8255  0.8233  0.8290  0.8214  0.8253  0.0039  \n",
      "PREC_10 (testset) 0.3433  0.3464  0.3257  0.3230  0.3316  0.3423  0.3214  0.3423  0.3466  0.3434  0.3366  0.0096  \n",
      "REC_10 (testset)  0.2140  0.2187  0.2053  0.2150  0.2104  0.2116  0.2079  0.2264  0.2199  0.2170  0.2146  0.0059  \n",
      "NDCG_10 (testset) 0.8561  0.8654  0.8599  0.8585  0.8641  0.8662  0.8600  0.8600  0.8641  0.8585  0.8613  0.0032  \n",
      "PREC_15 (testset) 0.3423  0.3443  0.3239  0.3218  0.3303  0.3417  0.3205  0.3405  0.3468  0.3420  0.3354  0.0096  \n",
      "REC_15 (testset)  0.2232  0.2301  0.2156  0.2259  0.2207  0.2234  0.2180  0.2369  0.2291  0.2261  0.2249  0.0059  \n",
      "NDCG_15 (testset) 0.8741  0.8817  0.8759  0.8749  0.8804  0.8810  0.8772  0.8771  0.8812  0.8760  0.8780  0.0027  \n",
      "Fit time          503.20  507.85  498.00  720.91  721.68  500.69  647.83  567.43  654.09  560.22  588.19  86.03   \n",
      "Test time         0.08    0.08    0.07    0.07    0.07    0.08    0.07    0.08    0.07    0.08    0.08    0.00    \n",
      "728.8359282016754\n"
     ]
    }
   ],
   "source": [
    "algo = CoSVDv9(verbose=False, n_epochs=65, lr_all=0.0028, n_factors=40, tags=raw_tags, random_state=123)\n",
    "\n",
    "start = time.time()\n",
    "cross_validate(algo, data, measures=m_list, cv=cv, verbose=True, n_jobs=-1)\n",
    "print(time.time() - start)"
   ]
  },
  {
   "cell_type": "markdown",
   "metadata": {},
   "source": [
    "### CoSVD (F=30)"
   ]
  },
  {
   "cell_type": "code",
   "execution_count": 15,
   "metadata": {},
   "outputs": [
    {
     "name": "stdout",
     "output_type": "stream",
     "text": [
      "Evaluating RMSE, MAE, PREC_5, REC_5, NDCG_5, PREC_10, REC_10, NDCG_10, PREC_15, REC_15, NDCG_15 of algorithm CoSVDv9 on 10 split(s).\n",
      "\n",
      "                  Fold 1  Fold 2  Fold 3  Fold 4  Fold 5  Fold 6  Fold 7  Fold 8  Fold 9  Fold 10 Mean    Std     \n",
      "RMSE (testset)    0.8634  0.8558  0.8655  0.8636  0.8624  0.8432  0.8467  0.8450  0.8544  0.8525  0.8553  0.0079  \n",
      "MAE (testset)     0.6588  0.6547  0.6635  0.6600  0.6665  0.6443  0.6552  0.6440  0.6538  0.6514  0.6552  0.0070  \n",
      "PREC_5 (testset)  0.3438  0.3420  0.3202  0.3453  0.3314  0.3455  0.3200  0.3436  0.3484  0.3310  0.3371  0.0101  \n",
      "REC_5 (testset)   0.1899  0.1905  0.1801  0.2003  0.1891  0.1895  0.1798  0.1905  0.1975  0.1866  0.1894  0.0061  \n",
      "NDCG_5 (testset)  0.8160  0.8245  0.8291  0.8234  0.8296  0.8350  0.8242  0.8226  0.8281  0.8249  0.8257  0.0048  \n",
      "PREC_10 (testset) 0.3416  0.3387  0.3188  0.3423  0.3274  0.3393  0.3201  0.3426  0.3465  0.3315  0.3349  0.0093  \n",
      "REC_10 (testset)  0.2143  0.2166  0.2042  0.2268  0.2153  0.2159  0.2039  0.2189  0.2244  0.2122  0.2152  0.0070  \n",
      "NDCG_10 (testset) 0.8564  0.8646  0.8631  0.8597  0.8630  0.8701  0.8624  0.8593  0.8640  0.8608  0.8624  0.0035  \n",
      "PREC_15 (testset) 0.3414  0.3365  0.3172  0.3407  0.3265  0.3388  0.3182  0.3419  0.3458  0.3302  0.3337  0.0097  \n",
      "REC_15 (testset)  0.2234  0.2277  0.2142  0.2374  0.2264  0.2270  0.2130  0.2293  0.2333  0.2229  0.2255  0.0072  \n",
      "NDCG_15 (testset) 0.8722  0.8817  0.8801  0.8760  0.8806  0.8858  0.8790  0.8762  0.8800  0.8798  0.8792  0.0035  \n",
      "Fit time          533.32  498.12  587.87  696.07  492.20  503.51  673.36  623.26  616.28  634.05  585.80  71.04   \n",
      "Test time         0.07    0.08    0.07    0.07    0.07    0.07    0.07    0.07    0.07    0.07    0.07    0.00    \n",
      "701.7863667011261\n"
     ]
    }
   ],
   "source": [
    "algo = CoSVDv9(verbose=False, n_epochs=65, lr_all=0.0028, n_factors=30, tags=raw_tags, random_state=123)\n",
    "\n",
    "start = time.time()\n",
    "cross_validate(algo, data, measures=m_list, cv=cv, verbose=True, n_jobs=-1)\n",
    "print(time.time() - start)"
   ]
  },
  {
   "cell_type": "markdown",
   "metadata": {},
   "source": [
    "### CoSVD(F=20)"
   ]
  },
  {
   "cell_type": "code",
   "execution_count": 16,
   "metadata": {},
   "outputs": [
    {
     "name": "stdout",
     "output_type": "stream",
     "text": [
      "Evaluating RMSE, MAE, PREC_5, REC_5, NDCG_5, PREC_10, REC_10, NDCG_10, PREC_15, REC_15, NDCG_15 of algorithm CoSVDv9 on 10 split(s).\n",
      "\n",
      "                  Fold 1  Fold 2  Fold 3  Fold 4  Fold 5  Fold 6  Fold 7  Fold 8  Fold 9  Fold 10 Mean    Std     \n",
      "RMSE (testset)    0.8621  0.8591  0.8648  0.8649  0.8597  0.8432  0.8445  0.8464  0.8532  0.8522  0.8550  0.0079  \n",
      "MAE (testset)     0.6608  0.6578  0.6630  0.6607  0.6636  0.6446  0.6508  0.6466  0.6532  0.6511  0.6552  0.0065  \n",
      "PREC_5 (testset)  0.3328  0.3429  0.3229  0.3377  0.3213  0.3272  0.3224  0.3364  0.3486  0.3393  0.3331  0.0089  \n",
      "REC_5 (testset)   0.1845  0.1897  0.1806  0.1907  0.1830  0.1825  0.1902  0.1954  0.2002  0.1908  0.1888  0.0058  \n",
      "NDCG_5 (testset)  0.8132  0.8222  0.8280  0.8234  0.8269  0.8318  0.8281  0.8209  0.8197  0.8223  0.8236  0.0050  \n",
      "PREC_10 (testset) 0.3323  0.3428  0.3203  0.3323  0.3200  0.3236  0.3227  0.3359  0.3494  0.3385  0.3318  0.0096  \n",
      "REC_10 (testset)  0.2104  0.2166  0.2045  0.2162  0.2083  0.2096  0.2159  0.2244  0.2267  0.2151  0.2148  0.0066  \n",
      "NDCG_10 (testset) 0.8525  0.8627  0.8623  0.8584  0.8615  0.8700  0.8614  0.8595  0.8574  0.8599  0.8606  0.0042  \n",
      "PREC_15 (testset) 0.3306  0.3415  0.3182  0.3306  0.3193  0.3223  0.3214  0.3351  0.3489  0.3383  0.3306  0.0099  \n",
      "REC_15 (testset)  0.2181  0.2284  0.2140  0.2273  0.2197  0.2207  0.2256  0.2350  0.2361  0.2263  0.2251  0.0068  \n",
      "NDCG_15 (testset) 0.8701  0.8794  0.8788  0.8750  0.8796  0.8851  0.8789  0.8756  0.8749  0.8776  0.8775  0.0038  \n",
      "Fit time          591.32  723.39  502.25  503.93  622.44  494.65  703.97  622.87  592.67  505.70  586.32  80.06   \n",
      "Test time         0.07    0.07    0.07    0.07    0.07    0.07    0.07    0.07    0.07    0.07    0.07    0.00    \n",
      "727.2036986351013\n"
     ]
    }
   ],
   "source": [
    "algo = CoSVDv9(verbose=False, n_epochs=65, lr_all=0.0028, n_factors=20, tags=raw_tags, random_state=123)\n",
    "\n",
    "start = time.time()\n",
    "cross_validate(algo, data, measures=m_list, cv=cv, verbose=True, n_jobs=-1)\n",
    "print(time.time() - start)"
   ]
  },
  {
   "cell_type": "markdown",
   "metadata": {},
   "source": [
    "### SVD(F=40)"
   ]
  },
  {
   "cell_type": "code",
   "execution_count": 17,
   "metadata": {},
   "outputs": [
    {
     "name": "stdout",
     "output_type": "stream",
     "text": [
      "Evaluating RMSE, MAE, PREC_5, REC_5, NDCG_5, PREC_10, REC_10, NDCG_10, PREC_15, REC_15, NDCG_15 of algorithm SVD on 10 split(s).\n",
      "\n",
      "                  Fold 1  Fold 2  Fold 3  Fold 4  Fold 5  Fold 6  Fold 7  Fold 8  Fold 9  Fold 10 Mean    Std     \n",
      "RMSE (testset)    0.8492  0.8521  0.8563  0.8542  0.8507  0.8334  0.8369  0.8336  0.8448  0.8384  0.8450  0.0083  \n",
      "MAE (testset)     0.6494  0.6517  0.6551  0.6525  0.6569  0.6360  0.6440  0.6371  0.6462  0.6391  0.6468  0.0072  \n",
      "PREC_5 (testset)  0.3295  0.3375  0.3268  0.3329  0.3266  0.3356  0.3187  0.3312  0.3386  0.3314  0.3309  0.0056  \n",
      "REC_5 (testset)   0.1877  0.1888  0.1779  0.1928  0.1829  0.1827  0.1823  0.1930  0.1961  0.1803  0.1864  0.0058  \n",
      "NDCG_5 (testset)  0.8290  0.8279  0.8336  0.8318  0.8380  0.8373  0.8318  0.8266  0.8306  0.8319  0.8318  0.0035  \n",
      "PREC_10 (testset) 0.3271  0.3350  0.3230  0.3307  0.3232  0.3322  0.3166  0.3285  0.3368  0.3311  0.3284  0.0058  \n",
      "REC_10 (testset)  0.2118  0.2130  0.2013  0.2195  0.2069  0.2098  0.2049  0.2207  0.2205  0.2061  0.2114  0.0066  \n",
      "NDCG_10 (testset) 0.8628  0.8644  0.8675  0.8655  0.8711  0.8736  0.8643  0.8613  0.8679  0.8669  0.8665  0.0035  \n",
      "PREC_15 (testset) 0.3260  0.3332  0.3229  0.3298  0.3224  0.3305  0.3157  0.3281  0.3358  0.3302  0.3275  0.0056  \n",
      "REC_15 (testset)  0.2209  0.2247  0.2130  0.2305  0.2185  0.2211  0.2142  0.2319  0.2296  0.2158  0.2220  0.0066  \n",
      "NDCG_15 (testset) 0.8813  0.8816  0.8829  0.8801  0.8878  0.8877  0.8820  0.8795  0.8846  0.8836  0.8831  0.0027  \n",
      "Fit time          4.97    4.89    4.90    4.88    5.06    4.94    5.05    5.21    4.85    4.94    4.97    0.11    \n",
      "Test time         0.05    0.05    0.05    0.05    0.05    0.05    0.05    0.05    0.05    0.05    0.05    0.00    \n",
      "16.031760215759277\n"
     ]
    }
   ],
   "source": [
    "algo = SVD(verbose=False, n_epochs=60, lr_all=0.008, reg_all=0.09, n_factors=40, random_state=123)\n",
    "\n",
    "start = time.time()\n",
    "cross_validate(algo, data, measures=m_list, cv=cv, verbose=True, n_jobs=-1)\n",
    "print(time.time() - start)"
   ]
  },
  {
   "cell_type": "markdown",
   "metadata": {},
   "source": [
    "### SVD(F=30)"
   ]
  },
  {
   "cell_type": "code",
   "execution_count": 18,
   "metadata": {},
   "outputs": [
    {
     "name": "stdout",
     "output_type": "stream",
     "text": [
      "Evaluating RMSE, MAE, PREC_5, REC_5, NDCG_5, PREC_10, REC_10, NDCG_10, PREC_15, REC_15, NDCG_15 of algorithm SVD on 10 split(s).\n",
      "\n",
      "                  Fold 1  Fold 2  Fold 3  Fold 4  Fold 5  Fold 6  Fold 7  Fold 8  Fold 9  Fold 10 Mean    Std     \n",
      "RMSE (testset)    0.8523  0.8483  0.8554  0.8531  0.8534  0.8352  0.8369  0.8352  0.8449  0.8424  0.8457  0.0075  \n",
      "MAE (testset)     0.6497  0.6489  0.6547  0.6520  0.6589  0.6369  0.6451  0.6378  0.6462  0.6423  0.6473  0.0067  \n",
      "PREC_5 (testset)  0.3378  0.3520  0.3349  0.3409  0.3208  0.3352  0.3227  0.3332  0.3489  0.3312  0.3358  0.0094  \n",
      "REC_5 (testset)   0.1855  0.2012  0.1846  0.1980  0.1819  0.1818  0.1852  0.1931  0.2005  0.1820  0.1894  0.0076  \n",
      "NDCG_5 (testset)  0.8227  0.8301  0.8307  0.8288  0.8310  0.8371  0.8228  0.8237  0.8272  0.8291  0.8283  0.0042  \n",
      "PREC_10 (testset) 0.3383  0.3491  0.3333  0.3380  0.3181  0.3290  0.3220  0.3326  0.3476  0.3314  0.3339  0.0094  \n",
      "REC_10 (testset)  0.2107  0.2248  0.2079  0.2240  0.2078  0.2073  0.2087  0.2207  0.2258  0.2082  0.2146  0.0077  \n",
      "NDCG_10 (testset) 0.8616  0.8681  0.8654  0.8654  0.8664  0.8719  0.8593  0.8597  0.8642  0.8629  0.8645  0.0037  \n",
      "PREC_15 (testset) 0.3364  0.3474  0.3322  0.3371  0.3170  0.3281  0.3207  0.3321  0.3466  0.3305  0.3328  0.0093  \n",
      "REC_15 (testset)  0.2185  0.2365  0.2184  0.2351  0.2187  0.2190  0.2181  0.2318  0.2351  0.2187  0.2250  0.0080  \n",
      "NDCG_15 (testset) 0.8777  0.8863  0.8814  0.8805  0.8826  0.8874  0.8770  0.8770  0.8806  0.8807  0.8811  0.0034  \n",
      "Fit time          4.12    4.06    4.25    4.16    4.13    4.23    4.22    4.15    4.22    4.10    4.16    0.06    \n",
      "Test time         0.07    0.07    0.07    0.07    0.08    0.07    0.05    0.05    0.05    0.05    0.06    0.01    \n",
      "15.058013439178467\n"
     ]
    }
   ],
   "source": [
    "algo = SVD(verbose=False, n_epochs=60, lr_all=0.008, reg_all=0.09, n_factors=30, random_state=123)\n",
    "\n",
    "start = time.time()\n",
    "cross_validate(algo, data, measures=m_list, cv=cv, verbose=True, n_jobs=-1)\n",
    "print(time.time() - start)"
   ]
  },
  {
   "cell_type": "markdown",
   "metadata": {},
   "source": [
    "### SVD(F=20)"
   ]
  },
  {
   "cell_type": "code",
   "execution_count": 19,
   "metadata": {},
   "outputs": [
    {
     "name": "stdout",
     "output_type": "stream",
     "text": [
      "Evaluating RMSE, MAE, PREC_5, REC_5, NDCG_5, PREC_10, REC_10, NDCG_10, PREC_15, REC_15, NDCG_15 of algorithm SVD on 10 split(s).\n",
      "\n",
      "                  Fold 1  Fold 2  Fold 3  Fold 4  Fold 5  Fold 6  Fold 7  Fold 8  Fold 9  Fold 10 Mean    Std     \n",
      "RMSE (testset)    0.8543  0.8515  0.8581  0.8568  0.8532  0.8364  0.8364  0.8382  0.8474  0.8447  0.8477  0.0080  \n",
      "MAE (testset)     0.6533  0.6513  0.6571  0.6554  0.6585  0.6375  0.6434  0.6404  0.6483  0.6444  0.6490  0.0069  \n",
      "PREC_5 (testset)  0.3374  0.3501  0.3319  0.3463  0.3153  0.3380  0.3189  0.3498  0.3387  0.3358  0.3362  0.0112  \n",
      "REC_5 (testset)   0.1859  0.1969  0.1829  0.1936  0.1819  0.1830  0.1857  0.1971  0.1943  0.1882  0.1890  0.0057  \n",
      "NDCG_5 (testset)  0.8214  0.8284  0.8332  0.8276  0.8315  0.8348  0.8269  0.8213  0.8187  0.8242  0.8268  0.0051  \n",
      "PREC_10 (testset) 0.3355  0.3485  0.3300  0.3450  0.3122  0.3352  0.3174  0.3466  0.3394  0.3356  0.3345  0.0113  \n",
      "REC_10 (testset)  0.2110  0.2222  0.2064  0.2197  0.2063  0.2103  0.2108  0.2243  0.2200  0.2133  0.2144  0.0062  \n",
      "NDCG_10 (testset) 0.8591  0.8667  0.8669  0.8629  0.8655  0.8708  0.8615  0.8589  0.8582  0.8620  0.8632  0.0039  \n",
      "PREC_15 (testset) 0.3346  0.3479  0.3286  0.3440  0.3115  0.3336  0.3168  0.3464  0.3381  0.3351  0.3337  0.0114  \n",
      "REC_15 (testset)  0.2197  0.2338  0.2168  0.2306  0.2180  0.2211  0.2200  0.2354  0.2288  0.2242  0.2248  0.0064  \n",
      "NDCG_15 (testset) 0.8763  0.8844  0.8826  0.8786  0.8824  0.8857  0.8788  0.8769  0.8752  0.8796  0.8800  0.0034  \n",
      "Fit time          3.44    3.41    3.45    3.47    3.45    3.45    3.49    3.63    3.38    3.48    3.46    0.06    \n",
      "Test time         0.05    0.05    0.05    0.05    0.05    0.05    0.07    0.08    0.07    0.07    0.06    0.01    \n",
      "14.255647659301758\n"
     ]
    }
   ],
   "source": [
    "algo = SVD(verbose=False, n_epochs=60, lr_all=0.008, reg_all=0.09, n_factors=20, random_state=123)\n",
    "\n",
    "start = time.time()\n",
    "cross_validate(algo, data, measures=m_list, cv=cv, verbose=True, n_jobs=-1)\n",
    "print(time.time() - start)"
   ]
  },
  {
   "cell_type": "markdown",
   "metadata": {},
   "source": [
    "## SVD++(F=40)"
   ]
  },
  {
   "cell_type": "code",
   "execution_count": 8,
   "metadata": {},
   "outputs": [
    {
     "name": "stdout",
     "output_type": "stream",
     "text": [
      "Evaluating RMSE, MAE, PREC_5, REC_5, NDCG_5, PREC_10, REC_10, NDCG_10, PREC_15, REC_15, NDCG_15 of algorithm SVDpp on 10 split(s).\n",
      "\n",
      "                  Fold 1  Fold 2  Fold 3  Fold 4  Fold 5  Fold 6  Fold 7  Fold 8  Fold 9  Fold 10 Mean    Std     \n",
      "RMSE (testset)    0.8688  0.8691  0.8733  0.8690  0.8701  0.8492  0.8481  0.8495  0.8633  0.8551  0.8615  0.0095  \n",
      "MAE (testset)     0.6647  0.6648  0.6706  0.6658  0.6732  0.6475  0.6538  0.6514  0.6630  0.6554  0.6610  0.0081  \n",
      "PREC_5 (testset)  0.3183  0.3395  0.3164  0.3180  0.3096  0.3278  0.3152  0.3287  0.3093  0.3182  0.3201  0.0089  \n",
      "REC_5 (testset)   0.1711  0.1780  0.1735  0.1809  0.1762  0.1731  0.1730  0.1778  0.1713  0.1770  0.1752  0.0031  \n",
      "NDCG_5 (testset)  0.8133  0.8212  0.8228  0.8288  0.8201  0.8285  0.8310  0.8166  0.8202  0.8177  0.8220  0.0055  \n",
      "PREC_10 (testset) 0.3154  0.3386  0.3131  0.3152  0.3089  0.3211  0.3116  0.3267  0.3089  0.3179  0.3178  0.0087  \n",
      "REC_10 (testset)  0.1970  0.2052  0.1989  0.2069  0.2030  0.1999  0.1968  0.2066  0.1977  0.2019  0.2014  0.0037  \n",
      "NDCG_10 (testset) 0.8520  0.8602  0.8569  0.8619  0.8585  0.8636  0.8641  0.8541  0.8609  0.8564  0.8589  0.0038  \n",
      "PREC_15 (testset) 0.3139  0.3373  0.3120  0.3137  0.3074  0.3199  0.3110  0.3251  0.3076  0.3175  0.3166  0.0086  \n",
      "REC_15 (testset)  0.2068  0.2173  0.2095  0.2181  0.2143  0.2114  0.2061  0.2172  0.2069  0.2123  0.2120  0.0044  \n",
      "NDCG_15 (testset) 0.8705  0.8775  0.8726  0.8789  0.8761  0.8795  0.8816  0.8722  0.8766  0.8747  0.8760  0.0034  \n",
      "Fit time          1915.52 1701.20 1540.29 1728.47 1550.18 1517.01 2054.91 1440.99 1778.62 1758.47 1698.57 182.02  \n",
      "Test time         2.98    2.97    3.23    2.97    3.15    3.49    3.06    3.26    2.98    3.09    3.12    0.16    \n",
      "2066.643851518631\n"
     ]
    }
   ],
   "source": [
    "algo = SVDpp(verbose=False, n_epochs=45, lr_all=0.0012, reg_all=0.0012, n_factors=40, random_state=123)\n",
    "\n",
    "start = time.time()\n",
    "cross_validate(algo, data, measures=m_list, cv=cv, verbose=True, n_jobs=-1)\n",
    "print(time.time() - start)"
   ]
  },
  {
   "cell_type": "markdown",
   "metadata": {},
   "source": [
    "## SVD++(F=30)"
   ]
  },
  {
   "cell_type": "code",
   "execution_count": 9,
   "metadata": {},
   "outputs": [
    {
     "name": "stdout",
     "output_type": "stream",
     "text": [
      "Evaluating RMSE, MAE, PREC_5, REC_5, NDCG_5, PREC_10, REC_10, NDCG_10, PREC_15, REC_15, NDCG_15 of algorithm SVDpp on 10 split(s).\n",
      "\n",
      "                  Fold 1  Fold 2  Fold 3  Fold 4  Fold 5  Fold 6  Fold 7  Fold 8  Fold 9  Fold 10 Mean    Std     \n",
      "RMSE (testset)    0.8681  0.8604  0.8706  0.8649  0.8681  0.8471  0.8484  0.8484  0.8609  0.8581  0.8595  0.0084  \n",
      "MAE (testset)     0.6637  0.6598  0.6678  0.6619  0.6711  0.6469  0.6552  0.6501  0.6611  0.6562  0.6594  0.0071  \n",
      "PREC_5 (testset)  0.3145  0.3320  0.3102  0.3303  0.3075  0.3081  0.2923  0.3134  0.3287  0.2950  0.3132  0.0131  \n",
      "REC_5 (testset)   0.1710  0.1785  0.1739  0.1814  0.1769  0.1671  0.1659  0.1772  0.1859  0.1656  0.1743  0.0065  \n",
      "NDCG_5 (testset)  0.8114  0.8263  0.8218  0.8263  0.8235  0.8312  0.8262  0.8149  0.8236  0.8167  0.8222  0.0058  \n",
      "PREC_10 (testset) 0.3117  0.3272  0.3088  0.3270  0.3060  0.3053  0.2894  0.3132  0.3254  0.2941  0.3108  0.0124  \n",
      "REC_10 (testset)  0.1962  0.2033  0.1978  0.2084  0.2035  0.1937  0.1878  0.2065  0.2101  0.1904  0.1998  0.0073  \n",
      "NDCG_10 (testset) 0.8521  0.8629  0.8564  0.8630  0.8585  0.8675  0.8630  0.8524  0.8598  0.8539  0.8590  0.0050  \n",
      "PREC_15 (testset) 0.3104  0.3261  0.3077  0.3248  0.3056  0.3040  0.2885  0.3124  0.3253  0.2934  0.3098  0.0123  \n",
      "REC_15 (testset)  0.2054  0.2161  0.2081  0.2187  0.2149  0.2047  0.1968  0.2176  0.2197  0.2014  0.2104  0.0077  \n",
      "NDCG_15 (testset) 0.8697  0.8805  0.8735  0.8784  0.8766  0.8826  0.8795  0.8709  0.8772  0.8726  0.8761  0.0041  \n",
      "Fit time          1403.90 1614.91 1409.99 1189.67 1184.46 1220.77 1153.45 1293.22 1649.53 1672.28 1379.22 193.23  \n",
      "Test time         2.96    2.89    3.03    3.15    3.15    3.11    3.18    3.01    2.90    3.02    3.04    0.10    \n",
      "1687.9897615909576\n"
     ]
    }
   ],
   "source": [
    "algo = SVDpp(verbose=False, n_epochs=45, lr_all=0.0012, reg_all=0.0012, n_factors=30, random_state=123)\n",
    "\n",
    "start = time.time()\n",
    "cross_validate(algo, data, measures=m_list, cv=cv, verbose=True, n_jobs=-1)\n",
    "print(time.time() - start)"
   ]
  },
  {
   "cell_type": "markdown",
   "metadata": {},
   "source": [
    "## SVD++(F=20)"
   ]
  },
  {
   "cell_type": "code",
   "execution_count": 10,
   "metadata": {},
   "outputs": [
    {
     "name": "stdout",
     "output_type": "stream",
     "text": [
      "Evaluating RMSE, MAE, PREC_5, REC_5, NDCG_5, PREC_10, REC_10, NDCG_10, PREC_15, REC_15, NDCG_15 of algorithm SVDpp on 10 split(s).\n",
      "\n",
      "                  Fold 1  Fold 2  Fold 3  Fold 4  Fold 5  Fold 6  Fold 7  Fold 8  Fold 9  Fold 10 Mean    Std     \n",
      "RMSE (testset)    0.8642  0.8637  0.8695  0.8646  0.8655  0.8478  0.8449  0.8471  0.8591  0.8569  0.8583  0.0084  \n",
      "MAE (testset)     0.6609  0.6617  0.6662  0.6606  0.6690  0.6489  0.6511  0.6489  0.6590  0.6563  0.6583  0.0066  \n",
      "PREC_5 (testset)  0.3101  0.3194  0.3119  0.3247  0.3025  0.3152  0.3030  0.3174  0.3187  0.2953  0.3118  0.0087  \n",
      "REC_5 (testset)   0.1679  0.1722  0.1724  0.1838  0.1657  0.1734  0.1674  0.1817  0.1806  0.1709  0.1736  0.0060  \n",
      "NDCG_5 (testset)  0.8164  0.8204  0.8242  0.8280  0.8214  0.8340  0.8310  0.8187  0.8234  0.8172  0.8235  0.0056  \n",
      "PREC_10 (testset) 0.3086  0.3184  0.3093  0.3210  0.2993  0.3114  0.3003  0.3139  0.3171  0.2941  0.3093  0.0085  \n",
      "REC_10 (testset)  0.1935  0.1996  0.1978  0.2098  0.1913  0.2018  0.1914  0.2110  0.2048  0.1944  0.1995  0.0069  \n",
      "NDCG_10 (testset) 0.8533  0.8604  0.8582  0.8638  0.8584  0.8703  0.8633  0.8554  0.8590  0.8545  0.8596  0.0048  \n",
      "PREC_15 (testset) 0.3082  0.3168  0.3095  0.3198  0.2988  0.3094  0.2989  0.3138  0.3159  0.2929  0.3084  0.0084  \n",
      "REC_15 (testset)  0.2031  0.2118  0.2085  0.2213  0.2026  0.2128  0.2006  0.2224  0.2139  0.2055  0.2103  0.0072  \n",
      "NDCG_15 (testset) 0.8711  0.8777  0.8751  0.8793  0.8755  0.8856  0.8804  0.8737  0.8762  0.8736  0.8768  0.0039  \n",
      "Fit time          1304.15 1195.32 898.73  1078.78 887.82  1117.28 889.30  1288.85 889.23  997.79  1054.73 158.58  \n",
      "Test time         2.88    2.98    2.98    2.83    3.13    3.18    3.01    2.98    3.21    2.91    3.01    0.12    \n",
      "1309.7933797836304\n"
     ]
    }
   ],
   "source": [
    "algo = SVDpp(verbose=False, n_epochs=45, lr_all=0.0012, reg_all=0.0012, n_factors=20, random_state=123)\n",
    "\n",
    "start = time.time()\n",
    "cross_validate(algo, data, measures=m_list, cv=cv, verbose=True, n_jobs=-1)\n",
    "print(time.time() - start)"
   ]
  },
  {
   "cell_type": "markdown",
   "metadata": {},
   "source": [
    "## NMF(F=40)"
   ]
  },
  {
   "cell_type": "code",
   "execution_count": 11,
   "metadata": {},
   "outputs": [
    {
     "name": "stdout",
     "output_type": "stream",
     "text": [
      "Evaluating RMSE, MAE, PREC_5, REC_5, NDCG_5, PREC_10, REC_10, NDCG_10, PREC_15, REC_15, NDCG_15 of algorithm NMF on 10 split(s).\n",
      "\n",
      "                  Fold 1  Fold 2  Fold 3  Fold 4  Fold 5  Fold 6  Fold 7  Fold 8  Fold 9  Fold 10 Mean    Std     \n",
      "RMSE (testset)    0.8914  0.8856  0.9005  0.8905  0.8941  0.8767  0.8750  0.8672  0.8836  0.8780  0.8843  0.0096  \n",
      "MAE (testset)     0.6824  0.6767  0.6906  0.6817  0.6869  0.6685  0.6725  0.6638  0.6760  0.6732  0.6772  0.0079  \n",
      "PREC_5 (testset)  0.3279  0.3196  0.3109  0.3314  0.3273  0.3226  0.3123  0.3306  0.3117  0.3248  0.3219  0.0075  \n",
      "REC_5 (testset)   0.1793  0.1838  0.1760  0.1876  0.1868  0.1823  0.1866  0.1888  0.1802  0.1845  0.1836  0.0039  \n",
      "NDCG_5 (testset)  0.8108  0.8192  0.8161  0.8164  0.8148  0.8229  0.8189  0.8079  0.8122  0.8144  0.8153  0.0042  \n",
      "PREC_10 (testset) 0.3261  0.3185  0.3061  0.3302  0.3243  0.3196  0.3094  0.3288  0.3109  0.3262  0.3200  0.0082  \n",
      "REC_10 (testset)  0.2035  0.2092  0.1975  0.2147  0.2105  0.2082  0.2087  0.2153  0.2038  0.2087  0.2080  0.0051  \n",
      "NDCG_10 (testset) 0.8512  0.8601  0.8535  0.8552  0.8552  0.8610  0.8565  0.8506  0.8521  0.8522  0.8548  0.0034  \n",
      "PREC_15 (testset) 0.3259  0.3173  0.3048  0.3279  0.3233  0.3181  0.3085  0.3289  0.3106  0.3250  0.3190  0.0082  \n",
      "REC_15 (testset)  0.2127  0.2212  0.2079  0.2248  0.2209  0.2185  0.2178  0.2257  0.2131  0.2193  0.2182  0.0053  \n",
      "NDCG_15 (testset) 0.8700  0.8763  0.8699  0.8715  0.8726  0.8781  0.8748  0.8699  0.8709  0.8725  0.8727  0.0027  \n",
      "Fit time          4.99    4.97    4.98    5.06    5.09    5.10    5.04    5.01    5.04    4.92    5.02    0.05    \n",
      "Test time         0.07    0.07    0.07    0.07    0.07    0.07    0.06    0.07    0.07    0.06    0.07    0.00    \n",
      "16.509015798568726\n"
     ]
    }
   ],
   "source": [
    "algo = NMF(verbose=False, n_epochs=40, reg_pu=0.19, reg_qi=0.08, lr_bu=0.001, lr_bi=0.001, reg_bu=0.001, reg_bi=0.001, n_factors=40, random_state=123)\n",
    "\n",
    "start = time.time()\n",
    "cross_validate(algo, data, measures=m_list, cv=cv, verbose=True, n_jobs=-1)\n",
    "print(time.time() - start)"
   ]
  },
  {
   "cell_type": "markdown",
   "metadata": {},
   "source": [
    "## NMF(F=30)"
   ]
  },
  {
   "cell_type": "code",
   "execution_count": 12,
   "metadata": {},
   "outputs": [
    {
     "name": "stdout",
     "output_type": "stream",
     "text": [
      "Evaluating RMSE, MAE, PREC_5, REC_5, NDCG_5, PREC_10, REC_10, NDCG_10, PREC_15, REC_15, NDCG_15 of algorithm NMF on 10 split(s).\n",
      "\n",
      "                  Fold 1  Fold 2  Fold 3  Fold 4  Fold 5  Fold 6  Fold 7  Fold 8  Fold 9  Fold 10 Mean    Std     \n",
      "RMSE (testset)    0.8984  0.8912  0.9035  0.8924  0.8973  0.8800  0.8769  0.8719  0.8877  0.8821  0.8882  0.0097  \n",
      "MAE (testset)     0.6906  0.6841  0.6946  0.6852  0.6926  0.6737  0.6754  0.6702  0.6812  0.6791  0.6827  0.0078  \n",
      "PREC_5 (testset)  0.3049  0.3196  0.3151  0.3261  0.3108  0.3015  0.3093  0.3175  0.3243  0.3065  0.3136  0.0079  \n",
      "REC_5 (testset)   0.1649  0.1741  0.1795  0.1869  0.1776  0.1714  0.1786  0.1819  0.1799  0.1726  0.1767  0.0059  \n",
      "NDCG_5 (testset)  0.8070  0.8185  0.8141  0.8187  0.8102  0.8196  0.8183  0.8005  0.8146  0.8129  0.8134  0.0058  \n",
      "PREC_10 (testset) 0.3033  0.3175  0.3149  0.3228  0.3083  0.3002  0.3063  0.3179  0.3238  0.3053  0.3120  0.0080  \n",
      "REC_10 (testset)  0.1873  0.1969  0.2012  0.2119  0.1988  0.1972  0.1992  0.2075  0.2024  0.1956  0.1998  0.0064  \n",
      "NDCG_10 (testset) 0.8476  0.8576  0.8535  0.8551  0.8512  0.8610  0.8551  0.8455  0.8523  0.8518  0.8531  0.0043  \n",
      "PREC_15 (testset) 0.3029  0.3164  0.3144  0.3220  0.3082  0.2990  0.3061  0.3180  0.3226  0.3040  0.3114  0.0080  \n",
      "REC_15 (testset)  0.1955  0.2081  0.2117  0.2218  0.2088  0.2070  0.2084  0.2172  0.2111  0.2046  0.2094  0.0067  \n",
      "NDCG_15 (testset) 0.8663  0.8746  0.8706  0.8728  0.8705  0.8777  0.8736  0.8650  0.8708  0.8706  0.8712  0.0035  \n",
      "Fit time          4.09    4.13    4.19    4.18    4.17    4.38    4.21    4.20    4.19    4.10    4.18    0.08    \n",
      "Test time         0.08    0.07    0.07    0.07    0.07    0.07    0.07    0.06    0.07    0.06    0.07    0.00    \n",
      "14.921264410018921\n"
     ]
    }
   ],
   "source": [
    "algo = NMF(verbose=False, n_epochs=40, reg_pu=0.19, reg_qi=0.08, lr_bu=0.001, lr_bi=0.001, reg_bu=0.001, reg_bi=0.001, n_factors=30, random_state=123)\n",
    "\n",
    "start = time.time()\n",
    "cross_validate(algo, data, measures=m_list, cv=cv, verbose=True, n_jobs=-1)\n",
    "print(time.time() - start)"
   ]
  },
  {
   "cell_type": "markdown",
   "metadata": {},
   "source": [
    "## NMF(F=20)"
   ]
  },
  {
   "cell_type": "code",
   "execution_count": 13,
   "metadata": {},
   "outputs": [
    {
     "name": "stdout",
     "output_type": "stream",
     "text": [
      "Evaluating RMSE, MAE, PREC_5, REC_5, NDCG_5, PREC_10, REC_10, NDCG_10, PREC_15, REC_15, NDCG_15 of algorithm NMF on 10 split(s).\n",
      "\n",
      "                  Fold 1  Fold 2  Fold 3  Fold 4  Fold 5  Fold 6  Fold 7  Fold 8  Fold 9  Fold 10 Mean    Std     \n",
      "RMSE (testset)    0.8994  0.8960  0.9091  0.8964  0.9024  0.8868  0.8827  0.8779  0.8926  0.8881  0.8931  0.0090  \n",
      "MAE (testset)     0.6944  0.6902  0.7017  0.6903  0.6988  0.6819  0.6826  0.6772  0.6869  0.6870  0.6891  0.0073  \n",
      "PREC_5 (testset)  0.2954  0.3201  0.2965  0.3097  0.2911  0.2976  0.2946  0.3000  0.3069  0.2986  0.3011  0.0083  \n",
      "REC_5 (testset)   0.1542  0.1635  0.1624  0.1805  0.1588  0.1573  0.1642  0.1631  0.1622  0.1661  0.1632  0.0067  \n",
      "NDCG_5 (testset)  0.8049  0.8164  0.8130  0.8139  0.8081  0.8205  0.8134  0.8045  0.8156  0.8078  0.8118  0.0050  \n",
      "PREC_10 (testset) 0.2951  0.3209  0.2955  0.3089  0.2908  0.2953  0.2928  0.2992  0.3088  0.2981  0.3005  0.0089  \n",
      "REC_10 (testset)  0.1755  0.1863  0.1814  0.2055  0.1811  0.1804  0.1829  0.1868  0.1829  0.1868  0.1849  0.0076  \n",
      "NDCG_10 (testset) 0.8467  0.8570  0.8517  0.8540  0.8494  0.8592  0.8529  0.8466  0.8527  0.8466  0.8517  0.0042  \n",
      "PREC_15 (testset) 0.2947  0.3200  0.2942  0.3080  0.2900  0.2949  0.2919  0.2995  0.3085  0.2970  0.2999  0.0089  \n",
      "REC_15 (testset)  0.1833  0.1963  0.1903  0.2142  0.1909  0.1895  0.1902  0.1965  0.1914  0.1946  0.1937  0.0077  \n",
      "NDCG_15 (testset) 0.8651  0.8739  0.8689  0.8705  0.8691  0.8763  0.8711  0.8665  0.8717  0.8666  0.8700  0.0033  \n",
      "Fit time          3.30    3.28    3.35    3.31    3.30    3.46    3.35    3.30    3.27    3.25    3.32    0.06    \n",
      "Test time         0.07    0.07    0.07    0.07    0.07    0.07    0.07    0.07    0.06    0.06    0.07    0.00    \n",
      "13.984876155853271\n"
     ]
    }
   ],
   "source": [
    "algo = NMF(verbose=False, n_epochs=40, reg_pu=0.19, reg_qi=0.08, lr_bu=0.001, lr_bi=0.001, reg_bu=0.001, reg_bi=0.001, n_factors=20, random_state=123)\n",
    "\n",
    "start = time.time()\n",
    "cross_validate(algo, data, measures=m_list, cv=cv, verbose=True, n_jobs=-1)\n",
    "print(time.time() - start)"
   ]
  },
  {
   "cell_type": "code",
   "execution_count": null,
   "metadata": {},
   "outputs": [],
   "source": []
  }
 ],
 "metadata": {
  "kernelspec": {
   "display_name": "Python 3",
   "language": "python",
   "name": "python3"
  },
  "language_info": {
   "codemirror_mode": {
    "name": "ipython",
    "version": 3
   },
   "file_extension": ".py",
   "mimetype": "text/x-python",
   "name": "python",
   "nbconvert_exporter": "python",
   "pygments_lexer": "ipython3",
   "version": "3.6.7"
  },
  "latex_envs": {
   "LaTeX_envs_menu_present": true,
   "autoclose": false,
   "autocomplete": true,
   "bibliofile": "biblio.bib",
   "cite_by": "apalike",
   "current_citInitial": 1,
   "eqLabelWithNumbers": true,
   "eqNumInitial": 1,
   "hotkeys": {
    "equation": "Ctrl-E",
    "itemize": "Ctrl-I"
   },
   "labels_anchors": false,
   "latex_user_defs": false,
   "report_style_numbering": false,
   "user_envs_cfg": false
  }
 },
 "nbformat": 4,
 "nbformat_minor": 2
}
