{
 "cells": [
  {
   "cell_type": "code",
   "execution_count": 38,
   "metadata": {},
   "outputs": [],
   "source": [
    "from __future__ import (absolute_import, division, print_function,\n",
    "                        unicode_literals)\n",
    "\n",
    "#cimport numpy as np # noqa\n",
    "import numpy as np\n",
    "\n",
    "from surprise import Reader, AlgoBase, PredictionImpossible\n",
    "from surprise import Dataset, SVD\n",
    "from surprise.utils import get_rng\n",
    "\n",
    "from surprise.model_selection import cross_validate\n",
    "from surprise.model_selection import train_test_split\n",
    "from surprise.model_selection import KFold\n",
    "from surprise.model_selection import GridSearchCV\n",
    "\n",
    "from surprise import accuracy\n",
    "\n",
    "import pandas as pd\n",
    "import os\n",
    "import time\n",
    "import math\n",
    "\n",
    "from sklearn.metrics import confusion_matrix, mean_squared_error, mean_absolute_error, precision_score, recall_score\n",
    "from math import sqrt\n",
    "\n",
    "from surprise import CoSVDv9, CoSVDv5, SVDpp, SVD"
   ]
  },
  {
   "cell_type": "code",
   "execution_count": 39,
   "metadata": {},
   "outputs": [],
   "source": [
    "data_source = 'ml-latest-small' # 100k MovieLens dataset 2016\n",
    "#data_source = 'mlsmall' # 100k MovieLens dataset 2018\n",
    "#data_source = 'ml10M100K' # 10M MovieLens dataset\n",
    "\n",
    "reader = Reader()\n",
    "path = os.path.join('../','Data',data_source)\n",
    "rate = pd.read_csv(path+'/ratings.csv')\n",
    "raw_tags = pd.read_csv(path+'/tags.csv', encoding='utf-8')\n",
    "\n",
    "data = Dataset.load_from_df(rate[['userId', 'movieId', 'rating']], reader)\n",
    "\n",
    "cv = KFold(n_splits=10, random_state=123)"
   ]
  },
  {
   "cell_type": "code",
   "execution_count": 40,
   "metadata": {},
   "outputs": [],
   "source": [
    "m_list=['RMSE', 'MAE', 'PREC_5', 'REC_5', 'NDCG_5', 'PREC_10', 'REC_10', 'NDCG_10', 'PREC_15', 'REC_15', 'NDCG_15']"
   ]
  },
  {
   "cell_type": "markdown",
   "metadata": {},
   "source": [
    "### CoSVD (F=40)"
   ]
  },
  {
   "cell_type": "code",
   "execution_count": 17,
   "metadata": {},
   "outputs": [
    {
     "name": "stdout",
     "output_type": "stream",
     "text": [
      "Evaluating RMSE, MAE, NDCG_5, NDCG_10, NDCG_15, PREC_5, PREC_10, PREC_15, REC_5, REC_10, REC_15 of algorithm CoSVDv9 on 10 split(s).\n",
      "\n",
      "                  Fold 1  Fold 2  Fold 3  Fold 4  Fold 5  Fold 6  Fold 7  Fold 8  Fold 9  Fold 10 Mean    Std     \n",
      "RMSE (testset)    0.8928  0.8845  0.8732  0.8734  0.8767  0.8791  0.8811  0.8862  0.8822  0.8834  0.8813  0.0057  \n",
      "MAE (testset)     0.6853  0.6801  0.6723  0.6707  0.6694  0.6735  0.6742  0.6790  0.6776  0.6773  0.6759  0.0046  \n",
      "NDCG_5 (testset)  0.8318  0.8279  0.8343  0.8307  0.8391  0.8348  0.8314  0.8339  0.8272  0.8288  0.8320  0.0035  \n",
      "NDCG_10 (testset) 0.8693  0.8660  0.8685  0.8650  0.8728  0.8690  0.8672  0.8690  0.8626  0.8656  0.8675  0.0027  \n",
      "NDCG_15 (testset) 0.8851  0.8825  0.8846  0.8815  0.8891  0.8853  0.8829  0.8855  0.8788  0.8814  0.8837  0.0027  \n",
      "PREC_5 (testset)  0.3577  0.3555  0.3488  0.3585  0.3563  0.3627  0.3653  0.3578  0.3633  0.3588  0.3585  0.0044  \n",
      "PREC_10 (testset) 0.3556  0.3526  0.3479  0.3546  0.3539  0.3595  0.3625  0.3542  0.3596  0.3529  0.3553  0.0040  \n",
      "PREC_15 (testset) 0.3540  0.3522  0.3471  0.3538  0.3528  0.3590  0.3609  0.3538  0.3585  0.3519  0.3544  0.0038  \n",
      "REC_5 (testset)   0.1957  0.1938  0.1951  0.2030  0.1979  0.1974  0.1954  0.1920  0.2010  0.1930  0.1964  0.0033  \n",
      "REC_10 (testset)  0.2195  0.2219  0.2209  0.2263  0.2230  0.2210  0.2221  0.2190  0.2276  0.2189  0.2220  0.0028  \n",
      "REC_15 (testset)  0.2269  0.2294  0.2290  0.2352  0.2310  0.2288  0.2305  0.2277  0.2360  0.2262  0.2301  0.0031  \n",
      "Fit time          398.47  597.64  593.50  405.30  589.43  600.31  401.70  405.98  410.92  402.40  480.57  93.70   \n",
      "Test time         0.08    0.07    0.07    0.08    0.07    0.07    0.08    0.07    0.08    0.07    0.07    0.00    \n",
      "608.3723330497742\n"
     ]
    }
   ],
   "source": [
    "algo = CoSVDv9(verbose=False, n_epochs=65, lr_all=0.0028, n_factors=40, tags=raw_tags, random_state=123)\n",
    "\n",
    "start = time.time()\n",
    "cross_validate(algo, data, measures=m_list, cv=cv, verbose=True, n_jobs=-1)\n",
    "print(time.time() - start)"
   ]
  },
  {
   "cell_type": "markdown",
   "metadata": {},
   "source": [
    "### CoSVD (F=30)"
   ]
  },
  {
   "cell_type": "code",
   "execution_count": 18,
   "metadata": {},
   "outputs": [
    {
     "name": "stdout",
     "output_type": "stream",
     "text": [
      "Evaluating RMSE, MAE, NDCG_5, NDCG_10, NDCG_15, PREC_5, PREC_10, PREC_15, REC_5, REC_10, REC_15 of algorithm CoSVDv9 on 10 split(s).\n",
      "\n",
      "                  Fold 1  Fold 2  Fold 3  Fold 4  Fold 5  Fold 6  Fold 7  Fold 8  Fold 9  Fold 10 Mean    Std     \n",
      "RMSE (testset)    0.8880  0.8900  0.8745  0.8749  0.8781  0.8814  0.8821  0.8889  0.8830  0.8761  0.8817  0.0055  \n",
      "MAE (testset)     0.6814  0.6846  0.6729  0.6682  0.6719  0.6745  0.6758  0.6806  0.6799  0.6734  0.6763  0.0049  \n",
      "NDCG_5 (testset)  0.8399  0.8256  0.8325  0.8288  0.8354  0.8330  0.8249  0.8348  0.8317  0.8336  0.8320  0.0043  \n",
      "NDCG_10 (testset) 0.8755  0.8615  0.8648  0.8664  0.8707  0.8653  0.8631  0.8683  0.8642  0.8699  0.8670  0.0040  \n",
      "NDCG_15 (testset) 0.8908  0.8790  0.8808  0.8810  0.8875  0.8811  0.8783  0.8847  0.8827  0.8854  0.8831  0.0037  \n",
      "PREC_5 (testset)  0.3588  0.3617  0.3356  0.3520  0.3601  0.3554  0.3498  0.3578  0.3605  0.3675  0.3559  0.0083  \n",
      "PREC_10 (testset) 0.3529  0.3565  0.3321  0.3507  0.3568  0.3510  0.3452  0.3546  0.3553  0.3615  0.3517  0.0077  \n",
      "PREC_15 (testset) 0.3518  0.3555  0.3311  0.3491  0.3558  0.3501  0.3442  0.3542  0.3550  0.3607  0.3508  0.0078  \n",
      "REC_5 (testset)   0.1964  0.2023  0.1979  0.1956  0.1974  0.2014  0.1887  0.1898  0.2148  0.1912  0.1976  0.0072  \n",
      "REC_10 (testset)  0.2182  0.2280  0.2239  0.2188  0.2215  0.2246  0.2165  0.2161  0.2406  0.2155  0.2224  0.0072  \n",
      "REC_15 (testset)  0.2252  0.2359  0.2326  0.2277  0.2301  0.2328  0.2259  0.2248  0.2498  0.2234  0.2308  0.0074  \n",
      "Fit time          399.88  405.80  408.05  591.95  402.92  598.84  402.39  591.70  411.06  596.58  480.92  93.03   \n",
      "Test time         0.07    0.07    0.07    0.07    0.07    0.07    0.07    0.07    0.07    0.07    0.07    0.00    \n",
      "609.7978844642639\n"
     ]
    }
   ],
   "source": [
    "algo = CoSVDv9(verbose=False, n_epochs=65, lr_all=0.0028, n_factors=30, tags=raw_tags, random_state=123)\n",
    "\n",
    "start = time.time()\n",
    "cross_validate(algo, data, measures=m_list, cv=cv, verbose=True, n_jobs=-1)\n",
    "print(time.time() - start)"
   ]
  },
  {
   "cell_type": "markdown",
   "metadata": {},
   "source": [
    "### CoSVD(F=20)"
   ]
  },
  {
   "cell_type": "code",
   "execution_count": 19,
   "metadata": {},
   "outputs": [
    {
     "name": "stdout",
     "output_type": "stream",
     "text": [
      "Evaluating RMSE, MAE, NDCG_5, NDCG_10, NDCG_15, PREC_5, PREC_10, PREC_15, REC_5, REC_10, REC_15 of algorithm CoSVDv9 on 10 split(s).\n",
      "\n",
      "                  Fold 1  Fold 2  Fold 3  Fold 4  Fold 5  Fold 6  Fold 7  Fold 8  Fold 9  Fold 10 Mean    Std     \n",
      "RMSE (testset)    0.8894  0.8879  0.8745  0.8764  0.8801  0.8821  0.8833  0.8915  0.8858  0.8812  0.8832  0.0052  \n",
      "MAE (testset)     0.6837  0.6819  0.6731  0.6698  0.6735  0.6754  0.6744  0.6845  0.6800  0.6765  0.6773  0.0047  \n",
      "NDCG_5 (testset)  0.8379  0.8230  0.8309  0.8297  0.8335  0.8349  0.8207  0.8384  0.8297  0.8299  0.8309  0.0055  \n",
      "NDCG_10 (testset) 0.8714  0.8626  0.8652  0.8651  0.8692  0.8677  0.8588  0.8706  0.8628  0.8679  0.8661  0.0038  \n",
      "NDCG_15 (testset) 0.8877  0.8806  0.8820  0.8806  0.8851  0.8837  0.8758  0.8873  0.8803  0.8835  0.8826  0.0034  \n",
      "PREC_5 (testset)  0.3712  0.3473  0.3244  0.3524  0.3545  0.3756  0.3429  0.3501  0.3539  0.3566  0.3529  0.0135  \n",
      "PREC_10 (testset) 0.3677  0.3447  0.3214  0.3512  0.3527  0.3719  0.3401  0.3472  0.3515  0.3499  0.3498  0.0133  \n",
      "PREC_15 (testset) 0.3667  0.3440  0.3209  0.3503  0.3513  0.3718  0.3394  0.3466  0.3504  0.3492  0.3491  0.0132  \n",
      "REC_5 (testset)   0.1993  0.1889  0.1848  0.2007  0.2022  0.2022  0.1925  0.1919  0.2075  0.1979  0.1968  0.0067  \n",
      "REC_10 (testset)  0.2221  0.2143  0.2092  0.2242  0.2277  0.2257  0.2200  0.2188  0.2355  0.2238  0.2221  0.0069  \n",
      "REC_15 (testset)  0.2291  0.2222  0.2175  0.2328  0.2356  0.2337  0.2292  0.2281  0.2444  0.2317  0.2304  0.0069  \n",
      "Fit time          398.96  409.50  510.74  592.76  588.06  412.73  398.15  592.11  413.25  497.00  481.33  80.87   \n",
      "Test time         0.07    0.07    0.07    0.07    0.07    0.07    0.07    0.07    0.07    0.07    0.07    0.00    \n",
      "601.841555595398\n"
     ]
    }
   ],
   "source": [
    "algo = CoSVDv9(verbose=False, n_epochs=65, lr_all=0.0028, n_factors=20, tags=raw_tags, random_state=123)\n",
    "\n",
    "start = time.time()\n",
    "cross_validate(algo, data, measures=m_list, cv=cv, verbose=True, n_jobs=-1)\n",
    "print(time.time() - start)"
   ]
  },
  {
   "cell_type": "markdown",
   "metadata": {},
   "source": [
    "### SVD(F=40)"
   ]
  },
  {
   "cell_type": "code",
   "execution_count": 20,
   "metadata": {},
   "outputs": [
    {
     "name": "stdout",
     "output_type": "stream",
     "text": [
      "Evaluating RMSE, MAE, NDCG_5, NDCG_10, NDCG_15, PREC_5, PREC_10, PREC_15, REC_5, REC_10, REC_15 of algorithm SVD on 10 split(s).\n",
      "\n",
      "                  Fold 1  Fold 2  Fold 3  Fold 4  Fold 5  Fold 6  Fold 7  Fold 8  Fold 9  Fold 10 Mean    Std     \n",
      "RMSE (testset)    0.8834  0.8751  0.8625  0.8624  0.8678  0.8667  0.8717  0.8761  0.8714  0.8710  0.8708  0.0061  \n",
      "MAE (testset)     0.6770  0.6736  0.6629  0.6615  0.6640  0.6646  0.6682  0.6722  0.6705  0.6679  0.6682  0.0048  \n",
      "NDCG_5 (testset)  0.8363  0.8282  0.8412  0.8392  0.8389  0.8407  0.8371  0.8373  0.8335  0.8328  0.8365  0.0038  \n",
      "NDCG_10 (testset) 0.8739  0.8691  0.8730  0.8708  0.8746  0.8735  0.8711  0.8726  0.8669  0.8682  0.8714  0.0025  \n",
      "NDCG_15 (testset) 0.8899  0.8858  0.8882  0.8866  0.8901  0.8893  0.8860  0.8884  0.8817  0.8837  0.8870  0.0026  \n",
      "PREC_5 (testset)  0.3534  0.3507  0.3362  0.3590  0.3375  0.3548  0.3618  0.3439  0.3483  0.3506  0.3496  0.0080  \n",
      "PREC_10 (testset) 0.3512  0.3481  0.3338  0.3569  0.3366  0.3517  0.3598  0.3426  0.3435  0.3455  0.3470  0.0079  \n",
      "PREC_15 (testset) 0.3501  0.3469  0.3324  0.3564  0.3362  0.3502  0.3589  0.3423  0.3432  0.3450  0.3462  0.0078  \n",
      "REC_5 (testset)   0.1967  0.1906  0.1967  0.2076  0.1910  0.2019  0.1956  0.1887  0.1997  0.1928  0.1961  0.0055  \n",
      "REC_10 (testset)  0.2204  0.2178  0.2223  0.2320  0.2171  0.2265  0.2234  0.2169  0.2260  0.2174  0.2220  0.0048  \n",
      "REC_15 (testset)  0.2270  0.2256  0.2307  0.2415  0.2254  0.2338  0.2317  0.2258  0.2346  0.2248  0.2301  0.0052  \n",
      "Fit time          4.79    4.86    4.89    4.84    4.93    4.80    4.88    4.78    4.94    4.67    4.84    0.08    \n",
      "Test time         0.05    0.05    0.05    0.05    0.05    0.05    0.05    0.05    0.05    0.05    0.05    0.00    \n",
      "16.296708822250366\n"
     ]
    }
   ],
   "source": [
    "algo = SVD(verbose=False, n_epochs=60, lr_all=0.008, reg_all=0.09, n_factors=40, random_state=123)\n",
    "\n",
    "start = time.time()\n",
    "cross_validate(algo, data, measures=m_list, cv=cv, verbose=True, n_jobs=-1)\n",
    "print(time.time() - start)"
   ]
  },
  {
   "cell_type": "markdown",
   "metadata": {},
   "source": [
    "### SVD(F=30)"
   ]
  },
  {
   "cell_type": "code",
   "execution_count": 21,
   "metadata": {},
   "outputs": [
    {
     "name": "stdout",
     "output_type": "stream",
     "text": [
      "Evaluating RMSE, MAE, NDCG_5, NDCG_10, NDCG_15, PREC_5, PREC_10, PREC_15, REC_5, REC_10, REC_15 of algorithm SVD on 10 split(s).\n",
      "\n",
      "                  Fold 1  Fold 2  Fold 3  Fold 4  Fold 5  Fold 6  Fold 7  Fold 8  Fold 9  Fold 10 Mean    Std     \n",
      "RMSE (testset)    0.8825  0.8757  0.8654  0.8658  0.8705  0.8679  0.8729  0.8776  0.8728  0.8670  0.8718  0.0053  \n",
      "MAE (testset)     0.6772  0.6752  0.6654  0.6614  0.6659  0.6648  0.6684  0.6739  0.6710  0.6653  0.6688  0.0050  \n",
      "NDCG_5 (testset)  0.8359  0.8298  0.8394  0.8352  0.8350  0.8422  0.8300  0.8376  0.8357  0.8372  0.8358  0.0036  \n",
      "NDCG_10 (testset) 0.8722  0.8675  0.8700  0.8693  0.8723  0.8735  0.8653  0.8700  0.8679  0.8750  0.8703  0.0028  \n",
      "NDCG_15 (testset) 0.8886  0.8852  0.8852  0.8843  0.8872  0.8889  0.8813  0.8856  0.8845  0.8896  0.8860  0.0024  \n",
      "PREC_5 (testset)  0.3434  0.3426  0.3386  0.3449  0.3545  0.3647  0.3433  0.3554  0.3552  0.3587  0.3501  0.0082  \n",
      "PREC_10 (testset) 0.3406  0.3395  0.3335  0.3426  0.3505  0.3604  0.3398  0.3521  0.3507  0.3561  0.3466  0.0081  \n",
      "PREC_15 (testset) 0.3393  0.3386  0.3326  0.3418  0.3500  0.3597  0.3388  0.3515  0.3495  0.3543  0.3456  0.0081  \n",
      "REC_5 (testset)   0.1913  0.1906  0.2058  0.1987  0.1945  0.2074  0.1938  0.1937  0.2081  0.1964  0.1980  0.0063  \n",
      "REC_10 (testset)  0.2162  0.2168  0.2305  0.2232  0.2202  0.2297  0.2228  0.2212  0.2347  0.2221  0.2237  0.0057  \n",
      "REC_15 (testset)  0.2231  0.2252  0.2388  0.2320  0.2290  0.2385  0.2314  0.2307  0.2434  0.2293  0.2321  0.0060  \n",
      "Fit time          4.13    4.25    4.33    4.36    4.46    4.33    4.45    4.20    4.17    4.09    4.28    0.12    \n",
      "Test time         0.05    0.05    0.05    0.05    0.05    0.05    0.07    0.07    0.07    0.08    0.06    0.01    \n",
      "15.440938711166382\n"
     ]
    }
   ],
   "source": [
    "algo = SVD(verbose=False, n_epochs=60, lr_all=0.008, reg_all=0.09, n_factors=30, random_state=123)\n",
    "\n",
    "start = time.time()\n",
    "cross_validate(algo, data, measures=m_list, cv=cv, verbose=True, n_jobs=-1)\n",
    "print(time.time() - start)"
   ]
  },
  {
   "cell_type": "markdown",
   "metadata": {},
   "source": [
    "### SVD(F=20)"
   ]
  },
  {
   "cell_type": "code",
   "execution_count": 22,
   "metadata": {},
   "outputs": [
    {
     "name": "stdout",
     "output_type": "stream",
     "text": [
      "Evaluating RMSE, MAE, NDCG_5, NDCG_10, NDCG_15, PREC_5, PREC_10, PREC_15, REC_5, REC_10, REC_15 of algorithm SVD on 10 split(s).\n",
      "\n",
      "                  Fold 1  Fold 2  Fold 3  Fold 4  Fold 5  Fold 6  Fold 7  Fold 8  Fold 9  Fold 10 Mean    Std     \n",
      "RMSE (testset)    0.8830  0.8779  0.8674  0.8652  0.8730  0.8691  0.8751  0.8814  0.8772  0.8716  0.8741  0.0056  \n",
      "MAE (testset)     0.6783  0.6759  0.6668  0.6607  0.6679  0.6661  0.6694  0.6769  0.6730  0.6686  0.6704  0.0053  \n",
      "NDCG_5 (testset)  0.8381  0.8299  0.8349  0.8361  0.8355  0.8403  0.8308  0.8353  0.8330  0.8356  0.8350  0.0030  \n",
      "NDCG_10 (testset) 0.8741  0.8662  0.8697  0.8698  0.8713  0.8704  0.8658  0.8697  0.8654  0.8720  0.8694  0.0027  \n",
      "NDCG_15 (testset) 0.8904  0.8837  0.8854  0.8850  0.8875  0.8871  0.8806  0.8863  0.8820  0.8877  0.8856  0.0027  \n",
      "PREC_5 (testset)  0.3699  0.3341  0.3407  0.3502  0.3480  0.3677  0.3407  0.3481  0.3549  0.3493  0.3504  0.0108  \n",
      "PREC_10 (testset) 0.3651  0.3309  0.3394  0.3472  0.3437  0.3655  0.3372  0.3462  0.3516  0.3439  0.3471  0.0106  \n",
      "PREC_15 (testset) 0.3643  0.3300  0.3382  0.3456  0.3424  0.3649  0.3354  0.3452  0.3507  0.3429  0.3460  0.0108  \n",
      "REC_5 (testset)   0.1998  0.1876  0.1963  0.2050  0.1945  0.2095  0.1913  0.1968  0.2040  0.1979  0.1982  0.0062  \n",
      "REC_10 (testset)  0.2234  0.2131  0.2218  0.2283  0.2180  0.2346  0.2187  0.2245  0.2300  0.2226  0.2235  0.0060  \n",
      "REC_15 (testset)  0.2304  0.2217  0.2301  0.2370  0.2261  0.2429  0.2273  0.2333  0.2386  0.2305  0.2318  0.0060  \n",
      "Fit time          3.59    3.37    3.47    3.60    3.51    3.44    3.40    3.55    3.53    3.50    3.50    0.07    \n",
      "Test time         0.08    0.07    0.07    0.07    0.07    0.07    0.07    0.08    0.08    0.07    0.07    0.00    \n",
      "14.426450252532959\n"
     ]
    }
   ],
   "source": [
    "algo = SVD(verbose=False, n_epochs=60, lr_all=0.008, reg_all=0.09, n_factors=20, random_state=123)\n",
    "\n",
    "start = time.time()\n",
    "cross_validate(algo, data, measures=m_list, cv=cv, verbose=True, n_jobs=-1)\n",
    "print(time.time() - start)"
   ]
  },
  {
   "cell_type": "markdown",
   "metadata": {},
   "source": [
    "## SVD++(F=40)"
   ]
  },
  {
   "cell_type": "code",
   "execution_count": 41,
   "metadata": {},
   "outputs": [
    {
     "name": "stdout",
     "output_type": "stream",
     "text": [
      "Evaluating RMSE, MAE, PREC_5, REC_5, NDCG_5, PREC_10, REC_10, NDCG_10, PREC_15, REC_15, NDCG_15 of algorithm SVDpp on 10 split(s).\n",
      "\n",
      "                  Fold 1  Fold 2  Fold 3  Fold 4  Fold 5  Fold 6  Fold 7  Fold 8  Fold 9  Fold 10 Mean    Std     \n",
      "RMSE (testset)    0.8966  0.8878  0.8770  0.8787  0.8814  0.8827  0.8884  0.8884  0.8898  0.8868  0.8858  0.0055  \n",
      "MAE (testset)     0.6875  0.6817  0.6725  0.6724  0.6741  0.6760  0.6793  0.6803  0.6799  0.6787  0.6782  0.0044  \n",
      "PREC_5 (testset)  0.3451  0.3084  0.3045  0.3321  0.3272  0.3340  0.3381  0.3254  0.3371  0.3328  0.3285  0.0122  \n",
      "REC_5 (testset)   0.1817  0.1656  0.1655  0.1803  0.1767  0.1794  0.1765  0.1698  0.1849  0.1814  0.1762  0.0065  \n",
      "NDCG_5 (testset)  0.8368  0.8236  0.8347  0.8304  0.8372  0.8319  0.8228  0.8272  0.8279  0.8311  0.8303  0.0048  \n",
      "PREC_10 (testset) 0.3410  0.3074  0.3009  0.3294  0.3253  0.3317  0.3339  0.3245  0.3316  0.3271  0.3253  0.0116  \n",
      "REC_10 (testset)  0.2059  0.1948  0.1908  0.2058  0.2045  0.2040  0.2034  0.1988  0.2128  0.2077  0.2028  0.0061  \n",
      "NDCG_10 (testset) 0.8706  0.8622  0.8679  0.8659  0.8727  0.8643  0.8604  0.8641  0.8594  0.8653  0.8653  0.0040  \n",
      "PREC_15 (testset) 0.3397  0.3061  0.3014  0.3284  0.3243  0.3303  0.3329  0.3242  0.3309  0.3253  0.3244  0.0112  \n",
      "REC_15 (testset)  0.2138  0.2027  0.2004  0.2153  0.2136  0.2129  0.2125  0.2083  0.2230  0.2154  0.2118  0.0062  \n",
      "NDCG_15 (testset) 0.8874  0.8803  0.8846  0.8818  0.8880  0.8814  0.8771  0.8822  0.8773  0.8813  0.8821  0.0035  \n",
      "Fit time          1536.85 1192.19 1692.46 1248.09 1416.53 1484.11 1610.93 1430.55 1365.32 1298.64 1427.57 150.72  \n",
      "Test time         2.45    2.70    2.52    2.61    2.53    2.50    2.44    2.62    2.78    2.71    2.59    0.11    \n",
      "1700.1662950515747\n"
     ]
    }
   ],
   "source": [
    "algo = SVDpp(verbose=False, n_epochs=45, lr_all=0.0012, reg_all=0.0012, n_factors=40, random_state=123)\n",
    "\n",
    "start = time.time()\n",
    "cross_validate(algo, data, measures=m_list, cv=cv, verbose=True, n_jobs=-1)\n",
    "print(time.time() - start)"
   ]
  },
  {
   "cell_type": "markdown",
   "metadata": {},
   "source": [
    "## SVD++(F=30)"
   ]
  },
  {
   "cell_type": "code",
   "execution_count": 42,
   "metadata": {},
   "outputs": [
    {
     "name": "stdout",
     "output_type": "stream",
     "text": [
      "Evaluating RMSE, MAE, PREC_5, REC_5, NDCG_5, PREC_10, REC_10, NDCG_10, PREC_15, REC_15, NDCG_15 of algorithm SVDpp on 10 split(s).\n",
      "\n",
      "                  Fold 1  Fold 2  Fold 3  Fold 4  Fold 5  Fold 6  Fold 7  Fold 8  Fold 9  Fold 10 Mean    Std     \n",
      "RMSE (testset)    0.8920  0.8916  0.8755  0.8788  0.8817  0.8844  0.8855  0.8911  0.8861  0.8810  0.8848  0.0054  \n",
      "MAE (testset)     0.6841  0.6849  0.6750  0.6710  0.6750  0.6767  0.6762  0.6813  0.6804  0.6763  0.6781  0.0042  \n",
      "PREC_5 (testset)  0.3281  0.3212  0.3023  0.3380  0.3363  0.3337  0.3411  0.3238  0.3238  0.3344  0.3283  0.0108  \n",
      "REC_5 (testset)   0.1734  0.1748  0.1699  0.1880  0.1853  0.1778  0.1804  0.1710  0.1877  0.1767  0.1785  0.0063  \n",
      "NDCG_5 (testset)  0.8387  0.8276  0.8364  0.8297  0.8326  0.8308  0.8254  0.8294  0.8266  0.8294  0.8307  0.0040  \n",
      "PREC_10 (testset) 0.3222  0.3187  0.2992  0.3373  0.3339  0.3297  0.3353  0.3191  0.3190  0.3286  0.3243  0.0107  \n",
      "REC_10 (testset)  0.1967  0.2037  0.1958  0.2119  0.2121  0.2029  0.2069  0.1983  0.2157  0.2043  0.2048  0.0065  \n",
      "NDCG_10 (testset) 0.8744  0.8637  0.8693  0.8658  0.8689  0.8642  0.8618  0.8636  0.8606  0.8649  0.8657  0.0039  \n",
      "PREC_15 (testset) 0.3207  0.3180  0.2981  0.3356  0.3322  0.3291  0.3342  0.3186  0.3186  0.3278  0.3233  0.0106  \n",
      "REC_15 (testset)  0.2038  0.2120  0.2052  0.2212  0.2207  0.2122  0.2163  0.2083  0.2259  0.2126  0.2138  0.0069  \n",
      "NDCG_15 (testset) 0.8889  0.8817  0.8844  0.8817  0.8849  0.8808  0.8772  0.8810  0.8794  0.8820  0.8822  0.0031  \n",
      "Fit time          977.33  1206.26 1121.78 1013.09 1011.48 962.47  1401.62 1415.42 1209.04 1141.38 1145.99 156.22  \n",
      "Test time         2.63    2.64    2.49    2.63    2.61    2.70    2.45    2.55    2.57    2.48    2.57    0.08    \n",
      "1427.2181539535522\n"
     ]
    }
   ],
   "source": [
    "algo = SVDpp(verbose=False, n_epochs=45, lr_all=0.0012, reg_all=0.0012, n_factors=30, random_state=123)\n",
    "\n",
    "start = time.time()\n",
    "cross_validate(algo, data, measures=m_list, cv=cv, verbose=True, n_jobs=-1)\n",
    "print(time.time() - start)"
   ]
  },
  {
   "cell_type": "markdown",
   "metadata": {},
   "source": [
    "## SVD++(F=20)"
   ]
  },
  {
   "cell_type": "code",
   "execution_count": 43,
   "metadata": {},
   "outputs": [
    {
     "name": "stdout",
     "output_type": "stream",
     "text": [
      "Evaluating RMSE, MAE, PREC_5, REC_5, NDCG_5, PREC_10, REC_10, NDCG_10, PREC_15, REC_15, NDCG_15 of algorithm SVDpp on 10 split(s).\n",
      "\n",
      "                  Fold 1  Fold 2  Fold 3  Fold 4  Fold 5  Fold 6  Fold 7  Fold 8  Fold 9  Fold 10 Mean    Std     \n",
      "RMSE (testset)    0.8925  0.8875  0.8766  0.8787  0.8799  0.8853  0.8853  0.8918  0.8889  0.8795  0.8846  0.0054  \n",
      "MAE (testset)     0.6861  0.6821  0.6743  0.6702  0.6734  0.6777  0.6755  0.6833  0.6820  0.6742  0.6779  0.0049  \n",
      "PREC_5 (testset)  0.3324  0.3254  0.3008  0.3250  0.3130  0.3157  0.3123  0.3244  0.3192  0.3372  0.3205  0.0101  \n",
      "REC_5 (testset)   0.1722  0.1695  0.1653  0.1819  0.1734  0.1697  0.1686  0.1698  0.1836  0.1805  0.1734  0.0060  \n",
      "NDCG_5 (testset)  0.8343  0.8278  0.8323  0.8291  0.8331  0.8360  0.8205  0.8332  0.8220  0.8301  0.8298  0.0049  \n",
      "PREC_10 (testset) 0.3267  0.3204  0.2976  0.3228  0.3094  0.3117  0.3086  0.3203  0.3171  0.3323  0.3167  0.0096  \n",
      "REC_10 (testset)  0.1972  0.1976  0.1908  0.2053  0.1989  0.1952  0.1965  0.1973  0.2127  0.2082  0.2000  0.0063  \n",
      "NDCG_10 (testset) 0.8696  0.8633  0.8660  0.8636  0.8690  0.8666  0.8571  0.8672  0.8575  0.8667  0.8647  0.0041  \n",
      "PREC_15 (testset) 0.3266  0.3189  0.2973  0.3217  0.3081  0.3107  0.3081  0.3195  0.3158  0.3316  0.3158  0.0095  \n",
      "REC_15 (testset)  0.2058  0.2059  0.2000  0.2149  0.2076  0.2043  0.2068  0.2072  0.2218  0.2170  0.2091  0.0063  \n",
      "NDCG_15 (testset) 0.8868  0.8811  0.8829  0.8803  0.8842  0.8827  0.8754  0.8837  0.8761  0.8830  0.8816  0.0034  \n",
      "Fit time          1075.00 742.24  1074.85 1021.42 742.36  756.72  764.77  1092.67 749.63  796.68  881.63  152.16  \n",
      "Test time         2.41    2.77    2.55    2.44    2.66    2.47    2.45    2.38    2.54    2.61    2.53    0.12    \n",
      "1103.9289433956146\n"
     ]
    }
   ],
   "source": [
    "algo = SVDpp(verbose=False, n_epochs=45, lr_all=0.0012, reg_all=0.0012, n_factors=20, random_state=123)\n",
    "\n",
    "start = time.time()\n",
    "cross_validate(algo, data, measures=m_list, cv=cv, verbose=True, n_jobs=-1)\n",
    "print(time.time() - start)"
   ]
  },
  {
   "cell_type": "markdown",
   "metadata": {},
   "source": [
    "## NMF(F=40)"
   ]
  },
  {
   "cell_type": "code",
   "execution_count": 44,
   "metadata": {},
   "outputs": [
    {
     "name": "stdout",
     "output_type": "stream",
     "text": [
      "Evaluating RMSE, MAE, PREC_5, REC_5, NDCG_5, PREC_10, REC_10, NDCG_10, PREC_15, REC_15, NDCG_15 of algorithm NMF on 10 split(s).\n",
      "\n",
      "                  Fold 1  Fold 2  Fold 3  Fold 4  Fold 5  Fold 6  Fold 7  Fold 8  Fold 9  Fold 10 Mean    Std     \n",
      "RMSE (testset)    0.9169  0.9151  0.9004  0.9059  0.9088  0.9044  0.9087  0.9144  0.9101  0.9029  0.9088  0.0052  \n",
      "MAE (testset)     0.7042  0.7024  0.6947  0.6933  0.6960  0.6912  0.6983  0.7031  0.6998  0.6951  0.6978  0.0042  \n",
      "PREC_5 (testset)  0.3322  0.3336  0.3136  0.3470  0.3428  0.3569  0.3363  0.3378  0.3549  0.3423  0.3397  0.0118  \n",
      "REC_5 (testset)   0.1908  0.1866  0.1900  0.1958  0.1940  0.2025  0.1917  0.1879  0.2042  0.1932  0.1937  0.0055  \n",
      "NDCG_5 (testset)  0.8247  0.8155  0.8234  0.8250  0.8233  0.8252  0.8185  0.8217  0.8173  0.8215  0.8216  0.0033  \n",
      "PREC_10 (testset) 0.3307  0.3308  0.3105  0.3445  0.3428  0.3543  0.3338  0.3375  0.3504  0.3408  0.3376  0.0117  \n",
      "REC_10 (testset)  0.2143  0.2111  0.2144  0.2192  0.2200  0.2281  0.2189  0.2166  0.2330  0.2199  0.2196  0.0063  \n",
      "NDCG_10 (testset) 0.8636  0.8545  0.8609  0.8606  0.8622  0.8600  0.8572  0.8602  0.8532  0.8595  0.8592  0.0031  \n",
      "PREC_15 (testset) 0.3300  0.3295  0.3102  0.3440  0.3418  0.3538  0.3329  0.3366  0.3488  0.3405  0.3368  0.0116  \n",
      "REC_15 (testset)  0.2211  0.2184  0.2220  0.2278  0.2283  0.2364  0.2265  0.2257  0.2414  0.2281  0.2276  0.0066  \n",
      "NDCG_15 (testset) 0.8801  0.8751  0.8773  0.8781  0.8777  0.8773  0.8746  0.8783  0.8710  0.8768  0.8766  0.0024  \n",
      "Fit time          4.88    5.05    4.88    5.13    4.98    4.91    4.84    4.88    4.93    4.78    4.93    0.10    \n",
      "Test time         0.07    0.07    0.07    0.07    0.07    0.04    0.04    0.04    0.04    0.04    0.05    0.01    \n",
      "16.117358446121216\n"
     ]
    }
   ],
   "source": [
    "algo = NMF(verbose=False, n_epochs=40, reg_pu=0.19, reg_qi=0.08, lr_bu=0.001, lr_bi=0.001, reg_bu=0.001, reg_bi=0.001, n_factors=40, random_state=123)\n",
    "\n",
    "start = time.time()\n",
    "cross_validate(algo, data, measures=m_list, cv=cv, verbose=True, n_jobs=-1)\n",
    "print(time.time() - start)"
   ]
  },
  {
   "cell_type": "markdown",
   "metadata": {},
   "source": [
    "## NMF(F=30)"
   ]
  },
  {
   "cell_type": "code",
   "execution_count": 45,
   "metadata": {},
   "outputs": [
    {
     "name": "stdout",
     "output_type": "stream",
     "text": [
      "Evaluating RMSE, MAE, PREC_5, REC_5, NDCG_5, PREC_10, REC_10, NDCG_10, PREC_15, REC_15, NDCG_15 of algorithm NMF on 10 split(s).\n",
      "\n",
      "                  Fold 1  Fold 2  Fold 3  Fold 4  Fold 5  Fold 6  Fold 7  Fold 8  Fold 9  Fold 10 Mean    Std     \n",
      "RMSE (testset)    0.9215  0.9200  0.9035  0.9088  0.9136  0.9039  0.9124  0.9169  0.9164  0.9070  0.9124  0.0061  \n",
      "MAE (testset)     0.7092  0.7089  0.6984  0.6977  0.7012  0.6947  0.7029  0.7087  0.7081  0.7009  0.7031  0.0051  \n",
      "PREC_5 (testset)  0.3521  0.3123  0.3139  0.3328  0.3185  0.3431  0.3382  0.3342  0.3307  0.3356  0.3312  0.0122  \n",
      "REC_5 (testset)   0.1892  0.1758  0.1768  0.1843  0.1787  0.1877  0.1847  0.1771  0.1932  0.1841  0.1832  0.0056  \n",
      "NDCG_5 (testset)  0.8316  0.8125  0.8213  0.8193  0.8212  0.8288  0.8119  0.8232  0.8147  0.8225  0.8207  0.0061  \n",
      "PREC_10 (testset) 0.3479  0.3100  0.3119  0.3308  0.3190  0.3394  0.3362  0.3323  0.3298  0.3332  0.3291  0.0114  \n",
      "REC_10 (testset)  0.2106  0.1998  0.1997  0.2057  0.2017  0.2122  0.2098  0.2024  0.2197  0.2084  0.2070  0.0061  \n",
      "NDCG_10 (testset) 0.8673  0.8534  0.8585  0.8572  0.8621  0.8631  0.8538  0.8599  0.8516  0.8626  0.8589  0.0048  \n",
      "PREC_15 (testset) 0.3471  0.3094  0.3118  0.3301  0.3191  0.3392  0.3357  0.3319  0.3292  0.3331  0.3287  0.0113  \n",
      "REC_15 (testset)  0.2171  0.2067  0.2068  0.2134  0.2102  0.2201  0.2171  0.2104  0.2280  0.2158  0.2146  0.0062  \n",
      "NDCG_15 (testset) 0.8840  0.8738  0.8757  0.8747  0.8783  0.8802  0.8717  0.8781  0.8702  0.8794  0.8766  0.0040  \n",
      "Fit time          3.98    4.04    4.04    4.11    4.13    4.18    4.09    4.28    4.09    4.00    4.09    0.09    \n",
      "Test time         0.04    0.04    0.04    0.04    0.04    0.04    0.06    0.07    0.06    0.06    0.05    0.01    \n",
      "14.721070528030396\n"
     ]
    }
   ],
   "source": [
    "algo = NMF(verbose=False, n_epochs=40, reg_pu=0.19, reg_qi=0.08, lr_bu=0.001, lr_bi=0.001, reg_bu=0.001, reg_bi=0.001, n_factors=30, random_state=123)\n",
    "\n",
    "start = time.time()\n",
    "cross_validate(algo, data, measures=m_list, cv=cv, verbose=True, n_jobs=-1)\n",
    "print(time.time() - start)"
   ]
  },
  {
   "cell_type": "markdown",
   "metadata": {},
   "source": [
    "## NMF(F=20)"
   ]
  },
  {
   "cell_type": "code",
   "execution_count": 46,
   "metadata": {},
   "outputs": [
    {
     "name": "stdout",
     "output_type": "stream",
     "text": [
      "Evaluating RMSE, MAE, PREC_5, REC_5, NDCG_5, PREC_10, REC_10, NDCG_10, PREC_15, REC_15, NDCG_15 of algorithm NMF on 10 split(s).\n",
      "\n",
      "                  Fold 1  Fold 2  Fold 3  Fold 4  Fold 5  Fold 6  Fold 7  Fold 8  Fold 9  Fold 10 Mean    Std     \n",
      "RMSE (testset)    0.9256  0.9241  0.9052  0.9121  0.9167  0.9090  0.9186  0.9226  0.9213  0.9089  0.9164  0.0068  \n",
      "MAE (testset)     0.7175  0.7152  0.7030  0.7022  0.7060  0.7019  0.7116  0.7162  0.7140  0.7063  0.7094  0.0058  \n",
      "PREC_5 (testset)  0.3341  0.3167  0.2974  0.3237  0.3144  0.3366  0.3084  0.3246  0.3127  0.3243  0.3193  0.0112  \n",
      "REC_5 (testset)   0.1748  0.1673  0.1638  0.1752  0.1689  0.1745  0.1690  0.1704  0.1770  0.1640  0.1705  0.0045  \n",
      "NDCG_5 (testset)  0.8269  0.8145  0.8223  0.8232  0.8202  0.8286  0.8130  0.8164  0.8171  0.8200  0.8202  0.0049  \n",
      "PREC_10 (testset) 0.3326  0.3151  0.2963  0.3228  0.3129  0.3337  0.3076  0.3235  0.3117  0.3217  0.3178  0.0109  \n",
      "REC_10 (testset)  0.1923  0.1887  0.1835  0.1956  0.1888  0.1958  0.1929  0.1922  0.1991  0.1861  0.1915  0.0045  \n",
      "NDCG_10 (testset) 0.8645  0.8529  0.8590  0.8592  0.8610  0.8618  0.8538  0.8578  0.8548  0.8598  0.8585  0.0035  \n",
      "PREC_15 (testset) 0.3324  0.3142  0.2966  0.3222  0.3124  0.3330  0.3067  0.3233  0.3109  0.3218  0.3174  0.0108  \n",
      "REC_15 (testset)  0.1983  0.1946  0.1907  0.2031  0.1960  0.2027  0.1994  0.1997  0.2058  0.1924  0.1983  0.0046  \n",
      "NDCG_15 (testset) 0.8799  0.8728  0.8762  0.8766  0.8781  0.8793  0.8716  0.8768  0.8729  0.8780  0.8762  0.0027  \n",
      "Fit time          3.21    3.23    3.29    3.23    3.25    3.22    3.40    3.27    3.15    3.19    3.24    0.06    \n",
      "Test time         0.07    0.07    0.07    0.06    0.06    0.06    0.06    0.06    0.06    0.06    0.06    0.00    \n",
      "13.901613473892212\n"
     ]
    }
   ],
   "source": [
    "algo = NMF(verbose=False, n_epochs=40, reg_pu=0.19, reg_qi=0.08, lr_bu=0.001, lr_bi=0.001, reg_bu=0.001, reg_bi=0.001, n_factors=20, random_state=123)\n",
    "\n",
    "start = time.time()\n",
    "cross_validate(algo, data, measures=m_list, cv=cv, verbose=True, n_jobs=-1)\n",
    "print(time.time() - start)"
   ]
  },
  {
   "cell_type": "code",
   "execution_count": null,
   "metadata": {},
   "outputs": [],
   "source": []
  }
 ],
 "metadata": {
  "kernelspec": {
   "display_name": "Python 3",
   "language": "python",
   "name": "python3"
  },
  "language_info": {
   "codemirror_mode": {
    "name": "ipython",
    "version": 3
   },
   "file_extension": ".py",
   "mimetype": "text/x-python",
   "name": "python",
   "nbconvert_exporter": "python",
   "pygments_lexer": "ipython3",
   "version": "3.6.7"
  },
  "latex_envs": {
   "LaTeX_envs_menu_present": true,
   "autoclose": false,
   "autocomplete": true,
   "bibliofile": "biblio.bib",
   "cite_by": "apalike",
   "current_citInitial": 1,
   "eqLabelWithNumbers": true,
   "eqNumInitial": 1,
   "hotkeys": {
    "equation": "Ctrl-E",
    "itemize": "Ctrl-I"
   },
   "labels_anchors": false,
   "latex_user_defs": false,
   "report_style_numbering": false,
   "user_envs_cfg": false
  }
 },
 "nbformat": 4,
 "nbformat_minor": 2
}
