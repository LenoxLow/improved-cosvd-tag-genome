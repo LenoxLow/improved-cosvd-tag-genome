{
 "cells": [
  {
   "cell_type": "code",
   "execution_count": 17,
   "metadata": {},
   "outputs": [],
   "source": [
    "from __future__ import (absolute_import, division, print_function,\n",
    "                        unicode_literals)\n",
    "\n",
    "#cimport numpy as np # noqa\n",
    "import numpy as np\n",
    "\n",
    "from surprise import Reader, AlgoBase, PredictionImpossible\n",
    "from surprise import Dataset, SVD, SVDpp, NMF\n",
    "from surprise.utils import get_rng\n",
    "\n",
    "from surprise.model_selection import cross_validate\n",
    "from surprise.model_selection import train_test_split\n",
    "from surprise.model_selection import KFold\n",
    "from surprise.model_selection import GridSearchCV\n",
    "\n",
    "from surprise import accuracy\n",
    "\n",
    "import pandas as pd\n",
    "import os\n",
    "import time\n",
    "import math\n",
    "\n",
    "from sklearn.metrics import confusion_matrix, mean_squared_error, mean_absolute_error, precision_score, recall_score\n",
    "from math import sqrt\n",
    "\n",
    "from surprise import CoSVDv9, CoSVDv5"
   ]
  },
  {
   "cell_type": "code",
   "execution_count": 14,
   "metadata": {},
   "outputs": [],
   "source": [
    "#data_source = 'ml-latest-small' # 100k MovieLens dataset 2016\n",
    "#data_source = 'mlsmall' # 100k MovieLens dataset 2018\n",
    "data_source = 'ml-10M100K' # 10M MovieLens dataset\n",
    "\n",
    "reader = Reader()\n",
    "path = os.path.join('../','Data',data_source)\n",
    "rate = pd.read_csv(path+'/ratings.csv')\n",
    "raw_tags = pd.read_csv(path+'/tags.csv', encoding='utf-8')\n",
    "\n",
    "data = Dataset.load_from_df(rate[['userId', 'movieId', 'rating']], reader)\n",
    "\n",
    "cv = KFold(n_splits=10, random_state=123)"
   ]
  },
  {
   "cell_type": "code",
   "execution_count": 15,
   "metadata": {},
   "outputs": [],
   "source": [
    "m_list=['RMSE', 'MAE', 'PREC_5', 'REC_5', 'NDCG_5', 'PREC_10', 'REC_10', 'NDCG_10', 'PREC_15', 'REC_15', 'NDCG_15']"
   ]
  },
  {
   "cell_type": "markdown",
   "metadata": {},
   "source": [
    "### CoSVD (F=40)"
   ]
  },
  {
   "cell_type": "code",
   "execution_count": 5,
   "metadata": {},
   "outputs": [
    {
     "name": "stdout",
     "output_type": "stream",
     "text": [
      "Evaluating RMSE, MAE, NDCG_5, NDCG_10, NDCG_15, PREC_5, PREC_10, PREC_15, REC_5, REC_10, REC_15 of algorithm CoSVDv9 on 10 split(s).\n",
      "\n",
      "                  Fold 1  Fold 2  Fold 3  Fold 4  Fold 5  Fold 6  Fold 7  Fold 8  Fold 9  Fold 10 Mean    Std     \n",
      "RMSE (testset)    0.7815  0.7831  0.7830  0.7843  0.7839  0.7836  0.7842  0.7833  0.7829  0.7839  0.7834  0.0008  \n",
      "MAE (testset)     0.6000  0.6007  0.6009  0.6020  0.6017  0.6012  0.6017  0.6012  0.6010  0.6014  0.6012  0.0005  \n",
      "NDCG_5 (testset)  0.8742  0.8738  0.8746  0.8734  0.8732  0.8740  0.8739  0.8740  0.8740  0.8741  0.8739  0.0004  \n",
      "NDCG_10 (testset) 0.9016  0.9012  0.9018  0.9009  0.9007  0.9012  0.9010  0.9013  0.9011  0.9014  0.9012  0.0003  \n",
      "NDCG_15 (testset) 0.9133  0.9129  0.9134  0.9125  0.9123  0.9128  0.9128  0.9130  0.9128  0.9130  0.9129  0.0003  \n",
      "PREC_5 (testset)  0.3994  0.3999  0.4010  0.3995  0.3984  0.3980  0.3996  0.4009  0.3999  0.4003  0.3997  0.0009  \n",
      "PREC_10 (testset) 0.3952  0.3956  0.3966  0.3955  0.3940  0.3939  0.3955  0.3968  0.3957  0.3960  0.3955  0.0009  \n",
      "PREC_15 (testset) 0.3939  0.3942  0.3952  0.3941  0.3925  0.3925  0.3939  0.3954  0.3943  0.3947  0.3941  0.0009  \n",
      "REC_5 (testset)   0.2218  0.2217  0.2226  0.2215  0.2216  0.2206  0.2214  0.2220  0.2222  0.2220  0.2217  0.0005  \n",
      "REC_10 (testset)  0.2499  0.2508  0.2513  0.2506  0.2509  0.2496  0.2503  0.2511  0.2510  0.2508  0.2506  0.0005  \n",
      "REC_15 (testset)  0.2593  0.2603  0.2606  0.2600  0.2603  0.2589  0.2597  0.2604  0.2604  0.2602  0.2600  0.0005  \n",
      "Fit time          68470.8068529.8067382.4767381.8468101.6467606.6368731.6069706.5767799.2467856.7668156.74685.10  \n",
      "Test time         8.36    8.53    8.38    8.82    8.38    8.51    8.39    8.48    8.39    8.33    8.46    0.14    \n",
      "204201.4449839592\n"
     ]
    }
   ],
   "source": [
    "algo = CoSVDv9(verbose=False, n_epochs=65, lr_all=0.0028, n_factors=40, tags=raw_tags, random_state=123)\n",
    "\n",
    "start = time.time()\n",
    "cross_validate(algo, data, measures=m_list, cv=cv, verbose=True, n_jobs=4)\n",
    "print(time.time() - start)"
   ]
  },
  {
   "cell_type": "markdown",
   "metadata": {},
   "source": [
    "### CoSVD (F=30)"
   ]
  },
  {
   "cell_type": "code",
   "execution_count": 8,
   "metadata": {},
   "outputs": [
    {
     "name": "stdout",
     "output_type": "stream",
     "text": [
      "Evaluating RMSE, MAE, NDCG_5, NDCG_10, NDCG_15, PREC_5, PREC_10, PREC_15, REC_5, REC_10, REC_15 of algorithm CoSVDv9 on 10 split(s).\n",
      "\n",
      "                  Fold 1  Fold 2  Fold 3  Fold 4  Fold 5  Fold 6  Fold 7  Fold 8  Fold 9  Fold 10 Mean    Std     \n",
      "RMSE (testset)    0.7828  0.7838  0.7838  0.7850  0.7844  0.7844  0.7849  0.7840  0.7837  0.7849  0.7842  0.0007  \n",
      "MAE (testset)     0.6010  0.6012  0.6015  0.6026  0.6021  0.6019  0.6023  0.6019  0.6018  0.6021  0.6019  0.0005  \n",
      "NDCG_5 (testset)  0.8735  0.8734  0.8746  0.8732  0.8731  0.8734  0.8732  0.8734  0.8736  0.8737  0.8735  0.0004  \n",
      "NDCG_10 (testset) 0.9011  0.9010  0.9017  0.9006  0.9006  0.9007  0.9005  0.9010  0.9008  0.9009  0.9009  0.0003  \n",
      "NDCG_15 (testset) 0.9128  0.9127  0.9133  0.9123  0.9123  0.9124  0.9123  0.9128  0.9126  0.9126  0.9126  0.0003  \n",
      "PREC_5 (testset)  0.3978  0.4000  0.3999  0.3986  0.3992  0.3971  0.3990  0.3991  0.3986  0.3980  0.3987  0.0009  \n",
      "PREC_10 (testset) 0.3937  0.3958  0.3954  0.3946  0.3950  0.3932  0.3949  0.3950  0.3945  0.3937  0.3946  0.0008  \n",
      "PREC_15 (testset) 0.3923  0.3943  0.3940  0.3931  0.3935  0.3918  0.3934  0.3937  0.3930  0.3923  0.3931  0.0008  \n",
      "REC_5 (testset)   0.2214  0.2218  0.2225  0.2215  0.2212  0.2200  0.2213  0.2217  0.2216  0.2215  0.2215  0.0006  \n",
      "REC_10 (testset)  0.2496  0.2510  0.2511  0.2506  0.2505  0.2489  0.2502  0.2507  0.2504  0.2505  0.2503  0.0006  \n",
      "REC_15 (testset)  0.2589  0.2604  0.2604  0.2600  0.2599  0.2583  0.2597  0.2601  0.2598  0.2599  0.2597  0.0006  \n",
      "Fit time          67719.9069755.9069644.0168316.9369320.8267945.8668601.2469273.3569549.9068565.3768869.33697.12  \n",
      "Test time         8.61    8.61    8.73    8.44    8.43    8.59    8.49    8.49    8.36    8.47    8.52    0.10    \n",
      "140074.8040754795\n"
     ]
    }
   ],
   "source": [
    "algo = CoSVDv9(verbose=False, n_epochs=65, lr_all=0.0028, n_factors=30, tags=raw_tags, random_state=123)\n",
    "\n",
    "start = time.time()\n",
    "cross_validate(algo, data, measures=m_list, cv=cv, verbose=True, n_jobs=5)\n",
    "print(time.time() - start)"
   ]
  },
  {
   "cell_type": "markdown",
   "metadata": {},
   "source": [
    "### CoSVD(F=20)"
   ]
  },
  {
   "cell_type": "code",
   "execution_count": 9,
   "metadata": {},
   "outputs": [
    {
     "name": "stdout",
     "output_type": "stream",
     "text": [
      "Evaluating RMSE, MAE, NDCG_5, NDCG_10, NDCG_15, PREC_5, PREC_10, PREC_15, REC_5, REC_10, REC_15 of algorithm CoSVDv9 on 10 split(s).\n",
      "\n",
      "                  Fold 1  Fold 2  Fold 3  Fold 4  Fold 5  Fold 6  Fold 7  Fold 8  Fold 9  Fold 10 Mean    Std     \n",
      "RMSE (testset)    0.7845  0.7861  0.7865  0.7875  0.7870  0.7869  0.7874  0.7866  0.7860  0.7872  0.7866  0.0008  \n",
      "MAE (testset)     0.6025  0.6032  0.6037  0.6048  0.6044  0.6040  0.6043  0.6041  0.6038  0.6042  0.6039  0.0006  \n",
      "NDCG_5 (testset)  0.8726  0.8722  0.8728  0.8718  0.8721  0.8723  0.8722  0.8720  0.8725  0.8725  0.8723  0.0003  \n",
      "NDCG_10 (testset) 0.9004  0.9000  0.9004  0.8996  0.8997  0.8999  0.8997  0.8998  0.8999  0.9000  0.8999  0.0003  \n",
      "NDCG_15 (testset) 0.9122  0.9118  0.9122  0.9115  0.9116  0.9117  0.9117  0.9118  0.9118  0.9119  0.9118  0.0002  \n",
      "PREC_5 (testset)  0.3957  0.3974  0.3975  0.3964  0.3963  0.3953  0.3950  0.3966  0.3966  0.3960  0.3963  0.0008  \n",
      "PREC_10 (testset) 0.3915  0.3932  0.3932  0.3922  0.3918  0.3910  0.3908  0.3926  0.3922  0.3915  0.3920  0.0008  \n",
      "PREC_15 (testset) 0.3902  0.3917  0.3919  0.3907  0.3904  0.3897  0.3893  0.3912  0.3908  0.3902  0.3906  0.0008  \n",
      "REC_5 (testset)   0.2204  0.2207  0.2218  0.2197  0.2203  0.2193  0.2194  0.2200  0.2209  0.2207  0.2203  0.0007  \n",
      "REC_10 (testset)  0.2484  0.2498  0.2504  0.2486  0.2493  0.2481  0.2483  0.2490  0.2495  0.2494  0.2491  0.0007  \n",
      "REC_15 (testset)  0.2578  0.2592  0.2598  0.2580  0.2587  0.2576  0.2577  0.2584  0.2590  0.2588  0.2585  0.0007  \n",
      "Fit time          70976.8967555.5368032.9968098.7969100.3468216.7868688.1169164.2168745.2169472.9268805.18916.44  \n",
      "Test time         8.82    8.45    8.36    8.60    8.24    8.44    8.42    8.37    8.33    8.73    8.47    0.18    \n",
      "141123.07227301598\n"
     ]
    }
   ],
   "source": [
    "algo = CoSVDv9(verbose=False, n_epochs=65, lr_all=0.0028, n_factors=20, tags=raw_tags, random_state=123)\n",
    "\n",
    "start = time.time()\n",
    "cross_validate(algo, data, measures=m_list, cv=cv, verbose=True, n_jobs=5)\n",
    "print(time.time() - start)"
   ]
  },
  {
   "cell_type": "markdown",
   "metadata": {},
   "source": [
    "### SVD(F=40)"
   ]
  },
  {
   "cell_type": "code",
   "execution_count": 6,
   "metadata": {},
   "outputs": [
    {
     "name": "stdout",
     "output_type": "stream",
     "text": [
      "Evaluating RMSE, MAE, NDCG_5, NDCG_10, NDCG_15, PREC_5, PREC_10, PREC_15, REC_5, REC_10, REC_15 of algorithm SVD on 10 split(s).\n",
      "\n",
      "                  Fold 1  Fold 2  Fold 3  Fold 4  Fold 5  Fold 6  Fold 7  Fold 8  Fold 9  Fold 10 Mean    Std     \n",
      "RMSE (testset)    0.8157  0.8169  0.8166  0.8176  0.8172  0.8172  0.8176  0.8167  0.8161  0.8179  0.8170  0.0007  \n",
      "MAE (testset)     0.6312  0.6315  0.6318  0.6323  0.6321  0.6319  0.6321  0.6317  0.6314  0.6322  0.6318  0.0004  \n",
      "NDCG_5 (testset)  0.8619  0.8619  0.8628  0.8618  0.8618  0.8618  0.8621  0.8623  0.8624  0.8622  0.8621  0.0003  \n",
      "NDCG_10 (testset) 0.8919  0.8918  0.8925  0.8917  0.8916  0.8916  0.8916  0.8921  0.8918  0.8918  0.8919  0.0003  \n",
      "NDCG_15 (testset) 0.9050  0.9048  0.9054  0.9049  0.9046  0.9046  0.9048  0.9052  0.9047  0.9049  0.9049  0.0002  \n",
      "PREC_5 (testset)  0.3565  0.3588  0.3595  0.3584  0.3599  0.3577  0.3584  0.3598  0.3597  0.3594  0.3588  0.0010  \n",
      "PREC_10 (testset) 0.3530  0.3552  0.3559  0.3549  0.3563  0.3541  0.3550  0.3561  0.3560  0.3555  0.3552  0.0010  \n",
      "PREC_15 (testset) 0.3519  0.3541  0.3548  0.3537  0.3551  0.3530  0.3538  0.3550  0.3548  0.3544  0.3541  0.0010  \n",
      "REC_5 (testset)   0.1990  0.2005  0.2010  0.2001  0.2012  0.1996  0.2004  0.2006  0.2012  0.2012  0.2005  0.0007  \n",
      "REC_10 (testset)  0.2243  0.2265  0.2265  0.2260  0.2274  0.2254  0.2262  0.2267  0.2271  0.2269  0.2263  0.0009  \n",
      "REC_15 (testset)  0.2327  0.2352  0.2351  0.2346  0.2360  0.2340  0.2348  0.2352  0.2356  0.2354  0.2349  0.0009  \n",
      "Fit time          483.34  469.37  466.59  462.60  467.97  464.67  464.73  465.52  506.40  475.68  472.69  12.69   \n",
      "Test time         8.77    8.63    8.74    8.52    8.44    8.87    8.53    8.60    8.38    8.24    8.57    0.18    \n",
      "2089.705953836441\n"
     ]
    }
   ],
   "source": [
    "algo = SVD(verbose=False, n_epochs=60, lr_all=0.008, reg_all=0.09, n_factors=40, random_state=123)\n",
    "\n",
    "start = time.time()\n",
    "cross_validate(algo, data, measures=m_list, cv=cv, verbose=True, n_jobs=5)\n",
    "print(time.time() - start)"
   ]
  },
  {
   "cell_type": "markdown",
   "metadata": {},
   "source": [
    "### SVD(F=30)"
   ]
  },
  {
   "cell_type": "code",
   "execution_count": null,
   "metadata": {},
   "outputs": [],
   "source": [
    "algo = SVD(verbose=False, n_epochs=60, lr_all=0.008, reg_all=0.09, n_factors=30, random_state=123)\n",
    "\n",
    "start = time.time()\n",
    "cross_validate(algo, data, measures=m_list, cv=cv, verbose=True, n_jobs=5)\n",
    "print(time.time() - start)"
   ]
  },
  {
   "cell_type": "markdown",
   "metadata": {},
   "source": [
    "### SVD(F=20)"
   ]
  },
  {
   "cell_type": "code",
   "execution_count": 11,
   "metadata": {},
   "outputs": [
    {
     "name": "stdout",
     "output_type": "stream",
     "text": [
      "Evaluating RMSE, MAE, NDCG_5, NDCG_10, NDCG_15, PREC_5, PREC_10, PREC_15, REC_5, REC_10, REC_15 of algorithm SVD on 10 split(s).\n",
      "\n",
      "                  Fold 1  Fold 2  Fold 3  Fold 4  Fold 5  Fold 6  Fold 7  Fold 8  Fold 9  Fold 10 Mean    Std     \n",
      "RMSE (testset)    0.8165  0.8177  0.8175  0.8184  0.8181  0.8180  0.8184  0.8176  0.8170  0.8188  0.8178  0.0006  \n",
      "MAE (testset)     0.6319  0.6320  0.6324  0.6329  0.6328  0.6324  0.6327  0.6324  0.6320  0.6329  0.6324  0.0004  \n",
      "NDCG_5 (testset)  0.8613  0.8614  0.8625  0.8613  0.8612  0.8615  0.8617  0.8619  0.8621  0.8617  0.8616  0.0004  \n",
      "NDCG_10 (testset) 0.8914  0.8914  0.8923  0.8914  0.8912  0.8913  0.8912  0.8918  0.8916  0.8914  0.8915  0.0003  \n",
      "NDCG_15 (testset) 0.9045  0.9044  0.9052  0.9045  0.9042  0.9044  0.9045  0.9049  0.9045  0.9046  0.9046  0.0003  \n",
      "PREC_5 (testset)  0.3555  0.3591  0.3587  0.3575  0.3592  0.3569  0.3582  0.3595  0.3596  0.3594  0.3584  0.0013  \n",
      "PREC_10 (testset) 0.3522  0.3554  0.3551  0.3541  0.3557  0.3534  0.3548  0.3559  0.3558  0.3555  0.3548  0.0012  \n",
      "PREC_15 (testset) 0.3511  0.3543  0.3540  0.3529  0.3545  0.3523  0.3536  0.3547  0.3547  0.3544  0.3536  0.0011  \n",
      "REC_5 (testset)   0.1986  0.2003  0.2007  0.1997  0.2008  0.1992  0.2001  0.2005  0.2011  0.2010  0.2002  0.0008  \n",
      "REC_10 (testset)  0.2238  0.2264  0.2263  0.2256  0.2271  0.2250  0.2259  0.2266  0.2270  0.2267  0.2261  0.0010  \n",
      "REC_15 (testset)  0.2323  0.2351  0.2349  0.2342  0.2357  0.2336  0.2345  0.2352  0.2355  0.2353  0.2346  0.0010  \n",
      "Fit time          325.54  327.85  326.82  334.31  345.57  327.60  327.69  328.12  331.74  326.43  330.17  5.71    \n",
      "Test time         8.66    8.81    8.46    8.49    8.53    8.68    8.60    8.35    8.50    8.29    8.54    0.15    \n",
      "1887.9650917053223\n"
     ]
    }
   ],
   "source": [
    "algo = SVD(verbose=False, n_epochs=60, lr_all=0.008, reg_all=0.09, n_factors=20, random_state=123)\n",
    "\n",
    "start = time.time()\n",
    "cross_validate(algo, data, measures=m_list, cv=cv, verbose=True, n_jobs=5)\n",
    "print(time.time() - start)"
   ]
  },
  {
   "cell_type": "markdown",
   "metadata": {},
   "source": [
    "### SVD++(F=40)"
   ]
  },
  {
   "cell_type": "code",
   "execution_count": 18,
   "metadata": {},
   "outputs": [
    {
     "name": "stdout",
     "output_type": "stream",
     "text": [
      "Evaluating RMSE, MAE, PREC_5, REC_5, NDCG_5, PREC_10, REC_10, NDCG_10, PREC_15, REC_15, NDCG_15 of algorithm SVDpp on 10 split(s).\n",
      "\n",
      "                  Fold 1  Fold 2  Fold 3  Fold 4  Fold 5  Fold 6  Fold 7  Fold 8  Fold 9  Fold 10 Mean    Std     \n",
      "RMSE (testset)    0.8030  0.8027  0.8028  0.8038  0.8038  0.8039  0.8038  0.8036  0.8031  0.8035  0.8034  0.0004  \n",
      "MAE (testset)     0.6118  0.6115  0.6117  0.6123  0.6122  0.6123  0.6121  0.6125  0.6121  0.6121  0.6121  0.0003  \n",
      "PREC_5 (testset)  0.4564  0.4592  0.4600  0.4589  0.4594  0.4573  0.4581  0.4586  0.4588  0.4600  0.4587  0.0011  \n",
      "REC_5 (testset)   0.2644  0.2646  0.2650  0.2649  0.2644  0.2633  0.2630  0.2643  0.2635  0.2653  0.2643  0.0007  \n",
      "NDCG_5 (testset)  0.8703  0.8701  0.8707  0.8701  0.8697  0.8706  0.8698  0.8697  0.8705  0.8704  0.8702  0.0003  \n",
      "PREC_10 (testset) 0.4506  0.4532  0.4543  0.4529  0.4533  0.4515  0.4520  0.4527  0.4532  0.4542  0.4528  0.0011  \n",
      "REC_10 (testset)  0.2989  0.2997  0.2998  0.3002  0.2998  0.2981  0.2978  0.2993  0.2985  0.3004  0.2992  0.0008  \n",
      "NDCG_10 (testset) 0.8985  0.8983  0.8990  0.8983  0.8978  0.8985  0.8979  0.8979  0.8985  0.8986  0.8983  0.0003  \n",
      "PREC_15 (testset) 0.4487  0.4514  0.4523  0.4509  0.4513  0.4495  0.4500  0.4510  0.4513  0.4523  0.4509  0.0011  \n",
      "REC_15 (testset)  0.3103  0.3112  0.3113  0.3116  0.3112  0.3096  0.3093  0.3108  0.3100  0.3118  0.3107  0.0008  \n",
      "NDCG_15 (testset) 0.9106  0.9105  0.9108  0.9103  0.9099  0.9105  0.9099  0.9102  0.9105  0.9105  0.9104  0.0003  \n",
      "Fit time          99963.80101170.95100413.21101379.53102055.92100139.09101787.89100139.08100913.32101722.99100968.58730.05  \n",
      "Test time         275.88  260.98  264.82  261.75  256.58  274.39  261.83  261.28  257.42  255.16  263.01  6.65    \n",
      "205381.27098941803\n"
     ]
    }
   ],
   "source": [
    "algo = SVDpp(verbose=False, n_epochs=45, lr_all=0.0012, reg_all=0.0012, n_factors=40, random_state=123)\n",
    "\n",
    "start = time.time()\n",
    "cross_validate(algo, data, measures=m_list, cv=cv, verbose=True, n_jobs=5)\n",
    "print(time.time() - start)"
   ]
  },
  {
   "cell_type": "markdown",
   "metadata": {},
   "source": [
    "### SVD++(F=30)"
   ]
  },
  {
   "cell_type": "code",
   "execution_count": 19,
   "metadata": {},
   "outputs": [
    {
     "name": "stdout",
     "output_type": "stream",
     "text": [
      "Evaluating RMSE, MAE, PREC_5, REC_5, NDCG_5, PREC_10, REC_10, NDCG_10, PREC_15, REC_15, NDCG_15 of algorithm SVDpp on 10 split(s).\n",
      "\n",
      "                  Fold 1  Fold 2  Fold 3  Fold 4  Fold 5  Fold 6  Fold 7  Fold 8  Fold 9  Fold 10 Mean    Std     \n",
      "RMSE (testset)    0.8004  0.8005  0.8009  0.8020  0.8012  0.8013  0.8023  0.8012  0.8009  0.8015  0.8012  0.0006  \n",
      "MAE (testset)     0.6101  0.6097  0.6100  0.6109  0.6104  0.6102  0.6111  0.6106  0.6102  0.6104  0.6104  0.0004  \n",
      "PREC_5 (testset)  0.4541  0.4579  0.4583  0.4583  0.4576  0.4565  0.4571  0.4560  0.4567  0.4560  0.4569  0.0012  \n",
      "REC_5 (testset)   0.2616  0.2648  0.2650  0.2648  0.2648  0.2627  0.2636  0.2637  0.2630  0.2631  0.2637  0.0011  \n",
      "NDCG_5 (testset)  0.8713  0.8708  0.8718  0.8709  0.8711  0.8712  0.8706  0.8708  0.8709  0.8711  0.8710  0.0003  \n",
      "PREC_10 (testset) 0.4482  0.4521  0.4524  0.4524  0.4514  0.4504  0.4513  0.4503  0.4510  0.4503  0.4510  0.0012  \n",
      "REC_10 (testset)  0.2959  0.3003  0.3004  0.3003  0.3003  0.2976  0.2988  0.2990  0.2980  0.2983  0.2989  0.0014  \n",
      "NDCG_10 (testset) 0.8994  0.8992  0.8996  0.8988  0.8989  0.8990  0.8987  0.8989  0.8988  0.8990  0.8990  0.0003  \n",
      "PREC_15 (testset) 0.4463  0.4501  0.4503  0.4504  0.4494  0.4486  0.4492  0.4485  0.4491  0.4484  0.4490  0.0012  \n",
      "REC_15 (testset)  0.3072  0.3120  0.3120  0.3118  0.3119  0.3091  0.3104  0.3107  0.3096  0.3098  0.3104  0.0015  \n",
      "NDCG_15 (testset) 0.9113  0.9112  0.9113  0.9108  0.9109  0.9109  0.9107  0.9111  0.9108  0.9110  0.9110  0.0002  \n",
      "Fit time          81506.6282694.9082349.2982818.9783021.2382968.3982940.1381672.9483218.5485592.8882878.391056.81 \n",
      "Test time         257.48  260.65  261.41  257.56  266.97  257.74  259.94  256.24  254.84  261.62  259.44  3.30    \n",
      "170236.59435677528\n"
     ]
    }
   ],
   "source": [
    "algo = SVDpp(verbose=False, n_epochs=45, lr_all=0.0012, reg_all=0.0012, n_factors=30, random_state=123)\n",
    "\n",
    "start = time.time()\n",
    "cross_validate(algo, data, measures=m_list, cv=cv, verbose=True, n_jobs=5)\n",
    "print(time.time() - start)"
   ]
  },
  {
   "cell_type": "markdown",
   "metadata": {},
   "source": [
    "### SVD++(F=20)"
   ]
  },
  {
   "cell_type": "code",
   "execution_count": 20,
   "metadata": {},
   "outputs": [
    {
     "name": "stdout",
     "output_type": "stream",
     "text": [
      "Evaluating RMSE, MAE, PREC_5, REC_5, NDCG_5, PREC_10, REC_10, NDCG_10, PREC_15, REC_15, NDCG_15 of algorithm SVDpp on 10 split(s).\n",
      "\n",
      "                  Fold 1  Fold 2  Fold 3  Fold 4  Fold 5  Fold 6  Fold 7  Fold 8  Fold 9  Fold 10 Mean    Std     \n",
      "RMSE (testset)    0.7995  0.7993  0.7995  0.8015  0.8003  0.8007  0.8006  0.7998  0.8000  0.8001  0.8001  0.0006  \n",
      "MAE (testset)     0.6092  0.6091  0.6093  0.6108  0.6100  0.6100  0.6099  0.6098  0.6098  0.6096  0.6098  0.0005  \n",
      "PREC_5 (testset)  0.4511  0.4541  0.4549  0.4540  0.4540  0.4524  0.4546  0.4548  0.4544  0.4533  0.4538  0.0011  \n",
      "REC_5 (testset)   0.2606  0.2625  0.2623  0.2630  0.2618  0.2610  0.2614  0.2626  0.2614  0.2611  0.2618  0.0008  \n",
      "NDCG_5 (testset)  0.8715  0.8709  0.8716  0.8708  0.8707  0.8716  0.8712  0.8711  0.8717  0.8717  0.8713  0.0004  \n",
      "PREC_10 (testset) 0.4455  0.4482  0.4487  0.4483  0.4479  0.4465  0.4484  0.4492  0.4487  0.4473  0.4479  0.0011  \n",
      "REC_10 (testset)  0.2949  0.2979  0.2973  0.2981  0.2974  0.2961  0.2966  0.2980  0.2966  0.2962  0.2969  0.0010  \n",
      "NDCG_10 (testset) 0.8995  0.8990  0.8995  0.8987  0.8986  0.8994  0.8990  0.8992  0.8995  0.8994  0.8992  0.0003  \n",
      "PREC_15 (testset) 0.4436  0.4462  0.4467  0.4462  0.4458  0.4445  0.4464  0.4474  0.4468  0.4453  0.4459  0.0011  \n",
      "REC_15 (testset)  0.3064  0.3095  0.3089  0.3096  0.3089  0.3077  0.3082  0.3096  0.3082  0.3077  0.3085  0.0010  \n",
      "NDCG_15 (testset) 0.9115  0.9111  0.9113  0.9108  0.9106  0.9113  0.9110  0.9113  0.9115  0.9112  0.9112  0.0003  \n",
      "Fit time          62973.1264304.4963103.0563952.7863024.3162878.4665409.4964325.5764879.6764107.4463895.84832.66  \n",
      "Test time         258.29  253.80  255.96  256.36  255.41  254.19  251.29  253.67  259.14  249.48  254.76  2.80    \n",
      "130226.8409204483\n"
     ]
    }
   ],
   "source": [
    "algo = SVDpp(verbose=False, n_epochs=45, lr_all=0.0012, reg_all=0.0012, n_factors=20, random_state=123)\n",
    "\n",
    "start = time.time()\n",
    "cross_validate(algo, data, measures=m_list, cv=cv, verbose=True, n_jobs=5)\n",
    "print(time.time() - start)"
   ]
  },
  {
   "cell_type": "markdown",
   "metadata": {},
   "source": [
    "## NMF(F=40)"
   ]
  },
  {
   "cell_type": "code",
   "execution_count": 21,
   "metadata": {},
   "outputs": [
    {
     "name": "stdout",
     "output_type": "stream",
     "text": [
      "Evaluating RMSE, MAE, PREC_5, REC_5, NDCG_5, PREC_10, REC_10, NDCG_10, PREC_15, REC_15, NDCG_15 of algorithm NMF on 10 split(s).\n",
      "\n",
      "                  Fold 1  Fold 2  Fold 3  Fold 4  Fold 5  Fold 6  Fold 7  Fold 8  Fold 9  Fold 10 Mean    Std     \n",
      "RMSE (testset)    0.8653  0.8678  0.8671  0.8682  0.8672  0.8676  0.8680  0.8671  0.8665  0.8681  0.8673  0.0008  \n",
      "MAE (testset)     0.6693  0.6706  0.6703  0.6714  0.6708  0.6706  0.6709  0.6702  0.6700  0.6707  0.6705  0.0005  \n",
      "PREC_5 (testset)  0.3345  0.3350  0.3361  0.3342  0.3357  0.3337  0.3347  0.3354  0.3348  0.3353  0.3349  0.0007  \n",
      "REC_5 (testset)   0.1884  0.1879  0.1894  0.1882  0.1892  0.1875  0.1885  0.1887  0.1885  0.1890  0.1885  0.0006  \n",
      "NDCG_5 (testset)  0.8387  0.8373  0.8382  0.8375  0.8379  0.8380  0.8376  0.8375  0.8384  0.8381  0.8379  0.0004  \n",
      "PREC_10 (testset) 0.3319  0.3320  0.3332  0.3313  0.3329  0.3309  0.3318  0.3327  0.3320  0.3324  0.3321  0.0007  \n",
      "REC_10 (testset)  0.2137  0.2141  0.2150  0.2138  0.2151  0.2131  0.2141  0.2149  0.2143  0.2149  0.2143  0.0006  \n",
      "NDCG_10 (testset) 0.8741  0.8729  0.8737  0.8729  0.8732  0.8733  0.8729  0.8731  0.8734  0.8735  0.8733  0.0004  \n",
      "PREC_15 (testset) 0.3309  0.3309  0.3323  0.3302  0.3319  0.3300  0.3308  0.3316  0.3310  0.3314  0.3311  0.0007  \n",
      "REC_15 (testset)  0.2221  0.2227  0.2236  0.2223  0.2238  0.2217  0.2228  0.2234  0.2229  0.2235  0.2229  0.0007  \n",
      "NDCG_15 (testset) 0.8893  0.8881  0.8888  0.8881  0.8884  0.8886  0.8881  0.8884  0.8886  0.8887  0.8885  0.0004  \n",
      "Fit time          414.98  423.25  421.31  422.93  427.41  418.30  415.84  411.75  412.42  404.48  417.27  6.42    \n",
      "Test time         8.15    8.10    8.16    8.05    8.18    8.00    8.17    7.87    7.95    7.60    8.02    0.17    \n",
      "1684.4733803272247\n"
     ]
    }
   ],
   "source": [
    "algo = NMF(verbose=False, n_epochs=40, reg_pu=0.19, reg_qi=0.08, lr_bu=0.001, lr_bi=0.001, reg_bu=0.001, reg_bi=0.001, n_factors=40, random_state=123)\n",
    "\n",
    "start = time.time()\n",
    "cross_validate(algo, data, measures=m_list, cv=cv, verbose=True, n_jobs=-1)\n",
    "print(time.time() - start)"
   ]
  },
  {
   "cell_type": "markdown",
   "metadata": {},
   "source": [
    "## NMF(F=30)"
   ]
  },
  {
   "cell_type": "code",
   "execution_count": 22,
   "metadata": {},
   "outputs": [
    {
     "name": "stdout",
     "output_type": "stream",
     "text": [
      "Evaluating RMSE, MAE, PREC_5, REC_5, NDCG_5, PREC_10, REC_10, NDCG_10, PREC_15, REC_15, NDCG_15 of algorithm NMF on 10 split(s).\n",
      "\n",
      "                  Fold 1  Fold 2  Fold 3  Fold 4  Fold 5  Fold 6  Fold 7  Fold 8  Fold 9  Fold 10 Mean    Std     \n",
      "RMSE (testset)    0.8668  0.8681  0.8674  0.8688  0.8676  0.8680  0.8684  0.8676  0.8670  0.8685  0.8678  0.0006  \n",
      "MAE (testset)     0.6727  0.6731  0.6727  0.6740  0.6732  0.6732  0.6734  0.6728  0.6726  0.6733  0.6731  0.0004  \n",
      "PREC_5 (testset)  0.3232  0.3247  0.3259  0.3238  0.3252  0.3235  0.3239  0.3249  0.3233  0.3243  0.3243  0.0009  \n",
      "REC_5 (testset)   0.1780  0.1780  0.1787  0.1778  0.1791  0.1778  0.1782  0.1788  0.1776  0.1791  0.1783  0.0005  \n",
      "NDCG_5 (testset)  0.8383  0.8371  0.8381  0.8371  0.8381  0.8379  0.8374  0.8371  0.8380  0.8376  0.8377  0.0004  \n",
      "PREC_10 (testset) 0.3207  0.3221  0.3235  0.3212  0.3225  0.3211  0.3213  0.3225  0.3210  0.3217  0.3218  0.0008  \n",
      "REC_10 (testset)  0.2014  0.2022  0.2027  0.2016  0.2032  0.2016  0.2020  0.2030  0.2016  0.2032  0.2022  0.0007  \n",
      "NDCG_10 (testset) 0.8738  0.8727  0.8736  0.8725  0.8733  0.8732  0.8728  0.8727  0.8732  0.8730  0.8731  0.0004  \n",
      "PREC_15 (testset) 0.3198  0.3211  0.3227  0.3203  0.3215  0.3202  0.3204  0.3216  0.3201  0.3209  0.3209  0.0008  \n",
      "REC_15 (testset)  0.2092  0.2102  0.2105  0.2096  0.2112  0.2096  0.2101  0.2109  0.2096  0.2112  0.2102  0.0007  \n",
      "NDCG_15 (testset) 0.8890  0.8880  0.8887  0.8879  0.8885  0.8885  0.8880  0.8882  0.8884  0.8883  0.8883  0.0003  \n",
      "Fit time          341.38  342.57  350.35  352.36  349.35  350.29  349.18  346.54  343.43  338.75  346.42  4.36    \n",
      "Test time         8.01    7.93    7.81    8.00    7.98    7.96    7.74    7.82    7.69    7.60    7.86    0.13    \n",
      "1610.1731550693512\n"
     ]
    }
   ],
   "source": [
    "algo = NMF(verbose=False, n_epochs=40, reg_pu=0.19, reg_qi=0.08, lr_bu=0.001, lr_bi=0.001, reg_bu=0.001, reg_bi=0.001, n_factors=30, random_state=123)\n",
    "\n",
    "start = time.time()\n",
    "cross_validate(algo, data, measures=m_list, cv=cv, verbose=True, n_jobs=-1)\n",
    "print(time.time() - start)"
   ]
  },
  {
   "cell_type": "markdown",
   "metadata": {},
   "source": [
    "## NMF(F=20)"
   ]
  },
  {
   "cell_type": "code",
   "execution_count": 23,
   "metadata": {},
   "outputs": [
    {
     "name": "stdout",
     "output_type": "stream",
     "text": [
      "Evaluating RMSE, MAE, PREC_5, REC_5, NDCG_5, PREC_10, REC_10, NDCG_10, PREC_15, REC_15, NDCG_15 of algorithm NMF on 10 split(s).\n",
      "\n",
      "                  Fold 1  Fold 2  Fold 3  Fold 4  Fold 5  Fold 6  Fold 7  Fold 8  Fold 9  Fold 10 Mean    Std     \n",
      "RMSE (testset)    0.8699  0.8721  0.8716  0.8727  0.8718  0.8721  0.8724  0.8716  0.8711  0.8726  0.8718  0.0008  \n",
      "MAE (testset)     0.6786  0.6797  0.6796  0.6806  0.6801  0.6799  0.6802  0.6796  0.6795  0.6802  0.6798  0.0005  \n",
      "PREC_5 (testset)  0.3073  0.3074  0.3079  0.3061  0.3087  0.3051  0.3069  0.3071  0.3066  0.3072  0.3070  0.0009  \n",
      "REC_5 (testset)   0.1635  0.1628  0.1639  0.1625  0.1637  0.1623  0.1628  0.1632  0.1622  0.1631  0.1630  0.0005  \n",
      "NDCG_5 (testset)  0.8375  0.8362  0.8377  0.8367  0.8373  0.8369  0.8364  0.8368  0.8373  0.8371  0.8370  0.0005  \n",
      "PREC_10 (testset) 0.3054  0.3054  0.3059  0.3039  0.3064  0.3031  0.3047  0.3051  0.3047  0.3051  0.3050  0.0009  \n",
      "REC_10 (testset)  0.1843  0.1843  0.1848  0.1835  0.1851  0.1834  0.1840  0.1845  0.1834  0.1845  0.1842  0.0006  \n",
      "NDCG_10 (testset) 0.8732  0.8722  0.8732  0.8722  0.8727  0.8726  0.8720  0.8725  0.8727  0.8725  0.8726  0.0004  \n",
      "PREC_15 (testset) 0.3046  0.3047  0.3052  0.3032  0.3057  0.3024  0.3039  0.3043  0.3039  0.3044  0.3042  0.0009  \n",
      "REC_15 (testset)  0.1911  0.1913  0.1917  0.1904  0.1922  0.1904  0.1910  0.1916  0.1904  0.1914  0.1911  0.0006  \n",
      "NDCG_15 (testset) 0.8884  0.8875  0.8884  0.8875  0.8880  0.8879  0.8872  0.8880  0.8878  0.8878  0.8879  0.0003  \n",
      "Fit time          274.67  278.36  280.50  279.81  278.11  279.35  280.34  277.92  275.90  273.45  277.84  2.30    \n",
      "Test time         7.76    7.80    8.19    7.81    7.77    7.77    7.65    7.79    7.63    7.60    7.78    0.15    \n",
      "1535.7369606494904\n"
     ]
    }
   ],
   "source": [
    "algo = NMF(verbose=False, n_epochs=40, reg_pu=0.19, reg_qi=0.08, lr_bu=0.001, lr_bi=0.001, reg_bu=0.001, reg_bi=0.001, n_factors=20, random_state=123)\n",
    "\n",
    "start = time.time()\n",
    "cross_validate(algo, data, measures=m_list, cv=cv, verbose=True, n_jobs=-1)\n",
    "print(time.time() - start)"
   ]
  }
 ],
 "metadata": {
  "kernelspec": {
   "display_name": "Python 3",
   "language": "python",
   "name": "python3"
  },
  "language_info": {
   "codemirror_mode": {
    "name": "ipython",
    "version": 3
   },
   "file_extension": ".py",
   "mimetype": "text/x-python",
   "name": "python",
   "nbconvert_exporter": "python",
   "pygments_lexer": "ipython3",
   "version": "3.6.7"
  },
  "latex_envs": {
   "LaTeX_envs_menu_present": true,
   "autoclose": false,
   "autocomplete": true,
   "bibliofile": "biblio.bib",
   "cite_by": "apalike",
   "current_citInitial": 1,
   "eqLabelWithNumbers": true,
   "eqNumInitial": 1,
   "hotkeys": {
    "equation": "Ctrl-E",
    "itemize": "Ctrl-I"
   },
   "labels_anchors": false,
   "latex_user_defs": false,
   "report_style_numbering": false,
   "user_envs_cfg": false
  }
 },
 "nbformat": 4,
 "nbformat_minor": 2
}
