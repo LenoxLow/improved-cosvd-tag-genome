{
 "cells": [
  {
   "cell_type": "code",
   "execution_count": 1,
   "metadata": {},
   "outputs": [],
   "source": [
    "from __future__ import (absolute_import, division, print_function,\n",
    "                        unicode_literals)\n",
    "\n",
    "#cimport numpy as np # noqa\n",
    "import numpy as np\n",
    "\n",
    "from surprise import Reader, AlgoBase, PredictionImpossible\n",
    "from surprise import Dataset, SVD, SVDpp, NMF\n",
    "from surprise.utils import get_rng\n",
    "\n",
    "from surprise.model_selection import cross_validate\n",
    "from surprise.model_selection import train_test_split\n",
    "from surprise.model_selection import KFold\n",
    "from surprise.model_selection import GridSearchCV\n",
    "\n",
    "from surprise import accuracy\n",
    "\n",
    "import pandas as pd\n",
    "import os\n",
    "import time\n",
    "import math\n",
    "\n",
    "from sklearn.metrics import confusion_matrix, mean_squared_error, mean_absolute_error, precision_score, recall_score\n",
    "from math import sqrt\n",
    "\n",
    "from surprise import CoSVDv9, CoSVDv5\n",
    "\n",
    "from surprise.model_selection.validation import fit_and_score, print_summary\n",
    "from joblib import Parallel\n",
    "from joblib import delayed\n",
    "\n",
    "import matrices_generation as mg"
   ]
  },
  {
   "cell_type": "code",
   "execution_count": 2,
   "metadata": {},
   "outputs": [],
   "source": [
    "#data_source = 'ml-latest-small' # 100k MovieLens dataset 2016\n",
    "#data_source = 'mlsmall' # 100k MovieLens dataset 2018\n",
    "data_source = 'ml-10M100K' # 10M MovieLens dataset\n",
    "\n",
    "reader = Reader()\n",
    "path = os.path.join('../','Data',data_source)\n",
    "rate = pd.read_csv(path+'/ratings.csv')\n",
    "raw_tags = pd.read_csv(path+'/tags.csv', encoding='utf-8')\n",
    "\n",
    "#gb_tags = raw_tags.groupby(['tag'], as_index=False)['userId'].count()\n",
    "#filtered_tags = raw_tags[raw_tags.tag.isin(list(gb_tags.tag[gb_tags.userId >= tag_threshold]))].reset_index(drop=True)\n",
    "\n",
    "data = Dataset.load_from_df(rate[['userId', 'movieId', 'rating']], reader)\n",
    "\n",
    "cv = KFold(n_splits=10, random_state=123)"
   ]
  },
  {
   "cell_type": "code",
   "execution_count": 3,
   "metadata": {},
   "outputs": [],
   "source": [
    "def cold_start_input(data, rate, n_rating=10, n_exp=10, random_state=123):\n",
    "    np.random.seed(random_state)\n",
    "    for i in np.random.randint(0, 1000, n_exp):\n",
    "        temp = rate.groupby('userId')['movieId'].apply(lambda s: s.sample(n_rating, random_state=i)).reset_index()\n",
    "        temp2 = np.arange(len(data.raw_ratings))\n",
    "        temp2 = np.delete(temp2, temp.level_1)\n",
    "\n",
    "        raw_trainset = [data.raw_ratings[i] for i in temp.level_1]\n",
    "        raw_testset = [data.raw_ratings[i] for i in temp2]\n",
    "\n",
    "        trainset = data.construct_trainset(raw_trainset)\n",
    "        testset = data.construct_testset(raw_testset)\n",
    "        \n",
    "        yield trainset, testset\n",
    "        \n",
    "def parellel_cold_start(algo, data, raw_ratings, measures=['rmse', 'mae'], random_state=123, n_rating=10, n_exp=10, n_jobs=1, pre_dispatch='2*n_jobs', return_train_measures = False, verbose=True):\n",
    "    measures = [m.lower() for m in measures]\n",
    "\n",
    "    delayed_list = (delayed(fit_and_score)(algo, trainset, testset, measures,\n",
    "                                               return_train_measures)\n",
    "                    for (trainset, testset) in cold_start_input(data, raw_ratings, n_rating, n_exp, random_state))\n",
    "\n",
    "    out = Parallel(n_jobs=n_jobs, pre_dispatch=pre_dispatch)(delayed_list)\n",
    "\n",
    "    (test_measures_dicts,\n",
    "     train_measures_dicts,\n",
    "     fit_times,\n",
    "     test_times) = zip(*out)\n",
    "\n",
    "    test_measures = dict()\n",
    "    train_measures = dict()\n",
    "    ret = dict()\n",
    "    for m in measures:\n",
    "        test_measures[m] = np.asarray([d[m] for d in test_measures_dicts])\n",
    "        ret['test_' + m] = test_measures[m]\n",
    "        if return_train_measures:\n",
    "            train_measures[m] = np.asarray([d[m] for d in\n",
    "                                            train_measures_dicts])\n",
    "            ret['train_' + m] = train_measures[m]\n",
    "\n",
    "    ret['fit_time'] = fit_times\n",
    "    ret['test_time'] = test_times\n",
    "\n",
    "    if verbose:\n",
    "        print_summary(algo, measures, test_measures, train_measures, fit_times,\n",
    "                      test_times, n_exp)"
   ]
  },
  {
   "cell_type": "code",
   "execution_count": 4,
   "metadata": {},
   "outputs": [],
   "source": [
    "m_list=['RMSE', 'MAE', 'PREC_5', 'REC_5', 'NDCG_5', 'PREC_10', 'REC_10', 'NDCG_10', 'PREC_15', 'REC_15', 'NDCG_15']"
   ]
  },
  {
   "cell_type": "markdown",
   "metadata": {},
   "source": [
    "## Cold Start User - 10"
   ]
  },
  {
   "cell_type": "markdown",
   "metadata": {},
   "source": [
    "### CoSVD"
   ]
  },
  {
   "cell_type": "code",
   "execution_count": 9,
   "metadata": {},
   "outputs": [
    {
     "name": "stdout",
     "output_type": "stream",
     "text": [
      "Evaluating RMSE, MAE, PREC_5, REC_5, NDCG_5, PREC_10, REC_10, NDCG_10, PREC_15, REC_15, NDCG_15 of algorithm CoSVDv9 on 10 split(s).\n",
      "\n",
      "                  Fold 1  Fold 2  Fold 3  Fold 4  Fold 5  Fold 6  Fold 7  Fold 8  Fold 9  Fold 10 Mean    Std     \n",
      "RMSE (testset)    0.9155  0.9149  0.9150  0.9148  0.9157  0.9148  0.9157  0.9145  0.9148  0.9155  0.9151  0.0004  \n",
      "MAE (testset)     0.7100  0.7094  0.7096  0.7093  0.7103  0.7094  0.7105  0.7089  0.7098  0.7096  0.7097  0.0005  \n",
      "PREC_5 (testset)  0.4834  0.4871  0.4782  0.4832  0.4791  0.4829  0.4832  0.4860  0.4833  0.4804  0.4827  0.0026  \n",
      "REC_5 (testset)   0.0845  0.0862  0.0836  0.0858  0.0837  0.0852  0.0841  0.0852  0.0851  0.0854  0.0849  0.0008  \n",
      "NDCG_5 (testset)  0.6903  0.6886  0.6884  0.6892  0.6878  0.6890  0.6883  0.6887  0.6896  0.6882  0.6888  0.0007  \n",
      "PREC_10 (testset) 0.4762  0.4798  0.4710  0.4757  0.4715  0.4759  0.4760  0.4791  0.4759  0.4731  0.4754  0.0027  \n",
      "REC_10 (testset)  0.1310  0.1330  0.1294  0.1321  0.1297  0.1317  0.1308  0.1317  0.1315  0.1316  0.1312  0.0010  \n",
      "NDCG_10 (testset) 0.7114  0.7104  0.7099  0.7107  0.7098  0.7106  0.7100  0.7107  0.7112  0.7102  0.7105  0.0005  \n",
      "PREC_15 (testset) 0.4722  0.4756  0.4671  0.4715  0.4677  0.4718  0.4721  0.4752  0.4717  0.4690  0.4714  0.0027  \n",
      "REC_15 (testset)  0.1597  0.1618  0.1578  0.1606  0.1583  0.1604  0.1595  0.1605  0.1600  0.1602  0.1599  0.0011  \n",
      "NDCG_15 (testset) 0.7316  0.7310  0.7308  0.7314  0.7308  0.7313  0.7307  0.7311  0.7317  0.7310  0.7311  0.0003  \n",
      "Fit time          2360.48 2415.20 2406.93 2363.84 2401.05 2365.09 2380.22 2413.92 2341.22 2395.07 2384.30 24.43   \n",
      "Test time         48.61   47.93   48.23   51.86   51.01   47.21   48.11   47.87   51.24   49.04   49.11   1.56    \n",
      "5711.724118232727\n"
     ]
    }
   ],
   "source": [
    "algo = CoSVDv9(verbose=False, n_epochs=65, lr_all=0.0028, n_factors=40, tags=raw_tags, random_state=123)\n",
    "start = time.time()\n",
    "parellel_cold_start(algo, data, rate, m_list, random_state=123, n_rating=10, n_exp=10, n_jobs=5)\n",
    "print(time.time() - start)"
   ]
  },
  {
   "cell_type": "code",
   "execution_count": 10,
   "metadata": {},
   "outputs": [
    {
     "name": "stdout",
     "output_type": "stream",
     "text": [
      "Evaluating RMSE, MAE, PREC_5, REC_5, NDCG_5, PREC_10, REC_10, NDCG_10, PREC_15, REC_15, NDCG_15 of algorithm CoSVDv9 on 10 split(s).\n",
      "\n",
      "                  Fold 1  Fold 2  Fold 3  Fold 4  Fold 5  Fold 6  Fold 7  Fold 8  Fold 9  Fold 10 Mean    Std     \n",
      "RMSE (testset)    0.9139  0.9132  0.9134  0.9130  0.9142  0.9130  0.9139  0.9129  0.9133  0.9138  0.9135  0.0004  \n",
      "MAE (testset)     0.7086  0.7079  0.7082  0.7078  0.7090  0.7079  0.7089  0.7075  0.7084  0.7081  0.7082  0.0005  \n",
      "PREC_5 (testset)  0.4827  0.4859  0.4761  0.4809  0.4774  0.4804  0.4809  0.4829  0.4821  0.4788  0.4808  0.0027  \n",
      "REC_5 (testset)   0.0842  0.0862  0.0829  0.0851  0.0834  0.0846  0.0839  0.0848  0.0849  0.0851  0.0845  0.0009  \n",
      "NDCG_5 (testset)  0.6929  0.6921  0.6904  0.6909  0.6894  0.6923  0.6910  0.6907  0.6912  0.6914  0.6912  0.0009  \n",
      "PREC_10 (testset) 0.4750  0.4788  0.4688  0.4736  0.4701  0.4732  0.4741  0.4751  0.4750  0.4715  0.4735  0.0027  \n",
      "REC_10 (testset)  0.1304  0.1330  0.1288  0.1315  0.1293  0.1309  0.1305  0.1310  0.1312  0.1313  0.1308  0.0011  \n",
      "NDCG_10 (testset) 0.7134  0.7130  0.7118  0.7126  0.7115  0.7137  0.7121  0.7121  0.7127  0.7129  0.7126  0.0007  \n",
      "PREC_15 (testset) 0.4707  0.4748  0.4648  0.4696  0.4661  0.4690  0.4700  0.4712  0.4709  0.4674  0.4695  0.0027  \n",
      "REC_15 (testset)  0.1590  0.1620  0.1572  0.1600  0.1579  0.1596  0.1591  0.1599  0.1598  0.1597  0.1594  0.0012  \n",
      "NDCG_15 (testset) 0.7335  0.7334  0.7324  0.7329  0.7325  0.7339  0.7326  0.7326  0.7331  0.7336  0.7331  0.0005  \n",
      "Fit time          2423.77 2403.48 2515.60 2484.79 2459.19 2414.10 2404.75 2475.03 2448.95 2451.37 2448.10 35.19   \n",
      "Test time         47.82   46.20   53.47   51.54   50.85   47.82   46.95   52.97   50.05   49.40   49.71   2.38    \n",
      "5858.773512125015\n"
     ]
    }
   ],
   "source": [
    "algo = CoSVDv9(verbose=False, n_epochs=65, lr_all=0.0028, n_factors=30, tags=raw_tags, random_state=123)\n",
    "start = time.time()\n",
    "parellel_cold_start(algo, data, rate, m_list, random_state=123, n_rating=10, n_exp=10, n_jobs=5)\n",
    "print(time.time() - start)"
   ]
  },
  {
   "cell_type": "code",
   "execution_count": 11,
   "metadata": {},
   "outputs": [
    {
     "name": "stdout",
     "output_type": "stream",
     "text": [
      "Evaluating RMSE, MAE, PREC_5, REC_5, NDCG_5, PREC_10, REC_10, NDCG_10, PREC_15, REC_15, NDCG_15 of algorithm CoSVDv9 on 10 split(s).\n",
      "\n",
      "                  Fold 1  Fold 2  Fold 3  Fold 4  Fold 5  Fold 6  Fold 7  Fold 8  Fold 9  Fold 10 Mean    Std     \n",
      "RMSE (testset)    0.9114  0.9111  0.9110  0.9108  0.9118  0.9110  0.9117  0.9108  0.9109  0.9115  0.9112  0.0004  \n",
      "MAE (testset)     0.7065  0.7061  0.7063  0.7059  0.7069  0.7061  0.7070  0.7056  0.7064  0.7062  0.7063  0.0004  \n",
      "PREC_5 (testset)  0.4796  0.4804  0.4738  0.4799  0.4732  0.4786  0.4774  0.4808  0.4783  0.4753  0.4777  0.0026  \n",
      "REC_5 (testset)   0.0834  0.0850  0.0826  0.0847  0.0828  0.0842  0.0831  0.0843  0.0840  0.0843  0.0838  0.0008  \n",
      "NDCG_5 (testset)  0.6972  0.6949  0.6935  0.6948  0.6936  0.6947  0.6947  0.6945  0.6957  0.6948  0.6948  0.0010  \n",
      "PREC_10 (testset) 0.4716  0.4734  0.4663  0.4728  0.4660  0.4716  0.4704  0.4733  0.4714  0.4681  0.4705  0.0026  \n",
      "REC_10 (testset)  0.1295  0.1317  0.1283  0.1310  0.1287  0.1305  0.1296  0.1305  0.1304  0.1304  0.1301  0.0010  \n",
      "NDCG_10 (testset) 0.7170  0.7159  0.7144  0.7159  0.7152  0.7158  0.7152  0.7154  0.7162  0.7160  0.7157  0.0007  \n",
      "PREC_15 (testset) 0.4673  0.4693  0.4625  0.4686  0.4619  0.4676  0.4665  0.4691  0.4672  0.4642  0.4664  0.0025  \n",
      "REC_15 (testset)  0.1582  0.1605  0.1568  0.1598  0.1571  0.1592  0.1584  0.1594  0.1589  0.1589  0.1587  0.0011  \n",
      "NDCG_15 (testset) 0.7368  0.7361  0.7349  0.7361  0.7355  0.7359  0.7355  0.7357  0.7362  0.7363  0.7359  0.0005  \n",
      "Fit time          2438.86 2471.65 2491.72 2349.11 2315.15 2444.36 2437.08 2336.88 2301.30 2437.92 2402.40 65.80   \n",
      "Test time         49.28   47.95   50.49   48.62   49.88   49.47   48.23   48.30   49.31   48.64   49.02   0.77    \n",
      "5783.045715332031\n"
     ]
    }
   ],
   "source": [
    "algo = CoSVDv9(verbose=False, n_epochs=65, lr_all=0.0028, n_factors=20, tags=raw_tags, random_state=123)\n",
    "start = time.time()\n",
    "parellel_cold_start(algo, data, rate, m_list, random_state=123, n_rating=10, n_exp=10, n_jobs=5)\n",
    "print(time.time() - start)"
   ]
  },
  {
   "cell_type": "markdown",
   "metadata": {},
   "source": [
    "### SVD"
   ]
  },
  {
   "cell_type": "code",
   "execution_count": 6,
   "metadata": {},
   "outputs": [
    {
     "name": "stdout",
     "output_type": "stream",
     "text": [
      "Evaluating RMSE, MAE, PREC_5, REC_5, NDCG_5, PREC_10, REC_10, NDCG_10, PREC_15, REC_15, NDCG_15 of algorithm SVD on 10 split(s).\n",
      "\n",
      "                  Fold 1  Fold 2  Fold 3  Fold 4  Fold 5  Fold 6  Fold 7  Fold 8  Fold 9  Fold 10 Mean    Std     \n",
      "RMSE (testset)    0.9185  0.9177  0.9178  0.9178  0.9182  0.9171  0.9180  0.9170  0.9175  0.9184  0.9178  0.0005  \n",
      "MAE (testset)     0.7118  0.7107  0.7111  0.7110  0.7115  0.7106  0.7116  0.7101  0.7109  0.7111  0.7110  0.0005  \n",
      "PREC_5 (testset)  0.4631  0.4708  0.4590  0.4587  0.4617  0.4624  0.4668  0.4634  0.4683  0.4585  0.4633  0.0040  \n",
      "REC_5 (testset)   0.0799  0.0827  0.0793  0.0812  0.0801  0.0809  0.0803  0.0805  0.0819  0.0811  0.0808  0.0009  \n",
      "NDCG_5 (testset)  0.6918  0.6925  0.6908  0.6883  0.6916  0.6919  0.6905  0.6899  0.6941  0.6894  0.6911  0.0016  \n",
      "PREC_10 (testset) 0.4564  0.4637  0.4525  0.4521  0.4546  0.4557  0.4604  0.4573  0.4604  0.4517  0.4565  0.0038  \n",
      "REC_10 (testset)  0.1256  0.1290  0.1245  0.1268  0.1255  0.1266  0.1262  0.1262  0.1275  0.1267  0.1264  0.0012  \n",
      "NDCG_10 (testset) 0.7125  0.7134  0.7119  0.7109  0.7130  0.7128  0.7120  0.7119  0.7142  0.7118  0.7125  0.0009  \n",
      "PREC_15 (testset) 0.4522  0.4595  0.4486  0.4484  0.4505  0.4517  0.4566  0.4533  0.4563  0.4477  0.4525  0.0038  \n",
      "REC_15 (testset)  0.1543  0.1578  0.1527  0.1554  0.1541  0.1553  0.1551  0.1549  0.1561  0.1552  0.1551  0.0013  \n",
      "NDCG_15 (testset) 0.7325  0.7335  0.7323  0.7319  0.7334  0.7331  0.7325  0.7324  0.7342  0.7323  0.7328  0.0007  \n",
      "Fit time          36.58   35.83   36.09   37.86   36.82   36.04   36.40   36.14   36.47   36.06   36.43   0.55    \n",
      "Test time         50.30   50.94   50.31   51.55   50.54   49.60   51.51   50.28   50.30   49.38   50.47   0.68    \n",
      "1030.9958474636078\n"
     ]
    }
   ],
   "source": [
    "algo = SVD(verbose=False, n_epochs=60, lr_all=0.008, reg_all=0.091, n_factors=40, random_state=123)\n",
    "start = time.time()\n",
    "parellel_cold_start(algo, data, rate, m_list, random_state=123, n_rating=10, n_exp=10, n_jobs=5)\n",
    "print(time.time() - start)"
   ]
  },
  {
   "cell_type": "code",
   "execution_count": 7,
   "metadata": {},
   "outputs": [
    {
     "name": "stdout",
     "output_type": "stream",
     "text": [
      "Evaluating RMSE, MAE, PREC_5, REC_5, NDCG_5, PREC_10, REC_10, NDCG_10, PREC_15, REC_15, NDCG_15 of algorithm SVD on 10 split(s).\n",
      "\n",
      "                  Fold 1  Fold 2  Fold 3  Fold 4  Fold 5  Fold 6  Fold 7  Fold 8  Fold 9  Fold 10 Mean    Std     \n",
      "RMSE (testset)    0.9194  0.9185  0.9188  0.9189  0.9192  0.9178  0.9188  0.9178  0.9185  0.9192  0.9187  0.0005  \n",
      "MAE (testset)     0.7123  0.7111  0.7116  0.7116  0.7121  0.7109  0.7119  0.7105  0.7116  0.7115  0.7115  0.0005  \n",
      "PREC_5 (testset)  0.4639  0.4712  0.4589  0.4575  0.4611  0.4641  0.4659  0.4637  0.4675  0.4596  0.4633  0.0040  \n",
      "REC_5 (testset)   0.0802  0.0831  0.0794  0.0808  0.0803  0.0811  0.0806  0.0808  0.0818  0.0814  0.0809  0.0010  \n",
      "NDCG_5 (testset)  0.6901  0.6931  0.6893  0.6866  0.6901  0.6924  0.6901  0.6896  0.6916  0.6888  0.6902  0.0018  \n",
      "PREC_10 (testset) 0.4566  0.4643  0.4520  0.4512  0.4539  0.4572  0.4598  0.4573  0.4599  0.4529  0.4565  0.0039  \n",
      "REC_10 (testset)  0.1259  0.1295  0.1246  0.1266  0.1259  0.1270  0.1268  0.1267  0.1274  0.1270  0.1267  0.0012  \n",
      "NDCG_10 (testset) 0.7114  0.7135  0.7110  0.7097  0.7119  0.7131  0.7114  0.7115  0.7123  0.7114  0.7117  0.0010  \n",
      "PREC_15 (testset) 0.4526  0.4601  0.4482  0.4474  0.4500  0.4531  0.4562  0.4532  0.4560  0.4490  0.4526  0.0038  \n",
      "REC_15 (testset)  0.1547  0.1584  0.1529  0.1552  0.1545  0.1558  0.1557  0.1555  0.1561  0.1556  0.1555  0.0013  \n",
      "NDCG_15 (testset) 0.7317  0.7336  0.7314  0.7306  0.7327  0.7336  0.7320  0.7319  0.7329  0.7321  0.7323  0.0009  \n",
      "Fit time          31.31   30.80   30.98   30.85   30.92   31.38   30.94   30.87   31.26   30.76   31.01   0.21    \n",
      "Test time         47.53   48.26   50.69   51.14   50.62   48.22   47.91   50.19   49.93   49.50   49.40   1.25    \n",
      "1048.03950715065\n"
     ]
    }
   ],
   "source": [
    "algo = SVD(verbose=False, n_epochs=60, lr_all=0.008, reg_all=0.091, n_factors=30, random_state=123)\n",
    "start = time.time()\n",
    "parellel_cold_start(algo, data, rate, m_list, random_state=123, n_rating=10, n_exp=10, n_jobs=5)\n",
    "print(time.time() - start)"
   ]
  },
  {
   "cell_type": "code",
   "execution_count": 8,
   "metadata": {},
   "outputs": [
    {
     "name": "stdout",
     "output_type": "stream",
     "text": [
      "Evaluating RMSE, MAE, PREC_5, REC_5, NDCG_5, PREC_10, REC_10, NDCG_10, PREC_15, REC_15, NDCG_15 of algorithm SVD on 10 split(s).\n",
      "\n",
      "                  Fold 1  Fold 2  Fold 3  Fold 4  Fold 5  Fold 6  Fold 7  Fold 8  Fold 9  Fold 10 Mean    Std     \n",
      "RMSE (testset)    0.9199  0.9197  0.9195  0.9197  0.9199  0.9191  0.9197  0.9189  0.9192  0.9198  0.9195  0.0004  \n",
      "MAE (testset)     0.7123  0.7117  0.7120  0.7120  0.7123  0.7116  0.7124  0.7110  0.7119  0.7117  0.7119  0.0004  \n",
      "PREC_5 (testset)  0.4630  0.4705  0.4583  0.4597  0.4588  0.4624  0.4660  0.4634  0.4669  0.4590  0.4628  0.0038  \n",
      "REC_5 (testset)   0.0801  0.0829  0.0796  0.0814  0.0805  0.0812  0.0807  0.0810  0.0819  0.0817  0.0811  0.0009  \n",
      "NDCG_5 (testset)  0.6901  0.6914  0.6880  0.6876  0.6891  0.6902  0.6883  0.6882  0.6913  0.6880  0.6892  0.0014  \n",
      "PREC_10 (testset) 0.4558  0.4633  0.4515  0.4529  0.4521  0.4562  0.4593  0.4569  0.4596  0.4524  0.4560  0.0037  \n",
      "REC_10 (testset)  0.1259  0.1294  0.1250  0.1276  0.1264  0.1275  0.1269  0.1270  0.1279  0.1277  0.1271  0.0011  \n",
      "NDCG_10 (testset) 0.7112  0.7126  0.7098  0.7098  0.7113  0.7119  0.7105  0.7103  0.7119  0.7106  0.7110  0.0009  \n",
      "PREC_15 (testset) 0.4519  0.4592  0.4479  0.4491  0.4483  0.4521  0.4556  0.4532  0.4558  0.4486  0.4522  0.0036  \n",
      "REC_15 (testset)  0.1548  0.1584  0.1536  0.1565  0.1551  0.1563  0.1560  0.1561  0.1566  0.1564  0.1560  0.0012  \n",
      "NDCG_15 (testset) 0.7315  0.7328  0.7308  0.7308  0.7321  0.7325  0.7311  0.7314  0.7324  0.7314  0.7317  0.0007  \n",
      "Fit time          25.06   25.38   25.40   25.52   25.53   25.80   25.85   25.46   25.61   25.51   25.51   0.21    \n",
      "Test time         47.90   48.10   47.92   51.39   48.63   48.02   51.64   48.28   51.69   49.84   49.34   1.56    \n",
      "1036.8131461143494\n"
     ]
    }
   ],
   "source": [
    "algo = SVD(verbose=False, n_epochs=60, lr_all=0.008, reg_all=0.091, n_factors=20, random_state=123)\n",
    "start = time.time()\n",
    "parellel_cold_start(algo, data, rate, m_list, random_state=123, n_rating=10, n_exp=10, n_jobs=5)\n",
    "print(time.time() - start)"
   ]
  },
  {
   "cell_type": "markdown",
   "metadata": {},
   "source": [
    "### SVD++"
   ]
  },
  {
   "cell_type": "code",
   "execution_count": 12,
   "metadata": {},
   "outputs": [
    {
     "name": "stdout",
     "output_type": "stream",
     "text": [
      "Evaluating RMSE, MAE, PREC_5, REC_5, NDCG_5, PREC_10, REC_10, NDCG_10, PREC_15, REC_15, NDCG_15 of algorithm SVDpp on 10 split(s).\n",
      "\n",
      "                  Fold 1  Fold 2  Fold 3  Fold 4  Fold 5  Fold 6  Fold 7  Fold 8  Fold 9  Fold 10 Mean    Std     \n",
      "RMSE (testset)    0.9295  0.9293  0.9308  0.9290  0.9305  0.9300  0.9308  0.9293  0.9297  0.9298  0.9299  0.0006  \n",
      "MAE (testset)     0.7240  0.7246  0.7256  0.7242  0.7252  0.7248  0.7256  0.7246  0.7253  0.7244  0.7249  0.0005  \n",
      "PREC_5 (testset)  0.5308  0.5208  0.5158  0.5215  0.5231  0.5263  0.5294  0.5232  0.5210  0.5230  0.5235  0.0042  \n",
      "REC_5 (testset)   0.0945  0.0924  0.0903  0.0918  0.0921  0.0931  0.0936  0.0920  0.0914  0.0933  0.0924  0.0011  \n",
      "NDCG_5 (testset)  0.6922  0.6875  0.6868  0.6908  0.6901  0.6906  0.6906  0.6894  0.6900  0.6921  0.6900  0.0017  \n",
      "PREC_10 (testset) 0.5217  0.5126  0.5081  0.5129  0.5149  0.5178  0.5213  0.5150  0.5126  0.5146  0.5152  0.0039  \n",
      "REC_10 (testset)  0.1403  0.1377  0.1344  0.1361  0.1373  0.1385  0.1391  0.1369  0.1361  0.1383  0.1375  0.0016  \n",
      "NDCG_10 (testset) 0.7121  0.7086  0.7076  0.7111  0.7110  0.7110  0.7109  0.7101  0.7102  0.7124  0.7105  0.0014  \n",
      "PREC_15 (testset) 0.5172  0.5084  0.5037  0.5084  0.5104  0.5131  0.5168  0.5109  0.5084  0.5103  0.5108  0.0039  \n",
      "REC_15 (testset)  0.1676  0.1645  0.1607  0.1626  0.1642  0.1656  0.1661  0.1636  0.1627  0.1651  0.1643  0.0019  \n",
      "NDCG_15 (testset) 0.7319  0.7290  0.7281  0.7311  0.7311  0.7309  0.7309  0.7303  0.7306  0.7323  0.7306  0.0012  \n",
      "Fit time          264.90  266.73  263.56  265.49  270.48  262.07  265.38  264.71  262.89  267.61  265.38  2.32    \n",
      "Test time         144.42  140.00  142.72  142.46  151.10  142.75  140.89  140.86  141.24  153.68  144.01  4.39    \n",
      "1647.8357224464417\n"
     ]
    }
   ],
   "source": [
    "algo = SVDpp(verbose=False, n_epochs=45, lr_all=0.0012, reg_all=0.0012, n_factors=40, random_state=123)\n",
    "\n",
    "start = time.time()\n",
    "parellel_cold_start(algo, data, rate, m_list, random_state=123, n_rating=10, n_exp=10, n_jobs=5)\n",
    "print(time.time() - start)"
   ]
  },
  {
   "cell_type": "code",
   "execution_count": 13,
   "metadata": {},
   "outputs": [
    {
     "name": "stdout",
     "output_type": "stream",
     "text": [
      "Evaluating RMSE, MAE, PREC_5, REC_5, NDCG_5, PREC_10, REC_10, NDCG_10, PREC_15, REC_15, NDCG_15 of algorithm SVDpp on 10 split(s).\n",
      "\n",
      "                  Fold 1  Fold 2  Fold 3  Fold 4  Fold 5  Fold 6  Fold 7  Fold 8  Fold 9  Fold 10 Mean    Std     \n",
      "RMSE (testset)    0.9248  0.9241  0.9254  0.9234  0.9255  0.9244  0.9255  0.9248  0.9250  0.9250  0.9248  0.0006  \n",
      "MAE (testset)     0.7204  0.7198  0.7207  0.7195  0.7213  0.7199  0.7213  0.7203  0.7210  0.7205  0.7205  0.0006  \n",
      "PREC_5 (testset)  0.5200  0.5272  0.5146  0.5177  0.5200  0.5206  0.5264  0.5149  0.5180  0.5161  0.5195  0.0041  \n",
      "REC_5 (testset)   0.0921  0.0940  0.0905  0.0916  0.0909  0.0930  0.0925  0.0912  0.0916  0.0909  0.0918  0.0010  \n",
      "NDCG_5 (testset)  0.6960  0.6984  0.6942  0.6948  0.6965  0.6945  0.6952  0.6900  0.6957  0.6960  0.6951  0.0021  \n",
      "PREC_10 (testset) 0.5120  0.5182  0.5067  0.5101  0.5115  0.5122  0.5178  0.5071  0.5099  0.5080  0.5113  0.0038  \n",
      "REC_10 (testset)  0.1374  0.1396  0.1353  0.1368  0.1357  0.1390  0.1378  0.1362  0.1369  0.1355  0.1370  0.0014  \n",
      "NDCG_10 (testset) 0.7162  0.7175  0.7143  0.7153  0.7164  0.7151  0.7148  0.7111  0.7159  0.7159  0.7152  0.0016  \n",
      "PREC_15 (testset) 0.5077  0.5136  0.5024  0.5059  0.5071  0.5075  0.5133  0.5030  0.5055  0.5035  0.5070  0.0037  \n",
      "REC_15 (testset)  0.1643  0.1666  0.1620  0.1637  0.1624  0.1664  0.1649  0.1632  0.1636  0.1622  0.1639  0.0016  \n",
      "NDCG_15 (testset) 0.7359  0.7367  0.7342  0.7353  0.7363  0.7348  0.7343  0.7316  0.7354  0.7354  0.7350  0.0014  \n",
      "Fit time          232.78  230.33  228.68  229.08  230.34  233.02  231.49  227.17  228.18  226.99  229.81  2.05    \n",
      "Test time         144.03  147.54  137.82  148.53  142.54  141.40  148.58  136.52  146.47  143.63  143.70  4.03    \n",
      "1526.404099702835\n"
     ]
    }
   ],
   "source": [
    "algo = SVDpp(verbose=False, n_epochs=45, lr_all=0.0012, reg_all=0.0012, n_factors=30, random_state=123)\n",
    "\n",
    "start = time.time()\n",
    "parellel_cold_start(algo, data, rate, m_list, random_state=123, n_rating=10, n_exp=10, n_jobs=5)\n",
    "print(time.time() - start)"
   ]
  },
  {
   "cell_type": "code",
   "execution_count": 15,
   "metadata": {},
   "outputs": [
    {
     "name": "stdout",
     "output_type": "stream",
     "text": [
      "Evaluating RMSE, MAE, PREC_5, REC_5, NDCG_5, PREC_10, REC_10, NDCG_10, PREC_15, REC_15, NDCG_15 of algorithm SVDpp on 10 split(s).\n",
      "\n",
      "                  Fold 1  Fold 2  Fold 3  Fold 4  Fold 5  Fold 6  Fold 7  Fold 8  Fold 9  Fold 10 Mean    Std     \n",
      "RMSE (testset)    0.9189  0.9189  0.9199  0.9184  0.9200  0.9197  0.9199  0.9196  0.9187  0.9191  0.9193  0.0005  \n",
      "MAE (testset)     0.7154  0.7155  0.7165  0.7151  0.7164  0.7164  0.7170  0.7162  0.7161  0.7155  0.7160  0.0006  \n",
      "PREC_5 (testset)  0.5203  0.5239  0.5111  0.5138  0.5177  0.5165  0.5163  0.5159  0.5184  0.5126  0.5167  0.0036  \n",
      "REC_5 (testset)   0.0914  0.0927  0.0894  0.0910  0.0907  0.0911  0.0896  0.0901  0.0907  0.0904  0.0907  0.0009  \n",
      "NDCG_5 (testset)  0.7052  0.7053  0.7024  0.7010  0.7027  0.7038  0.7014  0.6999  0.7027  0.7022  0.7026  0.0017  \n",
      "PREC_10 (testset) 0.5114  0.5154  0.5032  0.5057  0.5090  0.5077  0.5077  0.5076  0.5101  0.5044  0.5082  0.0034  \n",
      "REC_10 (testset)  0.1364  0.1382  0.1335  0.1358  0.1355  0.1362  0.1344  0.1346  0.1356  0.1352  0.1356  0.0012  \n",
      "NDCG_10 (testset) 0.7234  0.7234  0.7214  0.7209  0.7219  0.7220  0.7202  0.7195  0.7218  0.7213  0.7216  0.0012  \n",
      "PREC_15 (testset) 0.5067  0.5108  0.4988  0.5014  0.5045  0.5030  0.5034  0.5035  0.5058  0.5001  0.5038  0.0033  \n",
      "REC_15 (testset)  0.1635  0.1653  0.1598  0.1628  0.1623  0.1631  0.1613  0.1614  0.1622  0.1620  0.1624  0.0014  \n",
      "NDCG_15 (testset) 0.7422  0.7422  0.7406  0.7402  0.7409  0.7408  0.7393  0.7390  0.7408  0.7404  0.7406  0.0010  \n",
      "Fit time          190.26  191.92  190.00  193.18  198.45  191.24  189.82  188.88  189.33  191.44  191.45  2.64    \n",
      "Test time         146.35  141.57  142.62  147.63  145.06  145.27  140.65  140.05  144.62  142.73  143.66  2.38    \n",
      "1444.6733930110931\n"
     ]
    }
   ],
   "source": [
    "algo = SVDpp(verbose=False, n_epochs=45, lr_all=0.0012, reg_all=0.0012, n_factors=20, random_state=123)\n",
    "\n",
    "start = time.time()\n",
    "parellel_cold_start(algo, data, rate, m_list, random_state=123, n_rating=10, n_exp=10, n_jobs=5)\n",
    "print(time.time() - start)"
   ]
  },
  {
   "cell_type": "markdown",
   "metadata": {},
   "source": [
    "### NMF"
   ]
  },
  {
   "cell_type": "code",
   "execution_count": 16,
   "metadata": {},
   "outputs": [
    {
     "name": "stdout",
     "output_type": "stream",
     "text": [
      "Evaluating RMSE, MAE, PREC_5, REC_5, NDCG_5, PREC_10, REC_10, NDCG_10, PREC_15, REC_15, NDCG_15 of algorithm NMF on 10 split(s).\n",
      "\n",
      "                  Fold 1  Fold 2  Fold 3  Fold 4  Fold 5  Fold 6  Fold 7  Fold 8  Fold 9  Fold 10 Mean    Std     \n",
      "RMSE (testset)    0.9419  0.9415  0.9412  0.9414  0.9429  0.9416  0.9426  0.9397  0.9421  0.9412  0.9416  0.0008  \n",
      "MAE (testset)     0.7353  0.7347  0.7344  0.7345  0.7361  0.7348  0.7360  0.7332  0.7354  0.7341  0.7349  0.0008  \n",
      "PREC_5 (testset)  0.4502  0.4542  0.4508  0.4535  0.4493  0.4548  0.4532  0.4554  0.4524  0.4506  0.4524  0.0020  \n",
      "REC_5 (testset)   0.0752  0.0767  0.0756  0.0771  0.0753  0.0766  0.0753  0.0765  0.0761  0.0768  0.0761  0.0007  \n",
      "NDCG_5 (testset)  0.6767  0.6764  0.6766  0.6794  0.6770  0.6789  0.6784  0.6799  0.6774  0.6782  0.6779  0.0012  \n",
      "PREC_10 (testset) 0.4445  0.4487  0.4447  0.4473  0.4435  0.4482  0.4476  0.4493  0.4469  0.4452  0.4466  0.0019  \n",
      "REC_10 (testset)  0.1171  0.1190  0.1173  0.1191  0.1170  0.1185  0.1169  0.1184  0.1180  0.1187  0.1180  0.0008  \n",
      "NDCG_10 (testset) 0.7005  0.7000  0.7000  0.7022  0.7004  0.7017  0.7010  0.7026  0.7012  0.7015  0.7011  0.0008  \n",
      "PREC_15 (testset) 0.4412  0.4455  0.4412  0.4439  0.4401  0.4450  0.4446  0.4461  0.4435  0.4421  0.4433  0.0020  \n",
      "REC_15 (testset)  0.1430  0.1452  0.1430  0.1448  0.1429  0.1444  0.1428  0.1444  0.1437  0.1445  0.1439  0.0008  \n",
      "NDCG_15 (testset) 0.7221  0.7223  0.7218  0.7236  0.7222  0.7233  0.7227  0.7238  0.7228  0.7230  0.7228  0.0006  \n",
      "Fit time          36.12   36.35   36.14   36.45   37.54   36.50   36.63   36.56   36.27   36.72   36.53   0.39    \n",
      "Test time         42.55   41.52   43.32   43.44   42.81   41.38   43.35   43.59   43.14   44.11   42.92   0.84    \n",
      "1037.2649936676025\n"
     ]
    }
   ],
   "source": [
    "algo = NMF(verbose=False, n_epochs=40, reg_pu=0.19, reg_qi=0.08, lr_bu=0.001, lr_bi=0.001, reg_bu=0.001, reg_bi=0.001, n_factors=40, random_state=123)\n",
    "\n",
    "start = time.time()\n",
    "parellel_cold_start(algo, data, rate, m_list, random_state=123, n_rating=10, n_exp=10, n_jobs=5)\n",
    "print(time.time() - start)"
   ]
  },
  {
   "cell_type": "code",
   "execution_count": 17,
   "metadata": {},
   "outputs": [
    {
     "name": "stdout",
     "output_type": "stream",
     "text": [
      "Evaluating RMSE, MAE, PREC_5, REC_5, NDCG_5, PREC_10, REC_10, NDCG_10, PREC_15, REC_15, NDCG_15 of algorithm NMF on 10 split(s).\n",
      "\n",
      "                  Fold 1  Fold 2  Fold 3  Fold 4  Fold 5  Fold 6  Fold 7  Fold 8  Fold 9  Fold 10 Mean    Std     \n",
      "RMSE (testset)    0.9490  0.9490  0.9489  0.9483  0.9498  0.9486  0.9497  0.9468  0.9496  0.9488  0.9489  0.0008  \n",
      "MAE (testset)     0.7421  0.7418  0.7420  0.7413  0.7427  0.7416  0.7428  0.7401  0.7425  0.7415  0.7418  0.0007  \n",
      "PREC_5 (testset)  0.4509  0.4538  0.4509  0.4514  0.4503  0.4530  0.4542  0.4558  0.4537  0.4483  0.4522  0.0021  \n",
      "REC_5 (testset)   0.0743  0.0755  0.0745  0.0760  0.0747  0.0754  0.0750  0.0753  0.0756  0.0752  0.0752  0.0005  \n",
      "NDCG_5 (testset)  0.6724  0.6722  0.6734  0.6730  0.6736  0.6742  0.6728  0.6736  0.6737  0.6723  0.6731  0.0006  \n",
      "PREC_10 (testset) 0.4457  0.4483  0.4451  0.4457  0.4449  0.4470  0.4486  0.4498  0.4479  0.4430  0.4466  0.0020  \n",
      "REC_10 (testset)  0.1150  0.1164  0.1149  0.1170  0.1154  0.1159  0.1158  0.1157  0.1165  0.1158  0.1158  0.0006  \n",
      "NDCG_10 (testset) 0.6960  0.6961  0.6966  0.6972  0.6971  0.6970  0.6961  0.6971  0.6972  0.6960  0.6966  0.0005  \n",
      "PREC_15 (testset) 0.4425  0.4453  0.4421  0.4428  0.4418  0.4439  0.4455  0.4464  0.4448  0.4400  0.4435  0.0019  \n",
      "REC_15 (testset)  0.1402  0.1416  0.1397  0.1421  0.1405  0.1411  0.1408  0.1407  0.1413  0.1405  0.1408  0.0007  \n",
      "NDCG_15 (testset) 0.7181  0.7183  0.7184  0.7191  0.7191  0.7189  0.7179  0.7189  0.7191  0.7179  0.7186  0.0005  \n",
      "Fit time          30.00   30.41   30.32   33.00   30.67   30.21   30.48   30.86   31.48   30.93   30.84   0.82    \n",
      "Test time         41.23   41.02   43.93   44.67   41.40   41.47   43.55   42.81   43.73   43.05   42.69   1.25    \n",
      "1034.4174609184265\n"
     ]
    }
   ],
   "source": [
    "algo = NMF(verbose=False, n_epochs=40, reg_pu=0.19, reg_qi=0.08, lr_bu=0.001, lr_bi=0.001, reg_bu=0.001, reg_bi=0.001, n_factors=30, random_state=123)\n",
    "\n",
    "start = time.time()\n",
    "parellel_cold_start(algo, data, rate, m_list, random_state=123, n_rating=10, n_exp=10, n_jobs=5)\n",
    "print(time.time() - start)"
   ]
  },
  {
   "cell_type": "code",
   "execution_count": 18,
   "metadata": {},
   "outputs": [
    {
     "name": "stdout",
     "output_type": "stream",
     "text": [
      "Evaluating RMSE, MAE, PREC_5, REC_5, NDCG_5, PREC_10, REC_10, NDCG_10, PREC_15, REC_15, NDCG_15 of algorithm NMF on 10 split(s).\n",
      "\n",
      "                  Fold 1  Fold 2  Fold 3  Fold 4  Fold 5  Fold 6  Fold 7  Fold 8  Fold 9  Fold 10 Mean    Std     \n",
      "RMSE (testset)    0.9613  0.9602  0.9597  0.9605  0.9616  0.9599  0.9610  0.9588  0.9613  0.9604  0.9605  0.0008  \n",
      "MAE (testset)     0.7535  0.7523  0.7519  0.7528  0.7538  0.7522  0.7533  0.7512  0.7535  0.7523  0.7527  0.0008  \n",
      "PREC_5 (testset)  0.4515  0.4554  0.4492  0.4487  0.4482  0.4507  0.4522  0.4527  0.4519  0.4474  0.4508  0.0023  \n",
      "REC_5 (testset)   0.0729  0.0749  0.0735  0.0739  0.0727  0.0737  0.0736  0.0735  0.0738  0.0737  0.0736  0.0006  \n",
      "NDCG_5 (testset)  0.6660  0.6690  0.6686  0.6668  0.6667  0.6673  0.6667  0.6672  0.6669  0.6654  0.6671  0.0010  \n",
      "PREC_10 (testset) 0.4459  0.4497  0.4437  0.4436  0.4435  0.4452  0.4471  0.4473  0.4468  0.4419  0.4455  0.0022  \n",
      "REC_10 (testset)  0.1118  0.1145  0.1126  0.1131  0.1117  0.1128  0.1128  0.1125  0.1128  0.1126  0.1127  0.0007  \n",
      "NDCG_10 (testset) 0.6905  0.6926  0.6919  0.6906  0.6912  0.6911  0.6906  0.6910  0.6909  0.6902  0.6911  0.0007  \n",
      "PREC_15 (testset) 0.4431  0.4469  0.4409  0.4408  0.4406  0.4422  0.4442  0.4444  0.4437  0.4392  0.4426  0.0022  \n",
      "REC_15 (testset)  0.1358  0.1387  0.1365  0.1369  0.1356  0.1368  0.1368  0.1365  0.1366  0.1363  0.1367  0.0008  \n",
      "NDCG_15 (testset) 0.7129  0.7147  0.7142  0.7130  0.7137  0.7133  0.7130  0.7133  0.7131  0.7127  0.7134  0.0006  \n",
      "Fit time          24.09   26.30   24.93   24.62   24.60   25.23   24.32   25.05   24.33   24.80   24.83   0.60    \n",
      "Test time         43.29   44.07   42.20   43.60   43.79   42.45   43.64   42.36   42.57   43.00   43.10   0.64    \n",
      "1019.8042311668396\n"
     ]
    }
   ],
   "source": [
    "algo = NMF(verbose=False, n_epochs=40, reg_pu=0.19, reg_qi=0.08, lr_bu=0.001, lr_bi=0.001, reg_bu=0.001, reg_bi=0.001, n_factors=20, random_state=123)\n",
    "\n",
    "start = time.time()\n",
    "parellel_cold_start(algo, data, rate, m_list, random_state=123, n_rating=10, n_exp=10, n_jobs=5)\n",
    "print(time.time() - start)"
   ]
  },
  {
   "cell_type": "markdown",
   "metadata": {},
   "source": [
    "## Cold Start User - 15"
   ]
  },
  {
   "cell_type": "markdown",
   "metadata": {},
   "source": [
    "### CoSVD"
   ]
  },
  {
   "cell_type": "code",
   "execution_count": 19,
   "metadata": {},
   "outputs": [
    {
     "name": "stdout",
     "output_type": "stream",
     "text": [
      "Evaluating RMSE, MAE, PREC_5, REC_5, NDCG_5, PREC_10, REC_10, NDCG_10, PREC_15, REC_15, NDCG_15 of algorithm CoSVDv9 on 10 split(s).\n",
      "\n",
      "                  Fold 1  Fold 2  Fold 3  Fold 4  Fold 5  Fold 6  Fold 7  Fold 8  Fold 9  Fold 10 Mean    Std     \n",
      "RMSE (testset)    0.9050  0.9052  0.9052  0.9047  0.9053  0.9053  0.9057  0.9052  0.9051  0.9051  0.9052  0.0003  \n",
      "MAE (testset)     0.7011  0.7007  0.7012  0.7007  0.7010  0.7013  0.7017  0.7007  0.7011  0.7010  0.7011  0.0003  \n",
      "PREC_5 (testset)  0.4656  0.4684  0.4615  0.4644  0.4635  0.4702  0.4632  0.4674  0.4644  0.4606  0.4649  0.0029  \n",
      "REC_5 (testset)   0.0976  0.0990  0.0961  0.0988  0.0977  0.1001  0.0968  0.0978  0.0975  0.0969  0.0978  0.0011  \n",
      "NDCG_5 (testset)  0.7050  0.7050  0.7035  0.7040  0.7038  0.7046  0.7027  0.7041  0.7041  0.7030  0.7040  0.0007  \n",
      "PREC_10 (testset) 0.4582  0.4619  0.4551  0.4581  0.4569  0.4636  0.4567  0.4609  0.4579  0.4543  0.4584  0.0028  \n",
      "REC_10 (testset)  0.1383  0.1404  0.1372  0.1402  0.1391  0.1416  0.1380  0.1392  0.1386  0.1379  0.1390  0.0013  \n",
      "NDCG_10 (testset) 0.7266  0.7272  0.7256  0.7263  0.7261  0.7266  0.7251  0.7259  0.7260  0.7258  0.7261  0.0006  \n",
      "PREC_15 (testset) 0.4546  0.4582  0.4515  0.4544  0.4535  0.4599  0.4532  0.4573  0.4544  0.4507  0.4548  0.0028  \n",
      "REC_15 (testset)  0.1627  0.1652  0.1616  0.1647  0.1637  0.1665  0.1628  0.1640  0.1630  0.1624  0.1636  0.0014  \n",
      "NDCG_15 (testset) 0.7441  0.7446  0.7432  0.7438  0.7438  0.7440  0.7431  0.7437  0.7436  0.7435  0.7438  0.0004  \n",
      "Fit time          7514.64 7543.86 7458.27 7513.65 7520.11 7469.23 7412.38 7587.36 7542.21 7534.48 7509.62 47.72   \n",
      "Test time         45.49   46.80   49.08   49.06   50.51   48.29   48.36   45.28   48.14   48.87   47.99   1.57    \n",
      "15956.08286523819\n"
     ]
    }
   ],
   "source": [
    "algo = CoSVDv9(verbose=False, n_epochs=65, lr_all=0.0028, n_factors=40, tags=raw_tags, random_state=123)\n",
    "start = time.time()\n",
    "parellel_cold_start(algo, data, rate, m_list, random_state=123, n_rating=15, n_exp=10, n_jobs=5)\n",
    "print(time.time() - start)"
   ]
  },
  {
   "cell_type": "code",
   "execution_count": 20,
   "metadata": {},
   "outputs": [
    {
     "name": "stdout",
     "output_type": "stream",
     "text": [
      "Evaluating RMSE, MAE, PREC_5, REC_5, NDCG_5, PREC_10, REC_10, NDCG_10, PREC_15, REC_15, NDCG_15 of algorithm CoSVDv9 on 10 split(s).\n",
      "\n",
      "                  Fold 1  Fold 2  Fold 3  Fold 4  Fold 5  Fold 6  Fold 7  Fold 8  Fold 9  Fold 10 Mean    Std     \n",
      "RMSE (testset)    0.9037  0.9035  0.9033  0.9031  0.9039  0.9031  0.9038  0.9033  0.9033  0.9038  0.9035  0.0003  \n",
      "MAE (testset)     0.6999  0.6994  0.6994  0.6993  0.6998  0.6993  0.7000  0.6991  0.6996  0.6999  0.6996  0.0003  \n",
      "PREC_5 (testset)  0.4624  0.4659  0.4590  0.4598  0.4611  0.4689  0.4603  0.4631  0.4626  0.4569  0.4620  0.0033  \n",
      "REC_5 (testset)   0.0967  0.0978  0.0961  0.0981  0.0976  0.0998  0.0964  0.0972  0.0975  0.0961  0.0973  0.0011  \n",
      "NDCG_5 (testset)  0.7070  0.7064  0.7047  0.7049  0.7055  0.7076  0.7055  0.7057  0.7063  0.7048  0.7058  0.0009  \n",
      "PREC_10 (testset) 0.4558  0.4591  0.4527  0.4535  0.4541  0.4620  0.4537  0.4564  0.4560  0.4504  0.4554  0.0031  \n",
      "REC_10 (testset)  0.1374  0.1390  0.1370  0.1393  0.1386  0.1413  0.1375  0.1385  0.1383  0.1368  0.1384  0.0013  \n",
      "NDCG_10 (testset) 0.7284  0.7282  0.7271  0.7274  0.7278  0.7289  0.7274  0.7277  0.7278  0.7269  0.7278  0.0006  \n",
      "PREC_15 (testset) 0.4520  0.4553  0.4493  0.4501  0.4505  0.4584  0.4502  0.4529  0.4525  0.4472  0.4518  0.0030  \n",
      "REC_15 (testset)  0.1616  0.1637  0.1616  0.1638  0.1631  0.1659  0.1624  0.1633  0.1628  0.1613  0.1630  0.0013  \n",
      "NDCG_15 (testset) 0.7456  0.7458  0.7449  0.7450  0.7453  0.7464  0.7451  0.7453  0.7454  0.7449  0.7454  0.0004  \n",
      "Fit time          7513.33 7501.63 7420.67 7360.65 7464.16 7475.49 7372.51 7497.27 7331.45 7418.02 7435.52 61.31   \n",
      "Test time         46.69   47.13   47.98   48.18   47.95   45.63   47.36   47.00   47.47   47.53   47.29   0.71    \n",
      "15789.277922868729\n"
     ]
    }
   ],
   "source": [
    "algo = CoSVDv9(verbose=False, n_epochs=65, lr_all=0.0028, n_factors=30, tags=raw_tags, random_state=123)\n",
    "start = time.time()\n",
    "parellel_cold_start(algo, data, rate, m_list, random_state=123, n_rating=15, n_exp=10, n_jobs=5)\n",
    "print(time.time() - start)"
   ]
  },
  {
   "cell_type": "code",
   "execution_count": 21,
   "metadata": {},
   "outputs": [
    {
     "name": "stdout",
     "output_type": "stream",
     "text": [
      "Evaluating RMSE, MAE, PREC_5, REC_5, NDCG_5, PREC_10, REC_10, NDCG_10, PREC_15, REC_15, NDCG_15 of algorithm CoSVDv9 on 10 split(s).\n",
      "\n",
      "                  Fold 1  Fold 2  Fold 3  Fold 4  Fold 5  Fold 6  Fold 7  Fold 8  Fold 9  Fold 10 Mean    Std     \n",
      "RMSE (testset)    0.9015  0.9009  0.9014  0.9009  0.9015  0.9013  0.9015  0.9014  0.9009  0.9014  0.9012  0.0002  \n",
      "MAE (testset)     0.6980  0.6971  0.6978  0.6974  0.6978  0.6978  0.6980  0.6974  0.6976  0.6978  0.6977  0.0003  \n",
      "PREC_5 (testset)  0.4577  0.4630  0.4554  0.4587  0.4575  0.4630  0.4566  0.4609  0.4588  0.4552  0.4587  0.0027  \n",
      "REC_5 (testset)   0.0956  0.0973  0.0948  0.0978  0.0966  0.0987  0.0957  0.0961  0.0963  0.0959  0.0965  0.0011  \n",
      "NDCG_5 (testset)  0.7095  0.7100  0.7079  0.7084  0.7090  0.7091  0.7090  0.7083  0.7099  0.7079  0.7089  0.0007  \n",
      "PREC_10 (testset) 0.4510  0.4564  0.4490  0.4520  0.4511  0.4568  0.4503  0.4548  0.4523  0.4491  0.4523  0.0027  \n",
      "REC_10 (testset)  0.1362  0.1385  0.1355  0.1389  0.1377  0.1398  0.1368  0.1373  0.1372  0.1368  0.1375  0.0012  \n",
      "NDCG_10 (testset) 0.7307  0.7314  0.7294  0.7299  0.7308  0.7305  0.7305  0.7304  0.7311  0.7302  0.7305  0.0005  \n",
      "PREC_15 (testset) 0.4472  0.4527  0.4456  0.4485  0.4475  0.4531  0.4465  0.4512  0.4487  0.4456  0.4487  0.0026  \n",
      "REC_15 (testset)  0.1606  0.1633  0.1601  0.1634  0.1622  0.1645  0.1615  0.1621  0.1616  0.1612  0.1621  0.0013  \n",
      "NDCG_15 (testset) 0.7477  0.7485  0.7469  0.7472  0.7480  0.7478  0.7478  0.7477  0.7482  0.7477  0.7477  0.0004  \n",
      "Fit time          7523.96 7530.94 7398.74 7427.49 7380.15 7522.57 7362.99 7410.33 7420.37 7344.15 7432.17 65.84   \n",
      "Test time         46.67   45.27   49.04   48.16   50.66   47.01   49.86   45.46   48.35   50.41   48.09   1.85    \n",
      "15738.338629722595\n"
     ]
    }
   ],
   "source": [
    "algo = CoSVDv9(verbose=False, n_epochs=65, lr_all=0.0028, n_factors=20, tags=raw_tags, random_state=123)\n",
    "start = time.time()\n",
    "parellel_cold_start(algo, data, rate, m_list, random_state=123, n_rating=15, n_exp=10, n_jobs=5)\n",
    "print(time.time() - start)"
   ]
  },
  {
   "cell_type": "markdown",
   "metadata": {},
   "source": [
    "### SVD"
   ]
  },
  {
   "cell_type": "code",
   "execution_count": 22,
   "metadata": {},
   "outputs": [
    {
     "name": "stdout",
     "output_type": "stream",
     "text": [
      "Evaluating RMSE, MAE, PREC_5, REC_5, NDCG_5, PREC_10, REC_10, NDCG_10, PREC_15, REC_15, NDCG_15 of algorithm SVD on 10 split(s).\n",
      "\n",
      "                  Fold 1  Fold 2  Fold 3  Fold 4  Fold 5  Fold 6  Fold 7  Fold 8  Fold 9  Fold 10 Mean    Std     \n",
      "RMSE (testset)    0.9034  0.9035  0.9036  0.9031  0.9032  0.9033  0.9037  0.9034  0.9030  0.9034  0.9034  0.0002  \n",
      "MAE (testset)     0.6994  0.6990  0.6995  0.6991  0.6989  0.6994  0.6997  0.6989  0.6990  0.6993  0.6992  0.0003  \n",
      "PREC_5 (testset)  0.4456  0.4545  0.4435  0.4460  0.4445  0.4482  0.4461  0.4479  0.4474  0.4412  0.4465  0.0033  \n",
      "REC_5 (testset)   0.0922  0.0944  0.0913  0.0941  0.0934  0.0944  0.0918  0.0929  0.0935  0.0921  0.0930  0.0011  \n",
      "NDCG_5 (testset)  0.7107  0.7133  0.7107  0.7102  0.7103  0.7105  0.7089  0.7106  0.7128  0.7089  0.7107  0.0014  \n",
      "PREC_10 (testset) 0.4387  0.4478  0.4367  0.4396  0.4379  0.4416  0.4401  0.4417  0.4406  0.4350  0.4400  0.0033  \n",
      "REC_10 (testset)  0.1316  0.1344  0.1307  0.1342  0.1334  0.1344  0.1317  0.1329  0.1333  0.1317  0.1328  0.0013  \n",
      "NDCG_10 (testset) 0.7314  0.7336  0.7315  0.7317  0.7318  0.7315  0.7304  0.7317  0.7331  0.7310  0.7318  0.0009  \n",
      "PREC_15 (testset) 0.4351  0.4442  0.4334  0.4361  0.4345  0.4379  0.4365  0.4383  0.4369  0.4314  0.4364  0.0033  \n",
      "REC_15 (testset)  0.1555  0.1585  0.1545  0.1583  0.1574  0.1585  0.1560  0.1572  0.1571  0.1557  0.1569  0.0013  \n",
      "NDCG_15 (testset) 0.7486  0.7503  0.7486  0.7486  0.7490  0.7486  0.7478  0.7487  0.7497  0.7482  0.7488  0.0007  \n",
      "Fit time          55.08   53.36   53.78   53.40   54.86   53.93   53.41   54.22   53.16   54.35   53.96   0.63    \n",
      "Test time         48.87   45.25   49.80   48.98   51.19   49.46   46.36   50.10   48.16   48.88   48.70   1.67    \n",
      "1075.6076967716217\n"
     ]
    }
   ],
   "source": [
    "algo = SVD(verbose=False, n_epochs=60, lr_all=0.008, reg_all=0.091, n_factors=40, random_state=123)\n",
    "start = time.time()\n",
    "parellel_cold_start(algo, data, rate, m_list, random_state=123, n_rating=15, n_exp=10, n_jobs=5)\n",
    "print(time.time() - start)"
   ]
  },
  {
   "cell_type": "code",
   "execution_count": 23,
   "metadata": {},
   "outputs": [
    {
     "name": "stdout",
     "output_type": "stream",
     "text": [
      "Evaluating RMSE, MAE, PREC_5, REC_5, NDCG_5, PREC_10, REC_10, NDCG_10, PREC_15, REC_15, NDCG_15 of algorithm SVD on 10 split(s).\n",
      "\n",
      "                  Fold 1  Fold 2  Fold 3  Fold 4  Fold 5  Fold 6  Fold 7  Fold 8  Fold 9  Fold 10 Mean    Std     \n",
      "RMSE (testset)    0.9047  0.9044  0.9041  0.9044  0.9045  0.9032  0.9045  0.9040  0.9038  0.9048  0.9042  0.0005  \n",
      "MAE (testset)     0.7003  0.6996  0.6997  0.6999  0.6997  0.6990  0.7000  0.6992  0.6994  0.7002  0.6997  0.0004  \n",
      "PREC_5 (testset)  0.4459  0.4526  0.4438  0.4434  0.4430  0.4507  0.4471  0.4485  0.4481  0.4413  0.4464  0.0034  \n",
      "REC_5 (testset)   0.0923  0.0940  0.0920  0.0941  0.0932  0.0945  0.0922  0.0933  0.0938  0.0921  0.0931  0.0009  \n",
      "NDCG_5 (testset)  0.7090  0.7111  0.7083  0.7072  0.7083  0.7097  0.7075  0.7094  0.7104  0.7079  0.7089  0.0012  \n",
      "PREC_10 (testset) 0.4395  0.4463  0.4375  0.4373  0.4370  0.4439  0.4412  0.4426  0.4415  0.4352  0.4402  0.0033  \n",
      "REC_10 (testset)  0.1316  0.1342  0.1316  0.1343  0.1334  0.1346  0.1323  0.1337  0.1336  0.1317  0.1331  0.0011  \n",
      "NDCG_10 (testset) 0.7300  0.7321  0.7299  0.7293  0.7305  0.7311  0.7297  0.7310  0.7312  0.7300  0.7305  0.0008  \n",
      "PREC_15 (testset) 0.4360  0.4426  0.4342  0.4339  0.4336  0.4405  0.4377  0.4392  0.4379  0.4318  0.4368  0.0033  \n",
      "REC_15 (testset)  0.1554  0.1584  0.1557  0.1584  0.1575  0.1587  0.1567  0.1580  0.1576  0.1556  0.1572  0.0012  \n",
      "NDCG_15 (testset) 0.7474  0.7490  0.7474  0.7469  0.7477  0.7485  0.7471  0.7482  0.7482  0.7473  0.7478  0.0006  \n",
      "Fit time          45.40   45.77   46.11   45.29   47.21   46.25   45.80   46.42   45.97   46.31   46.05   0.53    \n",
      "Test time         47.16   45.98   47.83   48.10   49.08   49.56   47.77   48.05   48.01   48.71   48.03   0.95    \n",
      "1062.1478860378265\n"
     ]
    }
   ],
   "source": [
    "algo = SVD(verbose=False, n_epochs=60, lr_all=0.008, reg_all=0.091, n_factors=30, random_state=123)\n",
    "start = time.time()\n",
    "parellel_cold_start(algo, data, rate, m_list, random_state=123, n_rating=15, n_exp=10, n_jobs=5)\n",
    "print(time.time() - start)"
   ]
  },
  {
   "cell_type": "code",
   "execution_count": 24,
   "metadata": {},
   "outputs": [
    {
     "name": "stdout",
     "output_type": "stream",
     "text": [
      "Evaluating RMSE, MAE, PREC_5, REC_5, NDCG_5, PREC_10, REC_10, NDCG_10, PREC_15, REC_15, NDCG_15 of algorithm SVD on 10 split(s).\n",
      "\n",
      "                  Fold 1  Fold 2  Fold 3  Fold 4  Fold 5  Fold 6  Fold 7  Fold 8  Fold 9  Fold 10 Mean    Std     \n",
      "RMSE (testset)    0.9058  0.9049  0.9055  0.9055  0.9049  0.9054  0.9052  0.9053  0.9042  0.9055  0.9052  0.0004  \n",
      "MAE (testset)     0.7010  0.6996  0.7005  0.7005  0.6998  0.7007  0.7004  0.7000  0.6995  0.7005  0.7003  0.0005  \n",
      "PREC_5 (testset)  0.4424  0.4549  0.4416  0.4448  0.4421  0.4464  0.4442  0.4471  0.4451  0.4397  0.4448  0.0040  \n",
      "REC_5 (testset)   0.0917  0.0947  0.0914  0.0948  0.0932  0.0944  0.0919  0.0933  0.0933  0.0927  0.0931  0.0012  \n",
      "NDCG_5 (testset)  0.7068  0.7116  0.7063  0.7069  0.7073  0.7071  0.7064  0.7081  0.7094  0.7058  0.7076  0.0017  \n",
      "PREC_10 (testset) 0.4365  0.4479  0.4358  0.4381  0.4363  0.4404  0.4389  0.4412  0.4389  0.4339  0.4388  0.0037  \n",
      "REC_10 (testset)  0.1314  0.1348  0.1311  0.1349  0.1335  0.1343  0.1321  0.1336  0.1333  0.1327  0.1332  0.0013  \n",
      "NDCG_10 (testset) 0.7287  0.7321  0.7281  0.7286  0.7297  0.7293  0.7287  0.7301  0.7305  0.7285  0.7294  0.0012  \n",
      "PREC_15 (testset) 0.4331  0.4443  0.4326  0.4348  0.4331  0.4371  0.4354  0.4381  0.4353  0.4306  0.4354  0.0036  \n",
      "REC_15 (testset)  0.1554  0.1592  0.1552  0.1591  0.1577  0.1586  0.1565  0.1580  0.1575  0.1569  0.1574  0.0013  \n",
      "NDCG_15 (testset) 0.7463  0.7492  0.7457  0.7462  0.7472  0.7468  0.7464  0.7473  0.7475  0.7463  0.7469  0.0009  \n",
      "Fit time          37.35   37.89   37.80   37.94   38.01   37.96   37.66   38.10   37.97   37.64   37.83   0.21    \n",
      "Test time         46.06   45.26   46.20   47.88   46.15   46.96   48.19   47.66   47.65   45.97   46.80   0.95    \n",
      "1058.5032029151917\n"
     ]
    }
   ],
   "source": [
    "algo = SVD(verbose=False, n_epochs=60, lr_all=0.008, reg_all=0.091, n_factors=20, random_state=123)\n",
    "start = time.time()\n",
    "parellel_cold_start(algo, data, rate, m_list, random_state=123, n_rating=15, n_exp=10, n_jobs=5)\n",
    "print(time.time() - start)"
   ]
  },
  {
   "cell_type": "markdown",
   "metadata": {},
   "source": [
    "### SVD++"
   ]
  },
  {
   "cell_type": "code",
   "execution_count": 25,
   "metadata": {},
   "outputs": [
    {
     "name": "stdout",
     "output_type": "stream",
     "text": [
      "Evaluating RMSE, MAE, PREC_5, REC_5, NDCG_5, PREC_10, REC_10, NDCG_10, PREC_15, REC_15, NDCG_15 of algorithm SVDpp on 10 split(s).\n",
      "\n",
      "                  Fold 1  Fold 2  Fold 3  Fold 4  Fold 5  Fold 6  Fold 7  Fold 8  Fold 9  Fold 10 Mean    Std     \n",
      "RMSE (testset)    0.9088  0.9082  0.9088  0.9081  0.9093  0.9085  0.9092  0.9080  0.9085  0.9076  0.9085  0.0005  \n",
      "MAE (testset)     0.7074  0.7070  0.7074  0.7071  0.7078  0.7075  0.7078  0.7067  0.7076  0.7066  0.7073  0.0004  \n",
      "PREC_5 (testset)  0.5239  0.5259  0.5209  0.5209  0.5200  0.5289  0.5270  0.5248  0.5205  0.5203  0.5233  0.0030  \n",
      "REC_5 (testset)   0.1082  0.1102  0.1068  0.1089  0.1087  0.1103  0.1099  0.1090  0.1077  0.1070  0.1087  0.0012  \n",
      "NDCG_5 (testset)  0.7136  0.7155  0.7144  0.7142  0.7131  0.7168  0.7147  0.7146  0.7142  0.7163  0.7147  0.0011  \n",
      "PREC_10 (testset) 0.5155  0.5180  0.5124  0.5133  0.5123  0.5203  0.5190  0.5167  0.5126  0.5123  0.5152  0.0029  \n",
      "REC_10 (testset)  0.1492  0.1517  0.1477  0.1503  0.1501  0.1517  0.1515  0.1507  0.1486  0.1477  0.1499  0.0015  \n",
      "NDCG_10 (testset) 0.7340  0.7352  0.7345  0.7347  0.7340  0.7359  0.7346  0.7345  0.7347  0.7359  0.7348  0.0006  \n",
      "PREC_15 (testset) 0.5113  0.5141  0.5079  0.5087  0.5081  0.5161  0.5143  0.5126  0.5082  0.5084  0.5110  0.0030  \n",
      "REC_15 (testset)  0.1731  0.1758  0.1714  0.1740  0.1741  0.1758  0.1759  0.1750  0.1721  0.1714  0.1739  0.0017  \n",
      "NDCG_15 (testset) 0.7505  0.7515  0.7507  0.7507  0.7503  0.7521  0.7508  0.7508  0.7511  0.7522  0.7511  0.0006  \n",
      "Fit time          522.21  521.07  524.11  525.12  528.60  526.05  515.31  520.74  523.51  527.45  523.42  3.65    \n",
      "Test time         156.16  159.58  160.52  161.66  166.84  157.69  165.46  159.89  159.02  165.50  161.23  3.40    \n",
      "2195.320701122284\n"
     ]
    }
   ],
   "source": [
    "algo = SVDpp(verbose=False, n_epochs=45, lr_all=0.0012, reg_all=0.0012, n_factors=40, random_state=123)\n",
    "\n",
    "start = time.time()\n",
    "parellel_cold_start(algo, data, rate, m_list, random_state=123, n_rating=15, n_exp=10, n_jobs=5)\n",
    "print(time.time() - start)"
   ]
  },
  {
   "cell_type": "code",
   "execution_count": 26,
   "metadata": {},
   "outputs": [
    {
     "name": "stdout",
     "output_type": "stream",
     "text": [
      "Evaluating RMSE, MAE, PREC_5, REC_5, NDCG_5, PREC_10, REC_10, NDCG_10, PREC_15, REC_15, NDCG_15 of algorithm SVDpp on 10 split(s).\n",
      "\n",
      "                  Fold 1  Fold 2  Fold 3  Fold 4  Fold 5  Fold 6  Fold 7  Fold 8  Fold 9  Fold 10 Mean    Std     \n",
      "RMSE (testset)    0.9035  0.9040  0.9037  0.9028  0.9044  0.9034  0.9040  0.9029  0.9030  0.9031  0.9035  0.0005  \n",
      "MAE (testset)     0.7033  0.7033  0.7030  0.7027  0.7038  0.7032  0.7037  0.7026  0.7029  0.7028  0.7031  0.0004  \n",
      "PREC_5 (testset)  0.5163  0.5211  0.5151  0.5155  0.5147  0.5262  0.5213  0.5203  0.5178  0.5122  0.5181  0.0040  \n",
      "REC_5 (testset)   0.1054  0.1086  0.1057  0.1077  0.1060  0.1096  0.1083  0.1071  0.1070  0.1057  0.1071  0.0014  \n",
      "NDCG_5 (testset)  0.7208  0.7192  0.7182  0.7194  0.7196  0.7220  0.7201  0.7194  0.7209  0.7183  0.7198  0.0011  \n",
      "PREC_10 (testset) 0.5082  0.5127  0.5076  0.5074  0.5065  0.5178  0.5129  0.5126  0.5099  0.5041  0.5100  0.0038  \n",
      "REC_10 (testset)  0.1455  0.1499  0.1463  0.1488  0.1465  0.1509  0.1497  0.1484  0.1475  0.1461  0.1480  0.0018  \n",
      "NDCG_10 (testset) 0.7397  0.7385  0.7383  0.7387  0.7393  0.7405  0.7394  0.7392  0.7403  0.7378  0.7392  0.0008  \n",
      "PREC_15 (testset) 0.5039  0.5084  0.5033  0.5031  0.5022  0.5133  0.5085  0.5085  0.5057  0.5001  0.5057  0.0038  \n",
      "REC_15 (testset)  0.1689  0.1738  0.1699  0.1726  0.1701  0.1750  0.1739  0.1725  0.1708  0.1698  0.1717  0.0020  \n",
      "NDCG_15 (testset) 0.7557  0.7547  0.7544  0.7548  0.7552  0.7561  0.7553  0.7554  0.7561  0.7542  0.7552  0.0006  \n",
      "Fit time          447.26  451.88  453.55  448.63  445.06  445.36  450.36  452.33  447.72  447.69  448.98  2.78    \n",
      "Test time         154.87  162.97  176.41  165.05  164.29  157.02  163.09  175.76  161.95  163.41  164.48  6.56    \n",
      "2026.9800477027893\n"
     ]
    }
   ],
   "source": [
    "algo = SVDpp(verbose=False, n_epochs=45, lr_all=0.0012, reg_all=0.0012, n_factors=30, random_state=123)\n",
    "\n",
    "start = time.time()\n",
    "parellel_cold_start(algo, data, rate, m_list, random_state=123, n_rating=15, n_exp=10, n_jobs=5)\n",
    "print(time.time() - start)"
   ]
  },
  {
   "cell_type": "code",
   "execution_count": 27,
   "metadata": {},
   "outputs": [
    {
     "name": "stdout",
     "output_type": "stream",
     "text": [
      "Evaluating RMSE, MAE, PREC_5, REC_5, NDCG_5, PREC_10, REC_10, NDCG_10, PREC_15, REC_15, NDCG_15 of algorithm SVDpp on 10 split(s).\n",
      "\n",
      "                  Fold 1  Fold 2  Fold 3  Fold 4  Fold 5  Fold 6  Fold 7  Fold 8  Fold 9  Fold 10 Mean    Std     \n",
      "RMSE (testset)    0.8978  0.8975  0.8985  0.8976  0.8983  0.8988  0.8986  0.8970  0.8976  0.8980  0.8980  0.0005  \n",
      "MAE (testset)     0.6986  0.6981  0.6987  0.6985  0.6988  0.6994  0.6993  0.6978  0.6986  0.6986  0.6986  0.0005  \n",
      "PREC_5 (testset)  0.5092  0.5192  0.5115  0.5113  0.5119  0.5200  0.5161  0.5176  0.5126  0.5079  0.5137  0.0040  \n",
      "REC_5 (testset)   0.1047  0.1071  0.1039  0.1062  0.1048  0.1072  0.1058  0.1064  0.1051  0.1041  0.1055  0.0011  \n",
      "NDCG_5 (testset)  0.7254  0.7274  0.7252  0.7259  0.7266  0.7259  0.7262  0.7267  0.7269  0.7263  0.7263  0.0007  \n",
      "PREC_10 (testset) 0.5016  0.5112  0.5034  0.5033  0.5039  0.5118  0.5078  0.5095  0.5043  0.4998  0.5057  0.0039  \n",
      "REC_10 (testset)  0.1450  0.1480  0.1442  0.1466  0.1454  0.1480  0.1468  0.1475  0.1453  0.1444  0.1461  0.0014  \n",
      "NDCG_10 (testset) 0.7443  0.7456  0.7437  0.7445  0.7456  0.7442  0.7447  0.7452  0.7450  0.7446  0.7447  0.0006  \n",
      "PREC_15 (testset) 0.4974  0.5069  0.4992  0.4992  0.4994  0.5074  0.5034  0.5056  0.5000  0.4957  0.5014  0.0039  \n",
      "REC_15 (testset)  0.1686  0.1719  0.1678  0.1701  0.1690  0.1717  0.1709  0.1715  0.1685  0.1680  0.1698  0.0015  \n",
      "NDCG_15 (testset) 0.7601  0.7608  0.7593  0.7597  0.7609  0.7597  0.7600  0.7607  0.7605  0.7601  0.7602  0.0005  \n",
      "Fit time          377.49  370.27  367.19  370.53  365.53  376.60  371.71  367.76  373.93  364.54  370.56  4.22    \n",
      "Test time         175.19  159.19  161.12  160.67  168.44  174.85  162.05  161.23  160.70  165.62  164.91  5.67    \n",
      "1849.8490998744965\n"
     ]
    }
   ],
   "source": [
    "algo = SVDpp(verbose=False, n_epochs=45, lr_all=0.0012, reg_all=0.0012, n_factors=20, random_state=123)\n",
    "\n",
    "start = time.time()\n",
    "parellel_cold_start(algo, data, rate, m_list, random_state=123, n_rating=15, n_exp=10, n_jobs=5)\n",
    "print(time.time() - start)"
   ]
  },
  {
   "cell_type": "markdown",
   "metadata": {},
   "source": [
    "### NMF"
   ]
  },
  {
   "cell_type": "code",
   "execution_count": 28,
   "metadata": {},
   "outputs": [
    {
     "name": "stdout",
     "output_type": "stream",
     "text": [
      "Evaluating RMSE, MAE, PREC_5, REC_5, NDCG_5, PREC_10, REC_10, NDCG_10, PREC_15, REC_15, NDCG_15 of algorithm NMF on 10 split(s).\n",
      "\n",
      "                  Fold 1  Fold 2  Fold 3  Fold 4  Fold 5  Fold 6  Fold 7  Fold 8  Fold 9  Fold 10 Mean    Std     \n",
      "RMSE (testset)    0.9152  0.9152  0.9156  0.9146  0.9160  0.9155  0.9154  0.9147  0.9162  0.9159  0.9154  0.0005  \n",
      "MAE (testset)     0.7120  0.7115  0.7119  0.7114  0.7123  0.7120  0.7119  0.7111  0.7126  0.7125  0.7119  0.0005  \n",
      "PREC_5 (testset)  0.4372  0.4418  0.4378  0.4399  0.4387  0.4430  0.4418  0.4405  0.4374  0.4358  0.4394  0.0023  \n",
      "REC_5 (testset)   0.0880  0.0901  0.0889  0.0908  0.0894  0.0913  0.0890  0.0891  0.0889  0.0884  0.0894  0.0010  \n",
      "NDCG_5 (testset)  0.7006  0.7022  0.7015  0.7032  0.7005  0.7008  0.7026  0.7002  0.7018  0.6995  0.7013  0.0011  \n",
      "PREC_10 (testset) 0.4317  0.4361  0.4316  0.4344  0.4330  0.4371  0.4360  0.4351  0.4311  0.4306  0.4337  0.0023  \n",
      "REC_10 (testset)  0.1254  0.1282  0.1270  0.1291  0.1275  0.1296  0.1270  0.1272  0.1263  0.1259  0.1273  0.0013  \n",
      "NDCG_10 (testset) 0.7233  0.7247  0.7237  0.7257  0.7235  0.7236  0.7249  0.7233  0.7238  0.7227  0.7239  0.0008  \n",
      "PREC_15 (testset) 0.4286  0.4330  0.4284  0.4312  0.4300  0.4339  0.4327  0.4322  0.4280  0.4276  0.4306  0.0022  \n",
      "REC_15 (testset)  0.1479  0.1511  0.1499  0.1518  0.1502  0.1525  0.1500  0.1502  0.1488  0.1485  0.1501  0.0014  \n",
      "NDCG_15 (testset) 0.7414  0.7427  0.7418  0.7433  0.7413  0.7415  0.7426  0.7415  0.7418  0.7412  0.7419  0.0007  \n",
      "Fit time          50.48   51.25   51.78   51.49   52.26   51.08   51.34   51.70   51.66   52.69   51.57   0.58    \n",
      "Test time         41.78   40.75   40.82   43.45   42.99   40.43   41.95   42.07   43.37   43.06   42.07   1.07    \n",
      "1078.051253080368\n"
     ]
    }
   ],
   "source": [
    "algo = NMF(verbose=False, n_epochs=40, reg_pu=0.19, reg_qi=0.08, lr_bu=0.001, lr_bi=0.001, reg_bu=0.001, reg_bi=0.001, n_factors=40, random_state=123)\n",
    "\n",
    "start = time.time()\n",
    "parellel_cold_start(algo, data, rate, m_list, random_state=123, n_rating=15, n_exp=10, n_jobs=5)\n",
    "print(time.time() - start)"
   ]
  },
  {
   "cell_type": "code",
   "execution_count": 29,
   "metadata": {},
   "outputs": [
    {
     "name": "stdout",
     "output_type": "stream",
     "text": [
      "Evaluating RMSE, MAE, PREC_5, REC_5, NDCG_5, PREC_10, REC_10, NDCG_10, PREC_15, REC_15, NDCG_15 of algorithm NMF on 10 split(s).\n",
      "\n",
      "                  Fold 1  Fold 2  Fold 3  Fold 4  Fold 5  Fold 6  Fold 7  Fold 8  Fold 9  Fold 10 Mean    Std     \n",
      "RMSE (testset)    0.9207  0.9206  0.9216  0.9207  0.9216  0.9208  0.9218  0.9193  0.9211  0.9212  0.9209  0.0007  \n",
      "MAE (testset)     0.7180  0.7174  0.7183  0.7178  0.7182  0.7179  0.7187  0.7162  0.7180  0.7181  0.7178  0.0006  \n",
      "PREC_5 (testset)  0.4339  0.4378  0.4339  0.4356  0.4359  0.4394  0.4357  0.4369  0.4337  0.4323  0.4355  0.0020  \n",
      "REC_5 (testset)   0.0856  0.0873  0.0862  0.0879  0.0866  0.0886  0.0863  0.0867  0.0867  0.0859  0.0868  0.0009  \n",
      "NDCG_5 (testset)  0.6970  0.6971  0.6973  0.6962  0.6966  0.6992  0.6974  0.6981  0.6970  0.6946  0.6971  0.0011  \n",
      "PREC_10 (testset) 0.4284  0.4324  0.4284  0.4305  0.4304  0.4341  0.4299  0.4317  0.4279  0.4270  0.4301  0.0021  \n",
      "REC_10 (testset)  0.1216  0.1239  0.1226  0.1248  0.1232  0.1253  0.1226  0.1234  0.1229  0.1219  0.1232  0.0011  \n",
      "NDCG_10 (testset) 0.7197  0.7203  0.7201  0.7199  0.7196  0.7217  0.7202  0.7211  0.7200  0.7187  0.7201  0.0008  \n",
      "PREC_15 (testset) 0.4254  0.4294  0.4257  0.4275  0.4277  0.4312  0.4269  0.4288  0.4250  0.4243  0.4272  0.0021  \n",
      "REC_15 (testset)  0.1430  0.1457  0.1444  0.1466  0.1450  0.1472  0.1447  0.1455  0.1446  0.1436  0.1450  0.0012  \n",
      "NDCG_15 (testset) 0.7380  0.7386  0.7382  0.7380  0.7378  0.7396  0.7384  0.7394  0.7381  0.7371  0.7383  0.0007  \n",
      "Fit time          42.35   42.77   43.25   43.96   43.35   43.25   43.08   44.20   43.50   43.07   43.28   0.51    \n",
      "Test time         42.11   40.52   42.47   43.26   43.85   42.28   42.08   42.35   43.72   43.29   42.59   0.93    \n",
      "1065.6525220870972\n"
     ]
    }
   ],
   "source": [
    "algo = NMF(verbose=False, n_epochs=40, reg_pu=0.19, reg_qi=0.08, lr_bu=0.001, lr_bi=0.001, reg_bu=0.001, reg_bi=0.001, n_factors=30, random_state=123)\n",
    "\n",
    "start = time.time()\n",
    "parellel_cold_start(algo, data, rate, m_list, random_state=123, n_rating=15, n_exp=10, n_jobs=5)\n",
    "print(time.time() - start)"
   ]
  },
  {
   "cell_type": "code",
   "execution_count": 30,
   "metadata": {},
   "outputs": [
    {
     "name": "stdout",
     "output_type": "stream",
     "text": [
      "Evaluating RMSE, MAE, PREC_5, REC_5, NDCG_5, PREC_10, REC_10, NDCG_10, PREC_15, REC_15, NDCG_15 of algorithm NMF on 10 split(s).\n",
      "\n",
      "                  Fold 1  Fold 2  Fold 3  Fold 4  Fold 5  Fold 6  Fold 7  Fold 8  Fold 9  Fold 10 Mean    Std     \n",
      "RMSE (testset)    0.9290  0.9286  0.9290  0.9289  0.9303  0.9297  0.9301  0.9284  0.9298  0.9294  0.9293  0.0006  \n",
      "MAE (testset)     0.7265  0.7258  0.7263  0.7264  0.7275  0.7271  0.7275  0.7256  0.7271  0.7269  0.7267  0.0006  \n",
      "PREC_5 (testset)  0.4271  0.4318  0.4274  0.4297  0.4279  0.4326  0.4307  0.4296  0.4265  0.4273  0.4291  0.0020  \n",
      "REC_5 (testset)   0.0823  0.0836  0.0827  0.0837  0.0830  0.0848  0.0825  0.0823  0.0827  0.0823  0.0830  0.0008  \n",
      "NDCG_5 (testset)  0.6921  0.6926  0.6925  0.6911  0.6904  0.6927  0.6922  0.6918  0.6923  0.6906  0.6918  0.0008  \n",
      "PREC_10 (testset) 0.4223  0.4270  0.4227  0.4250  0.4229  0.4275  0.4255  0.4249  0.4215  0.4225  0.4242  0.0020  \n",
      "REC_10 (testset)  0.1163  0.1183  0.1172  0.1181  0.1172  0.1196  0.1169  0.1169  0.1168  0.1162  0.1173  0.0010  \n",
      "NDCG_10 (testset) 0.7157  0.7164  0.7162  0.7149  0.7147  0.7161  0.7155  0.7156  0.7156  0.7144  0.7155  0.0006  \n",
      "PREC_15 (testset) 0.4200  0.4244  0.4202  0.4224  0.4205  0.4249  0.4230  0.4225  0.4189  0.4200  0.4217  0.0019  \n",
      "REC_15 (testset)  0.1367  0.1389  0.1378  0.1384  0.1376  0.1401  0.1376  0.1377  0.1372  0.1366  0.1379  0.0010  \n",
      "NDCG_15 (testset) 0.7345  0.7352  0.7351  0.7335  0.7334  0.7346  0.7342  0.7344  0.7343  0.7334  0.7343  0.0006  \n",
      "Fit time          34.05   34.70   34.60   35.78   35.10   35.73   34.93   34.67   34.99   35.99   35.05   0.58    \n",
      "Test time         39.35   40.21   42.36   45.89   44.58   41.64   43.34   42.44   45.42   44.90   43.01   2.10    \n",
      "1053.5380997657776\n"
     ]
    }
   ],
   "source": [
    "algo = NMF(verbose=False, n_epochs=40, reg_pu=0.19, reg_qi=0.08, lr_bu=0.001, lr_bi=0.001, reg_bu=0.001, reg_bi=0.001, n_factors=20, random_state=123)\n",
    "\n",
    "start = time.time()\n",
    "parellel_cold_start(algo, data, rate, m_list, random_state=123, n_rating=15, n_exp=10, n_jobs=5)\n",
    "print(time.time() - start)"
   ]
  },
  {
   "cell_type": "markdown",
   "metadata": {},
   "source": [
    "## Cold Start User - 20"
   ]
  },
  {
   "cell_type": "markdown",
   "metadata": {},
   "source": [
    "### CoSVD"
   ]
  },
  {
   "cell_type": "code",
   "execution_count": 31,
   "metadata": {},
   "outputs": [
    {
     "name": "stdout",
     "output_type": "stream",
     "text": [
      "Evaluating RMSE, MAE, PREC_5, REC_5, NDCG_5, PREC_10, REC_10, NDCG_10, PREC_15, REC_15, NDCG_15 of algorithm CoSVDv9 on 10 split(s).\n",
      "\n",
      "                  Fold 1  Fold 2  Fold 3  Fold 4  Fold 5  Fold 6  Fold 7  Fold 8  Fold 9  Fold 10 Mean    Std     \n",
      "RMSE (testset)    0.8964  0.8971  0.8971  0.8972  0.8978  0.8976  0.8971  0.8973  0.8974  0.8973  0.8972  0.0004  \n",
      "MAE (testset)     0.6940  0.6939  0.6942  0.6944  0.6946  0.6947  0.6944  0.6940  0.6945  0.6944  0.6943  0.0003  \n",
      "PREC_5 (testset)  0.4499  0.4492  0.4480  0.4473  0.4454  0.4522  0.4456  0.4502  0.4474  0.4435  0.4479  0.0025  \n",
      "REC_5 (testset)   0.1073  0.1064  0.1057  0.1070  0.1059  0.1074  0.1046  0.1053  0.1061  0.1032  0.1059  0.0012  \n",
      "NDCG_5 (testset)  0.7245  0.7216  0.7221  0.7216  0.7211  0.7223  0.7202  0.7229  0.7223  0.7210  0.7220  0.0011  \n",
      "PREC_10 (testset) 0.4435  0.4428  0.4412  0.4410  0.4393  0.4458  0.4396  0.4437  0.4410  0.4372  0.4415  0.0024  \n",
      "REC_10 (testset)  0.1453  0.1449  0.1435  0.1448  0.1439  0.1458  0.1427  0.1435  0.1440  0.1411  0.1440  0.0013  \n",
      "NDCG_10 (testset) 0.7425  0.7407  0.7406  0.7403  0.7404  0.7409  0.7399  0.7414  0.7411  0.7401  0.7408  0.0007  \n",
      "PREC_15 (testset) 0.4397  0.4393  0.4374  0.4375  0.4355  0.4425  0.4362  0.4401  0.4373  0.4336  0.4379  0.0024  \n",
      "REC_15 (testset)  0.1684  0.1679  0.1665  0.1675  0.1667  0.1690  0.1660  0.1667  0.1667  0.1641  0.1669  0.0013  \n",
      "NDCG_15 (testset) 0.7580  0.7564  0.7561  0.7560  0.7556  0.7565  0.7559  0.7568  0.7567  0.7560  0.7564  0.0006  \n",
      "Fit time          10015.659828.42 9911.89 10021.549750.56 9990.25 10044.089891.97 9897.30 9908.09 9925.98 88.34   \n",
      "Test time         44.52   43.58   45.45   47.48   47.52   43.90   46.18   44.78   46.19   47.15   45.68   1.38    \n",
      "20739.922564983368\n"
     ]
    }
   ],
   "source": [
    "algo = CoSVDv9(verbose=False, n_epochs=65, lr_all=0.0028, n_factors=40, tags=raw_tags, random_state=123)\n",
    "start = time.time()\n",
    "parellel_cold_start(algo, data, rate, m_list, random_state=123, n_rating=20, n_exp=10, n_jobs=5)\n",
    "print(time.time() - start)"
   ]
  },
  {
   "cell_type": "code",
   "execution_count": 32,
   "metadata": {},
   "outputs": [
    {
     "name": "stdout",
     "output_type": "stream",
     "text": [
      "Evaluating RMSE, MAE, PREC_5, REC_5, NDCG_5, PREC_10, REC_10, NDCG_10, PREC_15, REC_15, NDCG_15 of algorithm CoSVDv9 on 10 split(s).\n",
      "\n",
      "                  Fold 1  Fold 2  Fold 3  Fold 4  Fold 5  Fold 6  Fold 7  Fold 8  Fold 9  Fold 10 Mean    Std     \n",
      "RMSE (testset)    0.8950  0.8955  0.8961  0.8956  0.8955  0.8955  0.8958  0.8953  0.8955  0.8954  0.8955  0.0003  \n",
      "MAE (testset)     0.6926  0.6925  0.6933  0.6931  0.6928  0.6929  0.6931  0.6923  0.6929  0.6927  0.6928  0.0003  \n",
      "PREC_5 (testset)  0.4478  0.4473  0.4453  0.4421  0.4470  0.4521  0.4446  0.4473  0.4442  0.4423  0.4460  0.0028  \n",
      "REC_5 (testset)   0.1060  0.1058  0.1047  0.1059  0.1061  0.1075  0.1043  0.1046  0.1054  0.1036  0.1054  0.0011  \n",
      "NDCG_5 (testset)  0.7250  0.7237  0.7231  0.7232  0.7249  0.7253  0.7211  0.7242  0.7244  0.7235  0.7238  0.0012  \n",
      "PREC_10 (testset) 0.4414  0.4407  0.4383  0.4358  0.4402  0.4449  0.4385  0.4402  0.4375  0.4360  0.4393  0.0026  \n",
      "REC_10 (testset)  0.1439  0.1440  0.1423  0.1435  0.1439  0.1456  0.1423  0.1423  0.1431  0.1415  0.1432  0.0011  \n",
      "NDCG_10 (testset) 0.7433  0.7424  0.7416  0.7419  0.7432  0.7433  0.7406  0.7425  0.7423  0.7422  0.7423  0.0008  \n",
      "PREC_15 (testset) 0.4379  0.4371  0.4346  0.4325  0.4368  0.4412  0.4348  0.4366  0.4340  0.4323  0.4358  0.0026  \n",
      "REC_15 (testset)  0.1669  0.1669  0.1652  0.1663  0.1669  0.1687  0.1654  0.1654  0.1657  0.1645  0.1662  0.0011  \n",
      "NDCG_15 (testset) 0.7587  0.7581  0.7573  0.7576  0.7584  0.7586  0.7564  0.7579  0.7578  0.7577  0.7579  0.0007  \n",
      "Fit time          9838.74 9958.62 10010.569905.11 9799.72 10056.099970.61 9902.25 9931.04 10036.649940.94 78.57   \n",
      "Test time         45.47   47.20   48.83   47.01   47.70   44.29   45.61   46.88   46.52   46.14   46.57   1.21    \n",
      "20869.773171663284\n"
     ]
    }
   ],
   "source": [
    "algo = CoSVDv9(verbose=False, n_epochs=65, lr_all=0.0028, n_factors=30, tags=raw_tags, random_state=123)\n",
    "start = time.time()\n",
    "parellel_cold_start(algo, data, rate, m_list, random_state=123, n_rating=20, n_exp=10, n_jobs=5)\n",
    "print(time.time() - start)"
   ]
  },
  {
   "cell_type": "code",
   "execution_count": 33,
   "metadata": {},
   "outputs": [
    {
     "name": "stdout",
     "output_type": "stream",
     "text": [
      "Evaluating RMSE, MAE, PREC_5, REC_5, NDCG_5, PREC_10, REC_10, NDCG_10, PREC_15, REC_15, NDCG_15 of algorithm CoSVDv9 on 10 split(s).\n",
      "\n",
      "                  Fold 1  Fold 2  Fold 3  Fold 4  Fold 5  Fold 6  Fold 7  Fold 8  Fold 9  Fold 10 Mean    Std     \n",
      "RMSE (testset)    0.8929  0.8928  0.8933  0.8927  0.8931  0.8933  0.8930  0.8928  0.8928  0.8933  0.8930  0.0002  \n",
      "MAE (testset)     0.6909  0.6903  0.6910  0.6907  0.6907  0.6910  0.6909  0.6902  0.6907  0.6908  0.6907  0.0003  \n",
      "PREC_5 (testset)  0.4445  0.4473  0.4402  0.4423  0.4432  0.4484  0.4433  0.4447  0.4423  0.4365  0.4433  0.0032  \n",
      "REC_5 (testset)   0.1056  0.1058  0.1036  0.1060  0.1052  0.1069  0.1042  0.1039  0.1047  0.1026  0.1049  0.0012  \n",
      "NDCG_5 (testset)  0.7272  0.7275  0.7261  0.7265  0.7277  0.7275  0.7263  0.7274  0.7273  0.7253  0.7269  0.0007  \n",
      "PREC_10 (testset) 0.4380  0.4405  0.4339  0.4360  0.4368  0.4418  0.4366  0.4382  0.4359  0.4308  0.4368  0.0030  \n",
      "REC_10 (testset)  0.1433  0.1437  0.1411  0.1436  0.1428  0.1451  0.1423  0.1417  0.1421  0.1404  0.1426  0.0013  \n",
      "NDCG_10 (testset) 0.7451  0.7456  0.7443  0.7445  0.7456  0.7454  0.7447  0.7454  0.7453  0.7439  0.7450  0.0005  \n",
      "PREC_15 (testset) 0.4345  0.4368  0.4303  0.4325  0.4331  0.4383  0.4328  0.4343  0.4321  0.4275  0.4332  0.0029  \n",
      "REC_15 (testset)  0.1663  0.1666  0.1640  0.1664  0.1656  0.1682  0.1654  0.1647  0.1648  0.1634  0.1655  0.0013  \n",
      "NDCG_15 (testset) 0.7606  0.7608  0.7598  0.7599  0.7607  0.7605  0.7602  0.7605  0.7603  0.7595  0.7603  0.0004  \n",
      "Fit time          10098.279794.31 9992.51 10220.699977.40 9897.56 10109.579933.50 10091.179997.93 10011.29116.28  \n",
      "Test time         46.39   45.89   48.70   46.48   48.27   45.76   45.01   47.83   47.61   46.90   46.88   1.13    \n",
      "21022.85868048668\n"
     ]
    }
   ],
   "source": [
    "algo = CoSVDv9(verbose=False, n_epochs=65, lr_all=0.0028, n_factors=20, tags=raw_tags, random_state=123)\n",
    "start = time.time()\n",
    "parellel_cold_start(algo, data, rate, m_list, random_state=123, n_rating=20, n_exp=10, n_jobs=5)\n",
    "print(time.time() - start)"
   ]
  },
  {
   "cell_type": "markdown",
   "metadata": {},
   "source": [
    "### SVD"
   ]
  },
  {
   "cell_type": "code",
   "execution_count": 34,
   "metadata": {},
   "outputs": [
    {
     "name": "stdout",
     "output_type": "stream",
     "text": [
      "Evaluating RMSE, MAE, PREC_5, REC_5, NDCG_5, PREC_10, REC_10, NDCG_10, PREC_15, REC_15, NDCG_15 of algorithm SVD on 10 split(s).\n",
      "\n",
      "                  Fold 1  Fold 2  Fold 3  Fold 4  Fold 5  Fold 6  Fold 7  Fold 8  Fold 9  Fold 10 Mean    Std     \n",
      "RMSE (testset)    0.8903  0.8908  0.8910  0.8913  0.8912  0.8911  0.8905  0.8906  0.8909  0.8908  0.8908  0.0003  \n",
      "MAE (testset)     0.6889  0.6887  0.6892  0.6896  0.6892  0.6895  0.6889  0.6885  0.6891  0.6890  0.6890  0.0003  \n",
      "PREC_5 (testset)  0.4356  0.4346  0.4308  0.4314  0.4311  0.4337  0.4355  0.4359  0.4319  0.4275  0.4328  0.0026  \n",
      "REC_5 (testset)   0.1019  0.1012  0.1000  0.1017  0.1005  0.1016  0.0998  0.1008  0.1007  0.0990  0.1007  0.0009  \n",
      "NDCG_5 (testset)  0.7350  0.7334  0.7341  0.7326  0.7330  0.7322  0.7327  0.7347  0.7350  0.7326  0.7335  0.0010  \n",
      "PREC_10 (testset) 0.4289  0.4280  0.4240  0.4248  0.4246  0.4272  0.4293  0.4294  0.4249  0.4215  0.4263  0.0025  \n",
      "REC_10 (testset)  0.1382  0.1379  0.1363  0.1381  0.1368  0.1383  0.1366  0.1376  0.1369  0.1357  0.1372  0.0009  \n",
      "NDCG_10 (testset) 0.7515  0.7506  0.7504  0.7496  0.7503  0.7495  0.7502  0.7513  0.7514  0.7501  0.7505  0.0007  \n",
      "PREC_15 (testset) 0.4252  0.4242  0.4201  0.4212  0.4210  0.4236  0.4258  0.4258  0.4212  0.4178  0.4226  0.0026  \n",
      "REC_15 (testset)  0.1604  0.1601  0.1583  0.1601  0.1588  0.1606  0.1592  0.1600  0.1588  0.1579  0.1594  0.0009  \n",
      "NDCG_15 (testset) 0.7661  0.7652  0.7648  0.7644  0.7648  0.7643  0.7652  0.7657  0.7659  0.7649  0.7651  0.0006  \n",
      "Fit time          70.65   71.28   74.23   71.16   71.05   71.72   73.94   74.12   71.08   72.68   72.19   1.35    \n",
      "Test time         47.42   47.12   47.27   46.94   47.76   45.81   46.97   47.18   46.37   47.16   47.00   0.52    \n",
      "1103.357540845871\n"
     ]
    }
   ],
   "source": [
    "algo = SVD(verbose=False, n_epochs=60, lr_all=0.008, reg_all=0.091, n_factors=40, random_state=123)\n",
    "start = time.time()\n",
    "parellel_cold_start(algo, data, rate, m_list, random_state=123, n_rating=20, n_exp=10, n_jobs=5)\n",
    "print(time.time() - start)"
   ]
  },
  {
   "cell_type": "code",
   "execution_count": 35,
   "metadata": {},
   "outputs": [
    {
     "name": "stdout",
     "output_type": "stream",
     "text": [
      "Evaluating RMSE, MAE, PREC_5, REC_5, NDCG_5, PREC_10, REC_10, NDCG_10, PREC_15, REC_15, NDCG_15 of algorithm SVD on 10 split(s).\n",
      "\n",
      "                  Fold 1  Fold 2  Fold 3  Fold 4  Fold 5  Fold 6  Fold 7  Fold 8  Fold 9  Fold 10 Mean    Std     \n",
      "RMSE (testset)    0.8914  0.8917  0.8925  0.8929  0.8920  0.8912  0.8916  0.8913  0.8921  0.8923  0.8919  0.0005  \n",
      "MAE (testset)     0.6895  0.6893  0.6902  0.6907  0.6897  0.6893  0.6895  0.6889  0.6898  0.6900  0.6897  0.0005  \n",
      "PREC_5 (testset)  0.4353  0.4354  0.4312  0.4280  0.4330  0.4345  0.4346  0.4338  0.4306  0.4285  0.4325  0.0026  \n",
      "REC_5 (testset)   0.1014  0.1013  0.1002  0.1012  0.1014  0.1019  0.1001  0.1010  0.1010  0.0993  0.1009  0.0007  \n",
      "NDCG_5 (testset)  0.7329  0.7329  0.7319  0.7294  0.7333  0.7317  0.7301  0.7327  0.7318  0.7310  0.7318  0.0012  \n",
      "PREC_10 (testset) 0.4290  0.4286  0.4243  0.4222  0.4267  0.4277  0.4287  0.4272  0.4243  0.4219  0.4261  0.0025  \n",
      "REC_10 (testset)  0.1378  0.1382  0.1363  0.1374  0.1377  0.1386  0.1370  0.1376  0.1373  0.1358  0.1374  0.0008  \n",
      "NDCG_10 (testset) 0.7500  0.7499  0.7487  0.7474  0.7502  0.7492  0.7482  0.7497  0.7489  0.7483  0.7490  0.0009  \n",
      "PREC_15 (testset) 0.4253  0.4251  0.4208  0.4187  0.4231  0.4241  0.4250  0.4238  0.4208  0.4183  0.4225  0.0025  \n",
      "REC_15 (testset)  0.1600  0.1605  0.1585  0.1594  0.1599  0.1610  0.1595  0.1600  0.1593  0.1582  0.1596  0.0008  \n",
      "NDCG_15 (testset) 0.7647  0.7647  0.7635  0.7625  0.7647  0.7641  0.7633  0.7645  0.7637  0.7633  0.7639  0.0007  \n",
      "Fit time          63.31   62.94   60.60   61.21   61.16   66.24   61.22   60.68   61.35   62.18   62.09   1.63    \n",
      "Test time         46.68   45.79   46.56   47.59   46.85   44.75   43.84   44.77   46.77   46.58   46.02   1.13    \n",
      "1087.4534907341003\n"
     ]
    }
   ],
   "source": [
    "algo = SVD(verbose=False, n_epochs=60, lr_all=0.008, reg_all=0.091, n_factors=30, random_state=123)\n",
    "start = time.time()\n",
    "parellel_cold_start(algo, data, rate, m_list, random_state=123, n_rating=20, n_exp=10, n_jobs=5)\n",
    "print(time.time() - start)"
   ]
  },
  {
   "cell_type": "code",
   "execution_count": 36,
   "metadata": {},
   "outputs": [
    {
     "name": "stdout",
     "output_type": "stream",
     "text": [
      "Evaluating RMSE, MAE, PREC_5, REC_5, NDCG_5, PREC_10, REC_10, NDCG_10, PREC_15, REC_15, NDCG_15 of algorithm SVD on 10 split(s).\n",
      "\n",
      "                  Fold 1  Fold 2  Fold 3  Fold 4  Fold 5  Fold 6  Fold 7  Fold 8  Fold 9  Fold 10 Mean    Std     \n",
      "RMSE (testset)    0.8932  0.8917  0.8925  0.8923  0.8922  0.8922  0.8924  0.8918  0.8918  0.8923  0.8922  0.0004  \n",
      "MAE (testset)     0.6908  0.6890  0.6901  0.6899  0.6897  0.6899  0.6900  0.6890  0.6894  0.6896  0.6897  0.0005  \n",
      "PREC_5 (testset)  0.4319  0.4357  0.4287  0.4295  0.4300  0.4337  0.4340  0.4342  0.4309  0.4264  0.4315  0.0028  \n",
      "REC_5 (testset)   0.1013  0.1019  0.0998  0.1020  0.1011  0.1021  0.0999  0.1008  0.1009  0.0994  0.1009  0.0009  \n",
      "NDCG_5 (testset)  0.7297  0.7326  0.7300  0.7295  0.7313  0.7304  0.7291  0.7322  0.7321  0.7292  0.7306  0.0013  \n",
      "PREC_10 (testset) 0.4259  0.4293  0.4225  0.4234  0.4238  0.4278  0.4280  0.4278  0.4242  0.4203  0.4253  0.0027  \n",
      "REC_10 (testset)  0.1378  0.1389  0.1360  0.1385  0.1376  0.1391  0.1367  0.1377  0.1373  0.1360  0.1375  0.0010  \n",
      "NDCG_10 (testset) 0.7474  0.7499  0.7476  0.7475  0.7489  0.7482  0.7476  0.7494  0.7488  0.7472  0.7483  0.0009  \n",
      "PREC_15 (testset) 0.4225  0.4256  0.4192  0.4200  0.4203  0.4242  0.4245  0.4244  0.4206  0.4168  0.4218  0.0027  \n",
      "REC_15 (testset)  0.1600  0.1612  0.1581  0.1607  0.1597  0.1616  0.1593  0.1602  0.1593  0.1586  0.1599  0.0010  \n",
      "NDCG_15 (testset) 0.7628  0.7646  0.7627  0.7626  0.7635  0.7634  0.7629  0.7641  0.7637  0.7624  0.7633  0.0007  \n",
      "Fit time          49.82   50.66   50.24   50.20   50.74   50.45   50.98   50.44   51.30   50.35   50.52   0.40    \n",
      "Test time         45.68   46.59   46.08   47.92   47.36   45.64   44.08   44.37   47.73   46.43   46.19   1.24    \n",
      "1077.4021978378296\n"
     ]
    }
   ],
   "source": [
    "algo = SVD(verbose=False, n_epochs=60, lr_all=0.008, reg_all=0.091, n_factors=20, random_state=123)\n",
    "start = time.time()\n",
    "parellel_cold_start(algo, data, rate, m_list, random_state=123, n_rating=20, n_exp=10, n_jobs=5)\n",
    "print(time.time() - start)"
   ]
  },
  {
   "cell_type": "markdown",
   "metadata": {},
   "source": [
    "### SVD++"
   ]
  },
  {
   "cell_type": "code",
   "execution_count": 37,
   "metadata": {},
   "outputs": [
    {
     "name": "stdout",
     "output_type": "stream",
     "text": [
      "Evaluating RMSE, MAE, PREC_5, REC_5, NDCG_5, PREC_10, REC_10, NDCG_10, PREC_15, REC_15, NDCG_15 of algorithm SVDpp on 10 split(s).\n",
      "\n",
      "                  Fold 1  Fold 2  Fold 3  Fold 4  Fold 5  Fold 6  Fold 7  Fold 8  Fold 9  Fold 10 Mean    Std     \n",
      "RMSE (testset)    0.8920  0.8925  0.8937  0.8928  0.8939  0.8941  0.8931  0.8931  0.8930  0.8928  0.8931  0.0006  \n",
      "MAE (testset)     0.6936  0.6936  0.6945  0.6943  0.6948  0.6951  0.6944  0.6941  0.6942  0.6939  0.6942  0.0005  \n",
      "PREC_5 (testset)  0.5111  0.5121  0.5098  0.5091  0.5052  0.5135  0.5114  0.5133  0.5095  0.5043  0.5099  0.0030  \n",
      "REC_5 (testset)   0.1181  0.1194  0.1177  0.1193  0.1171  0.1194  0.1184  0.1182  0.1183  0.1156  0.1182  0.0011  \n",
      "NDCG_5 (testset)  0.7378  0.7371  0.7354  0.7372  0.7363  0.7375  0.7358  0.7367  0.7365  0.7362  0.7367  0.0007  \n",
      "PREC_10 (testset) 0.5028  0.5040  0.5012  0.5007  0.4969  0.5052  0.5031  0.5046  0.5011  0.4962  0.5016  0.0029  \n",
      "REC_10 (testset)  0.1575  0.1594  0.1569  0.1585  0.1561  0.1591  0.1580  0.1580  0.1574  0.1547  0.1576  0.0013  \n",
      "NDCG_10 (testset) 0.7540  0.7537  0.7520  0.7535  0.7528  0.7535  0.7526  0.7532  0.7530  0.7528  0.7531  0.0006  \n",
      "PREC_15 (testset) 0.4982  0.4995  0.4969  0.4961  0.4922  0.5006  0.4989  0.5002  0.4968  0.4918  0.4971  0.0029  \n",
      "REC_15 (testset)  0.1807  0.1826  0.1799  0.1816  0.1791  0.1821  0.1816  0.1815  0.1803  0.1778  0.1807  0.0014  \n",
      "NDCG_15 (testset) 0.7681  0.7679  0.7664  0.7675  0.7668  0.7673  0.7671  0.7673  0.7671  0.7670  0.7673  0.0005  \n",
      "Fit time          901.83  903.98  900.92  931.54  895.93  899.97  892.68  896.67  889.06  887.51  900.01  11.71   \n",
      "Test time         177.27  180.89  185.49  179.65  184.89  176.32  175.73  181.73  179.78  182.19  180.39  3.17    \n",
      "2955.1212046146393\n"
     ]
    }
   ],
   "source": [
    "algo = SVDpp(verbose=False, n_epochs=45, lr_all=0.0012, reg_all=0.0012, n_factors=40, random_state=123)\n",
    "\n",
    "start = time.time()\n",
    "parellel_cold_start(algo, data, rate, m_list, random_state=123, n_rating=20, n_exp=10, n_jobs=5)\n",
    "print(time.time() - start)"
   ]
  },
  {
   "cell_type": "code",
   "execution_count": 38,
   "metadata": {},
   "outputs": [
    {
     "name": "stdout",
     "output_type": "stream",
     "text": [
      "Evaluating RMSE, MAE, PREC_5, REC_5, NDCG_5, PREC_10, REC_10, NDCG_10, PREC_15, REC_15, NDCG_15 of algorithm SVDpp on 10 split(s).\n",
      "\n",
      "                  Fold 1  Fold 2  Fold 3  Fold 4  Fold 5  Fold 6  Fold 7  Fold 8  Fold 9  Fold 10 Mean    Std     \n",
      "RMSE (testset)    0.8870  0.8880  0.8891  0.8875  0.8888  0.8885  0.8883  0.8876  0.8883  0.8879  0.8881  0.0006  \n",
      "MAE (testset)     0.6894  0.6899  0.6909  0.6900  0.6906  0.6906  0.6904  0.6896  0.6904  0.6899  0.6902  0.0004  \n",
      "PREC_5 (testset)  0.5086  0.5100  0.5066  0.5027  0.5066  0.5114  0.5093  0.5089  0.5070  0.5012  0.5072  0.0030  \n",
      "REC_5 (testset)   0.1169  0.1189  0.1167  0.1169  0.1167  0.1188  0.1176  0.1160  0.1167  0.1144  0.1170  0.0012  \n",
      "NDCG_5 (testset)  0.7428  0.7420  0.7408  0.7416  0.7415  0.7432  0.7404  0.7422  0.7427  0.7416  0.7419  0.0009  \n",
      "PREC_10 (testset) 0.4998  0.5014  0.4980  0.4946  0.4984  0.5030  0.5010  0.5000  0.4982  0.4931  0.4987  0.0029  \n",
      "REC_10 (testset)  0.1560  0.1584  0.1557  0.1555  0.1555  0.1583  0.1571  0.1553  0.1555  0.1535  0.1561  0.0014  \n",
      "NDCG_10 (testset) 0.7582  0.7579  0.7564  0.7576  0.7574  0.7583  0.7567  0.7578  0.7586  0.7573  0.7576  0.0006  \n",
      "PREC_15 (testset) 0.4953  0.4967  0.4933  0.4902  0.4938  0.4985  0.4967  0.4957  0.4937  0.4887  0.4942  0.0029  \n",
      "REC_15 (testset)  0.1790  0.1815  0.1785  0.1783  0.1784  0.1814  0.1806  0.1786  0.1781  0.1765  0.1791  0.0015  \n",
      "NDCG_15 (testset) 0.7720  0.7715  0.7703  0.7713  0.7710  0.7717  0.7706  0.7715  0.7721  0.7710  0.7713  0.0006  \n",
      "Fit time          755.20  758.10  750.32  764.90  748.63  754.50  760.68  751.14  754.20  752.07  754.98  4.76    \n",
      "Test time         179.82  186.07  185.13  180.20  180.60  176.45  185.00  183.70  179.72  176.94  181.36  3.25    \n",
      "2645.1790902614594\n"
     ]
    }
   ],
   "source": [
    "algo = SVDpp(verbose=False, n_epochs=45, lr_all=0.0012, reg_all=0.0012, n_factors=30, random_state=123)\n",
    "\n",
    "start = time.time()\n",
    "parellel_cold_start(algo, data, rate, m_list, random_state=123, n_rating=20, n_exp=10, n_jobs=5)\n",
    "print(time.time() - start)"
   ]
  },
  {
   "cell_type": "code",
   "execution_count": 39,
   "metadata": {},
   "outputs": [
    {
     "name": "stdout",
     "output_type": "stream",
     "text": [
      "Evaluating RMSE, MAE, PREC_5, REC_5, NDCG_5, PREC_10, REC_10, NDCG_10, PREC_15, REC_15, NDCG_15 of algorithm SVDpp on 10 split(s).\n",
      "\n",
      "                  Fold 1  Fold 2  Fold 3  Fold 4  Fold 5  Fold 6  Fold 7  Fold 8  Fold 9  Fold 10 Mean    Std     \n",
      "RMSE (testset)    0.8820  0.8820  0.8834  0.8820  0.8830  0.8828  0.8826  0.8823  0.8828  0.8823  0.8825  0.0005  \n",
      "MAE (testset)     0.6853  0.6852  0.6863  0.6855  0.6861  0.6859  0.6860  0.6852  0.6861  0.6854  0.6857  0.0004  \n",
      "PREC_5 (testset)  0.5028  0.5042  0.5008  0.4978  0.5004  0.5062  0.5029  0.5033  0.5032  0.4993  0.5021  0.0024  \n",
      "REC_5 (testset)   0.1151  0.1166  0.1142  0.1152  0.1155  0.1174  0.1152  0.1148  0.1156  0.1137  0.1153  0.0010  \n",
      "NDCG_5 (testset)  0.7478  0.7483  0.7478  0.7476  0.7482  0.7463  0.7469  0.7474  0.7496  0.7472  0.7477  0.0008  \n",
      "PREC_10 (testset) 0.4944  0.4955  0.4926  0.4895  0.4925  0.4984  0.4944  0.4950  0.4946  0.4910  0.4938  0.0024  \n",
      "REC_10 (testset)  0.1538  0.1556  0.1528  0.1537  0.1544  0.1569  0.1545  0.1539  0.1542  0.1525  0.1542  0.0012  \n",
      "NDCG_10 (testset) 0.7629  0.7631  0.7626  0.7625  0.7632  0.7620  0.7626  0.7625  0.7640  0.7622  0.7628  0.0005  \n",
      "PREC_15 (testset) 0.4900  0.4910  0.4881  0.4852  0.4879  0.4941  0.4898  0.4906  0.4899  0.4867  0.4893  0.0024  \n",
      "REC_15 (testset)  0.1768  0.1784  0.1755  0.1766  0.1773  0.1801  0.1777  0.1770  0.1766  0.1755  0.1772  0.0013  \n",
      "NDCG_15 (testset) 0.7763  0.7763  0.7757  0.7759  0.7764  0.7753  0.7759  0.7758  0.7769  0.7755  0.7760  0.0005  \n",
      "Fit time          637.14  617.42  612.33  612.67  612.54  616.14  613.71  610.58  614.20  609.05  615.58  7.55    \n",
      "Test time         183.51  180.16  177.98  176.64  178.80  179.77  176.66  175.32  177.66  176.47  178.30  2.26    \n",
      "2350.6157727241516\n"
     ]
    }
   ],
   "source": [
    "algo = SVDpp(verbose=False, n_epochs=45, lr_all=0.0012, reg_all=0.0012, n_factors=20, random_state=123)\n",
    "\n",
    "start = time.time()\n",
    "parellel_cold_start(algo, data, rate, m_list, random_state=123, n_rating=20, n_exp=10, n_jobs=5)\n",
    "print(time.time() - start)"
   ]
  },
  {
   "cell_type": "markdown",
   "metadata": {},
   "source": [
    "### NMF"
   ]
  },
  {
   "cell_type": "code",
   "execution_count": 40,
   "metadata": {},
   "outputs": [
    {
     "name": "stdout",
     "output_type": "stream",
     "text": [
      "Evaluating RMSE, MAE, PREC_5, REC_5, NDCG_5, PREC_10, REC_10, NDCG_10, PREC_15, REC_15, NDCG_15 of algorithm NMF on 10 split(s).\n",
      "\n",
      "                  Fold 1  Fold 2  Fold 3  Fold 4  Fold 5  Fold 6  Fold 7  Fold 8  Fold 9  Fold 10 Mean    Std     \n",
      "RMSE (testset)    0.8997  0.8998  0.9014  0.9001  0.9007  0.9008  0.9010  0.9001  0.9013  0.9004  0.9005  0.0006  \n",
      "MAE (testset)     0.6987  0.6984  0.6998  0.6989  0.6993  0.6996  0.6995  0.6985  0.6997  0.6989  0.6991  0.0005  \n",
      "PREC_5 (testset)  0.4219  0.4230  0.4180  0.4208  0.4215  0.4250  0.4216  0.4197  0.4203  0.4164  0.4208  0.0023  \n",
      "REC_5 (testset)   0.0962  0.0964  0.0952  0.0972  0.0965  0.0977  0.0948  0.0945  0.0963  0.0939  0.0959  0.0011  \n",
      "NDCG_5 (testset)  0.7231  0.7217  0.7199  0.7220  0.7220  0.7232  0.7218  0.7213  0.7220  0.7215  0.7219  0.0009  \n",
      "PREC_10 (testset) 0.4162  0.4172  0.4123  0.4151  0.4156  0.4187  0.4158  0.4140  0.4144  0.4105  0.4150  0.0022  \n",
      "REC_10 (testset)  0.1309  0.1313  0.1302  0.1320  0.1312  0.1330  0.1300  0.1296  0.1310  0.1288  0.1308  0.0011  \n",
      "NDCG_10 (testset) 0.7419  0.7409  0.7394  0.7407  0.7406  0.7415  0.7407  0.7406  0.7409  0.7405  0.7408  0.0006  \n",
      "PREC_15 (testset) 0.4131  0.4142  0.4090  0.4122  0.4125  0.4154  0.4123  0.4108  0.4114  0.4073  0.4118  0.0023  \n",
      "REC_15 (testset)  0.1523  0.1526  0.1515  0.1532  0.1523  0.1543  0.1515  0.1510  0.1521  0.1502  0.1521  0.0011  \n",
      "NDCG_15 (testset) 0.7576  0.7570  0.7553  0.7568  0.7563  0.7572  0.7565  0.7563  0.7569  0.7565  0.7566  0.0006  \n",
      "Fit time          65.61   66.35   66.68   66.96   66.91   66.43   66.49   67.78   66.37   65.88   66.55   0.57    \n",
      "Test time         39.04   41.44   40.15   42.49   42.01   40.34   39.04   37.78   42.02   41.72   40.61   1.50    \n",
      "1086.9572212696075\n"
     ]
    }
   ],
   "source": [
    "algo = NMF(verbose=False, n_epochs=40, reg_pu=0.19, reg_qi=0.08, lr_bu=0.001, lr_bi=0.001, reg_bu=0.001, reg_bi=0.001, n_factors=40, random_state=123)\n",
    "\n",
    "start = time.time()\n",
    "parellel_cold_start(algo, data, rate, m_list, random_state=123, n_rating=20, n_exp=10, n_jobs=5)\n",
    "print(time.time() - start)"
   ]
  },
  {
   "cell_type": "code",
   "execution_count": 41,
   "metadata": {},
   "outputs": [
    {
     "name": "stdout",
     "output_type": "stream",
     "text": [
      "Evaluating RMSE, MAE, PREC_5, REC_5, NDCG_5, PREC_10, REC_10, NDCG_10, PREC_15, REC_15, NDCG_15 of algorithm NMF on 10 split(s).\n",
      "\n",
      "                  Fold 1  Fold 2  Fold 3  Fold 4  Fold 5  Fold 6  Fold 7  Fold 8  Fold 9  Fold 10 Mean    Std     \n",
      "RMSE (testset)    0.9038  0.9039  0.9053  0.9043  0.9049  0.9044  0.9055  0.9034  0.9056  0.9042  0.9045  0.0007  \n",
      "MAE (testset)     0.7037  0.7034  0.7046  0.7041  0.7042  0.7040  0.7048  0.7030  0.7048  0.7037  0.7040  0.0006  \n",
      "PREC_5 (testset)  0.4154  0.4171  0.4134  0.4159  0.4144  0.4193  0.4163  0.4178  0.4149  0.4129  0.4158  0.0019  \n",
      "REC_5 (testset)   0.0929  0.0923  0.0920  0.0938  0.0926  0.0943  0.0914  0.0920  0.0924  0.0913  0.0925  0.0009  \n",
      "NDCG_5 (testset)  0.7190  0.7179  0.7171  0.7189  0.7189  0.7191  0.7176  0.7196  0.7179  0.7179  0.7184  0.0008  \n",
      "PREC_10 (testset) 0.4101  0.4116  0.4080  0.4103  0.4088  0.4141  0.4108  0.4119  0.4092  0.4077  0.4103  0.0019  \n",
      "REC_10 (testset)  0.1262  0.1258  0.1254  0.1268  0.1259  0.1282  0.1249  0.1253  0.1253  0.1247  0.1258  0.0010  \n",
      "NDCG_10 (testset) 0.7383  0.7377  0.7368  0.7378  0.7380  0.7382  0.7372  0.7386  0.7372  0.7374  0.7377  0.0005  \n",
      "PREC_15 (testset) 0.4070  0.4087  0.4053  0.4075  0.4058  0.4112  0.4078  0.4091  0.4063  0.4049  0.4074  0.0018  \n",
      "REC_15 (testset)  0.1464  0.1461  0.1459  0.1469  0.1461  0.1486  0.1452  0.1458  0.1452  0.1451  0.1461  0.0010  \n",
      "NDCG_15 (testset) 0.7543  0.7539  0.7532  0.7540  0.7540  0.7542  0.7533  0.7546  0.7533  0.7537  0.7538  0.0004  \n",
      "Fit time          55.06   55.55   56.58   55.70   56.33   55.69   55.84   55.49   55.47   55.95   55.76   0.42    \n",
      "Test time         39.30   41.02   41.52   42.58   42.31   39.10   39.02   39.28   42.56   42.07   40.87   1.46    \n",
      "1079.1888761520386\n"
     ]
    }
   ],
   "source": [
    "algo = NMF(verbose=False, n_epochs=40, reg_pu=0.19, reg_qi=0.08, lr_bu=0.001, lr_bi=0.001, reg_bu=0.001, reg_bi=0.001, n_factors=30, random_state=123)\n",
    "\n",
    "start = time.time()\n",
    "parellel_cold_start(algo, data, rate, m_list, random_state=123, n_rating=20, n_exp=10, n_jobs=5)\n",
    "print(time.time() - start)"
   ]
  },
  {
   "cell_type": "code",
   "execution_count": 42,
   "metadata": {},
   "outputs": [
    {
     "name": "stdout",
     "output_type": "stream",
     "text": [
      "Evaluating RMSE, MAE, PREC_5, REC_5, NDCG_5, PREC_10, REC_10, NDCG_10, PREC_15, REC_15, NDCG_15 of algorithm NMF on 10 split(s).\n",
      "\n",
      "                  Fold 1  Fold 2  Fold 3  Fold 4  Fold 5  Fold 6  Fold 7  Fold 8  Fold 9  Fold 10 Mean    Std     \n",
      "RMSE (testset)    0.9102  0.9103  0.9116  0.9107  0.9115  0.9116  0.9117  0.9105  0.9122  0.9108  0.9111  0.0007  \n",
      "MAE (testset)     0.7113  0.7109  0.7123  0.7118  0.7119  0.7122  0.7124  0.7111  0.7127  0.7116  0.7118  0.0006  \n",
      "PREC_5 (testset)  0.4057  0.4069  0.4038  0.4084  0.4074  0.4104  0.4063  0.4056  0.4037  0.4024  0.4061  0.0023  \n",
      "REC_5 (testset)   0.0878  0.0878  0.0867  0.0892  0.0882  0.0890  0.0865  0.0859  0.0880  0.0860  0.0875  0.0011  \n",
      "NDCG_5 (testset)  0.7151  0.7143  0.7142  0.7161  0.7140  0.7158  0.7135  0.7148  0.7145  0.7136  0.7146  0.0008  \n",
      "PREC_10 (testset) 0.4008  0.4025  0.3989  0.4032  0.4024  0.4060  0.4018  0.4007  0.3985  0.3977  0.4013  0.0024  \n",
      "REC_10 (testset)  0.1190  0.1191  0.1180  0.1201  0.1191  0.1208  0.1177  0.1170  0.1189  0.1171  0.1187  0.0012  \n",
      "NDCG_10 (testset) 0.7347  0.7348  0.7338  0.7353  0.7339  0.7351  0.7337  0.7345  0.7342  0.7337  0.7344  0.0005  \n",
      "PREC_15 (testset) 0.3982  0.4001  0.3963  0.4005  0.3998  0.4032  0.3994  0.3980  0.3960  0.3951  0.3987  0.0023  \n",
      "REC_15 (testset)  0.1378  0.1380  0.1369  0.1387  0.1378  0.1396  0.1366  0.1359  0.1375  0.1361  0.1375  0.0011  \n",
      "NDCG_15 (testset) 0.7511  0.7514  0.7503  0.7516  0.7502  0.7512  0.7501  0.7507  0.7506  0.7503  0.7508  0.0005  \n",
      "Fit time          44.05   46.10   46.05   44.67   44.88   44.37   44.96   45.38   44.69   44.43   44.96   0.65    \n",
      "Test time         40.55   41.75   42.30   41.18   41.92   40.09   39.11   41.46   41.87   41.19   41.14   0.92    \n",
      "1075.8497104644775\n"
     ]
    }
   ],
   "source": [
    "algo = NMF(verbose=False, n_epochs=40, reg_pu=0.19, reg_qi=0.08, lr_bu=0.001, lr_bi=0.001, reg_bu=0.001, reg_bi=0.001, n_factors=20, random_state=123)\n",
    "\n",
    "start = time.time()\n",
    "parellel_cold_start(algo, data, rate, m_list, random_state=123, n_rating=20, n_exp=10, n_jobs=5)\n",
    "print(time.time() - start)"
   ]
  },
  {
   "cell_type": "markdown",
   "metadata": {},
   "source": [
    "## Cold Start Item - 100"
   ]
  },
  {
   "cell_type": "code",
   "execution_count": 43,
   "metadata": {},
   "outputs": [],
   "source": [
    "def cold_start_item_input(data, rate, n_rating=100, n_exp=10, random_state=123):\n",
    "    np.random.seed(random_state)\n",
    "    for i in np.random.randint(0, 1000, n_exp):\n",
    "        temp = rate.groupby('movieId')['userId'].apply(lambda s: s.sample(n_rating, random_state=i) if len(s) > n_rating else s).reset_index()\n",
    "        temp2 = np.arange(len(data.raw_ratings))\n",
    "        temp2 = np.delete(temp2, temp.level_1)\n",
    "\n",
    "        raw_trainset = [data.raw_ratings[i] for i in temp.level_1]\n",
    "        raw_testset = [data.raw_ratings[i] for i in temp2]\n",
    "\n",
    "        trainset = data.construct_trainset(raw_trainset)\n",
    "        testset = data.construct_testset(raw_testset)\n",
    "        \n",
    "        yield trainset, testset\n",
    "\n",
    "def parellel_cold_start_item(algo, data, raw_ratings, measures=['rmse', 'mae'], random_state=123, n_rating=100, n_exp=10, n_jobs=1, pre_dispatch='2*n_jobs', return_train_measures = False, verbose=True):\n",
    "    measures = [m.lower() for m in measures]\n",
    "\n",
    "    delayed_list = (delayed(fit_and_score)(algo, trainset, testset, measures,\n",
    "                                               return_train_measures)\n",
    "                    for (trainset, testset) in cold_start_item_input(data, raw_ratings, n_rating, n_exp, random_state))\n",
    "\n",
    "    out = Parallel(n_jobs=n_jobs, pre_dispatch=pre_dispatch)(delayed_list)\n",
    "\n",
    "    (test_measures_dicts,\n",
    "     train_measures_dicts,\n",
    "     fit_times,\n",
    "     test_times) = zip(*out)\n",
    "\n",
    "    test_measures = dict()\n",
    "    train_measures = dict()\n",
    "    ret = dict()\n",
    "    for m in measures:\n",
    "        test_measures[m] = np.asarray([d[m] for d in test_measures_dicts])\n",
    "        ret['test_' + m] = test_measures[m]\n",
    "        if return_train_measures:\n",
    "            train_measures[m] = np.asarray([d[m] for d in\n",
    "                                            train_measures_dicts])\n",
    "            ret['train_' + m] = train_measures[m]\n",
    "\n",
    "    ret['fit_time'] = fit_times\n",
    "    ret['test_time'] = test_times\n",
    "\n",
    "    if verbose:\n",
    "        print_summary(algo, measures, test_measures, train_measures, fit_times,\n",
    "                      test_times, n_exp)"
   ]
  },
  {
   "cell_type": "markdown",
   "metadata": {},
   "source": [
    "### CoSVD"
   ]
  },
  {
   "cell_type": "code",
   "execution_count": 44,
   "metadata": {},
   "outputs": [
    {
     "name": "stdout",
     "output_type": "stream",
     "text": [
      "Evaluating RMSE, MAE, PREC_5, REC_5, NDCG_5, PREC_10, REC_10, NDCG_10, PREC_15, REC_15, NDCG_15 of algorithm CoSVDv9 on 10 split(s).\n",
      "\n",
      "                  Fold 1  Fold 2  Fold 3  Fold 4  Fold 5  Fold 6  Fold 7  Fold 8  Fold 9  Fold 10 Mean    Std     \n",
      "RMSE (testset)    0.9163  0.9166  0.9160  0.9160  0.9156  0.9163  0.9159  0.9160  0.9161  0.9166  0.9161  0.0003  \n",
      "MAE (testset)     0.7108  0.7112  0.7107  0.7106  0.7103  0.7111  0.7104  0.7110  0.7107  0.7113  0.7108  0.0003  \n",
      "PREC_5 (testset)  0.6595  0.6636  0.6640  0.6610  0.6613  0.6702  0.6718  0.6700  0.6612  0.6745  0.6657  0.0051  \n",
      "REC_5 (testset)   0.0952  0.0942  0.0941  0.0944  0.0934  0.0948  0.0955  0.0952  0.0942  0.0953  0.0946  0.0006  \n",
      "NDCG_5 (testset)  0.6825  0.6837  0.6870  0.6841  0.6851  0.6912  0.6895  0.6888  0.6846  0.6878  0.6864  0.0027  \n",
      "PREC_10 (testset) 0.6493  0.6522  0.6529  0.6505  0.6509  0.6579  0.6600  0.6589  0.6504  0.6622  0.6545  0.0045  \n",
      "REC_10 (testset)  0.1656  0.1632  0.1637  0.1644  0.1618  0.1637  0.1657  0.1645  0.1640  0.1638  0.1640  0.0011  \n",
      "NDCG_10 (testset) 0.6950  0.6949  0.6972  0.6955  0.6960  0.6999  0.6986  0.6981  0.6953  0.6972  0.6968  0.0016  \n",
      "PREC_15 (testset) 0.6420  0.6449  0.6457  0.6431  0.6441  0.6503  0.6523  0.6511  0.6431  0.6546  0.6471  0.0043  \n",
      "REC_15 (testset)  0.2199  0.2163  0.2182  0.2183  0.2150  0.2175  0.2200  0.2179  0.2183  0.2169  0.2178  0.0015  \n",
      "NDCG_15 (testset) 0.7140  0.7135  0.7156  0.7142  0.7147  0.7175  0.7165  0.7156  0.7139  0.7153  0.7151  0.0012  \n",
      "Fit time          2936.30 2958.57 2961.02 2945.64 2989.30 2939.10 2935.72 2963.17 2943.51 2968.30 2954.06 16.29   \n",
      "Test time         48.71   48.20   49.00   49.13   50.74   48.20   48.24   48.19   48.02   48.94   48.74   0.77    \n",
      "6777.525908708572\n"
     ]
    }
   ],
   "source": [
    "algo = CoSVDv9(verbose=False, n_epochs=65, lr_all=0.0028, n_factors=40, tags=raw_tags, random_state=123)\n",
    "start = time.time()\n",
    "parellel_cold_start_item(algo, data, rate, m_list, random_state=123, n_rating=100, n_exp=10, n_jobs=5)\n",
    "print(time.time() - start)"
   ]
  },
  {
   "cell_type": "code",
   "execution_count": 45,
   "metadata": {},
   "outputs": [
    {
     "name": "stdout",
     "output_type": "stream",
     "text": [
      "Evaluating RMSE, MAE, PREC_5, REC_5, NDCG_5, PREC_10, REC_10, NDCG_10, PREC_15, REC_15, NDCG_15 of algorithm CoSVDv9 on 10 split(s).\n",
      "\n",
      "                  Fold 1  Fold 2  Fold 3  Fold 4  Fold 5  Fold 6  Fold 7  Fold 8  Fold 9  Fold 10 Mean    Std     \n",
      "RMSE (testset)    0.9147  0.9151  0.9147  0.9147  0.9143  0.9151  0.9144  0.9150  0.9145  0.9148  0.9147  0.0003  \n",
      "MAE (testset)     0.7093  0.7098  0.7094  0.7094  0.7090  0.7099  0.7091  0.7101  0.7092  0.7097  0.7095  0.0004  \n",
      "PREC_5 (testset)  0.6599  0.6636  0.6639  0.6612  0.6617  0.6702  0.6704  0.6688  0.6609  0.6746  0.6655  0.0048  \n",
      "REC_5 (testset)   0.0952  0.0945  0.0945  0.0943  0.0936  0.0954  0.0948  0.0951  0.0945  0.0953  0.0947  0.0005  \n",
      "NDCG_5 (testset)  0.6847  0.6851  0.6892  0.6866  0.6871  0.6928  0.6900  0.6895  0.6861  0.6900  0.6881  0.0024  \n",
      "PREC_10 (testset) 0.6497  0.6522  0.6528  0.6507  0.6512  0.6581  0.6593  0.6574  0.6504  0.6619  0.6544  0.0042  \n",
      "REC_10 (testset)  0.1661  0.1636  0.1644  0.1645  0.1622  0.1649  0.1648  0.1644  0.1643  0.1639  0.1643  0.0009  \n",
      "NDCG_10 (testset) 0.6970  0.6961  0.6991  0.6974  0.6978  0.7016  0.6992  0.6992  0.6968  0.6992  0.6984  0.0015  \n",
      "PREC_15 (testset) 0.6422  0.6448  0.6451  0.6433  0.6444  0.6499  0.6518  0.6496  0.6431  0.6545  0.6469  0.0040  \n",
      "REC_15 (testset)  0.2208  0.2166  0.2194  0.2186  0.2155  0.2185  0.2188  0.2178  0.2186  0.2172  0.2182  0.0014  \n",
      "NDCG_15 (testset) 0.7159  0.7147  0.7172  0.7160  0.7163  0.7188  0.7174  0.7167  0.7153  0.7172  0.7165  0.0011  \n",
      "Fit time          2975.63 2969.99 2976.38 2957.45 3035.95 2969.25 2955.65 2967.76 2946.38 3008.54 2976.30 25.37   \n",
      "Test time         45.62   47.06   49.41   49.29   49.27   47.38   48.16   48.86   48.30   47.29   48.07   1.16    \n",
      "6863.638140201569\n"
     ]
    }
   ],
   "source": [
    "algo = CoSVDv9(verbose=False, n_epochs=65, lr_all=0.0028, n_factors=30, tags=raw_tags, random_state=123)\n",
    "start = time.time()\n",
    "parellel_cold_start_item(algo, data, rate, m_list, random_state=123, n_rating=100, n_exp=10, n_jobs=5)\n",
    "print(time.time() - start)"
   ]
  },
  {
   "cell_type": "code",
   "execution_count": 46,
   "metadata": {},
   "outputs": [
    {
     "name": "stdout",
     "output_type": "stream",
     "text": [
      "Evaluating RMSE, MAE, PREC_5, REC_5, NDCG_5, PREC_10, REC_10, NDCG_10, PREC_15, REC_15, NDCG_15 of algorithm CoSVDv9 on 10 split(s).\n",
      "\n",
      "                  Fold 1  Fold 2  Fold 3  Fold 4  Fold 5  Fold 6  Fold 7  Fold 8  Fold 9  Fold 10 Mean    Std     \n",
      "RMSE (testset)    0.9130  0.9133  0.9126  0.9126  0.9127  0.9128  0.9127  0.9128  0.9127  0.9130  0.9128  0.0002  \n",
      "MAE (testset)     0.7076  0.7083  0.7076  0.7076  0.7076  0.7079  0.7075  0.7081  0.7076  0.7081  0.7078  0.0003  \n",
      "PREC_5 (testset)  0.6585  0.6657  0.6638  0.6608  0.6602  0.6702  0.6723  0.6697  0.6591  0.6750  0.6655  0.0056  \n",
      "REC_5 (testset)   0.0952  0.0950  0.0944  0.0944  0.0935  0.0952  0.0955  0.0951  0.0942  0.0952  0.0948  0.0006  \n",
      "NDCG_5 (testset)  0.6875  0.6870  0.6914  0.6876  0.6891  0.6959  0.6927  0.6924  0.6870  0.6921  0.6903  0.0029  \n",
      "PREC_10 (testset) 0.6480  0.6544  0.6528  0.6504  0.6496  0.6579  0.6601  0.6581  0.6489  0.6627  0.6543  0.0049  \n",
      "REC_10 (testset)  0.1658  0.1643  0.1641  0.1645  0.1623  0.1646  0.1657  0.1647  0.1641  0.1638  0.1644  0.0009  \n",
      "NDCG_10 (testset) 0.6991  0.6984  0.7012  0.6987  0.6998  0.7039  0.7017  0.7010  0.6982  0.7010  0.7003  0.0017  \n",
      "PREC_15 (testset) 0.6403  0.6472  0.6455  0.6431  0.6429  0.6498  0.6527  0.6502  0.6418  0.6552  0.6469  0.0047  \n",
      "REC_15 (testset)  0.2203  0.2175  0.2187  0.2187  0.2158  0.2183  0.2198  0.2183  0.2184  0.2171  0.2183  0.0012  \n",
      "NDCG_15 (testset) 0.7177  0.7168  0.7193  0.7173  0.7181  0.7209  0.7197  0.7186  0.7168  0.7189  0.7184  0.0013  \n",
      "Fit time          3008.04 2947.87 3016.64 3024.41 3025.70 3011.76 2962.52 2984.43 2982.17 2978.24 2994.18 25.60   \n",
      "Test time         45.32   48.40   48.91   49.85   49.44   47.62   49.68   48.30   48.14   48.96   48.46   1.25    \n",
      "6846.151387453079\n"
     ]
    }
   ],
   "source": [
    "algo = CoSVDv9(verbose=False, n_epochs=65, lr_all=0.0028, n_factors=20, tags=raw_tags, random_state=123)\n",
    "start = time.time()\n",
    "parellel_cold_start_item(algo, data, rate, m_list, random_state=123, n_rating=100, n_exp=10, n_jobs=5)\n",
    "print(time.time() - start)"
   ]
  },
  {
   "cell_type": "markdown",
   "metadata": {},
   "source": [
    "### SVD"
   ]
  },
  {
   "cell_type": "code",
   "execution_count": 47,
   "metadata": {},
   "outputs": [
    {
     "name": "stdout",
     "output_type": "stream",
     "text": [
      "Evaluating RMSE, MAE, PREC_5, REC_5, NDCG_5, PREC_10, REC_10, NDCG_10, PREC_15, REC_15, NDCG_15 of algorithm SVD on 10 split(s).\n",
      "\n",
      "                  Fold 1  Fold 2  Fold 3  Fold 4  Fold 5  Fold 6  Fold 7  Fold 8  Fold 9  Fold 10 Mean    Std     \n",
      "RMSE (testset)    0.9223  0.9227  0.9214  0.9216  0.9218  0.9224  0.9219  0.9221  0.9224  0.9227  0.9221  0.0004  \n",
      "MAE (testset)     0.7157  0.7164  0.7153  0.7154  0.7156  0.7162  0.7157  0.7160  0.7160  0.7164  0.7159  0.0004  \n",
      "PREC_5 (testset)  0.6445  0.6404  0.6464  0.6447  0.6442  0.6492  0.6489  0.6522  0.6399  0.6505  0.6461  0.0039  \n",
      "REC_5 (testset)   0.0891  0.0865  0.0888  0.0885  0.0873  0.0876  0.0870  0.0883  0.0860  0.0877  0.0877  0.0009  \n",
      "NDCG_5 (testset)  0.6836  0.6812  0.6850  0.6819  0.6827  0.6884  0.6859  0.6870  0.6804  0.6846  0.6841  0.0025  \n",
      "PREC_10 (testset) 0.6352  0.6307  0.6360  0.6348  0.6349  0.6383  0.6385  0.6416  0.6302  0.6395  0.6360  0.0035  \n",
      "REC_10 (testset)  0.1549  0.1508  0.1540  0.1541  0.1516  0.1524  0.1519  0.1527  0.1510  0.1519  0.1525  0.0013  \n",
      "NDCG_10 (testset) 0.6949  0.6925  0.6951  0.6930  0.6936  0.6975  0.6954  0.6962  0.6917  0.6943  0.6944  0.0017  \n",
      "PREC_15 (testset) 0.6281  0.6243  0.6296  0.6278  0.6287  0.6312  0.6319  0.6348  0.6237  0.6326  0.6293  0.0033  \n",
      "REC_15 (testset)  0.2063  0.2010  0.2051  0.2053  0.2021  0.2031  0.2031  0.2027  0.2020  0.2022  0.2033  0.0016  \n",
      "NDCG_15 (testset) 0.7134  0.7112  0.7133  0.7116  0.7123  0.7153  0.7136  0.7135  0.7107  0.7127  0.7128  0.0013  \n",
      "Fit time          40.30   40.64   40.53   41.04   41.26   40.87   41.00   41.26   41.26   41.29   40.95   0.33    \n",
      "Test time         44.91   45.47   46.81   49.24   49.12   47.53   47.86   48.54   48.65   48.54   47.67   1.42    \n",
      "943.4823336601257\n"
     ]
    }
   ],
   "source": [
    "algo = SVD(verbose=False, n_epochs=60, lr_all=0.008, reg_all=0.091, n_factors=40, random_state=123)\n",
    "start = time.time()\n",
    "parellel_cold_start_item(algo, data, rate, m_list, random_state=123, n_rating=100, n_exp=10, n_jobs=5)\n",
    "print(time.time() - start)"
   ]
  },
  {
   "cell_type": "code",
   "execution_count": 48,
   "metadata": {},
   "outputs": [
    {
     "name": "stdout",
     "output_type": "stream",
     "text": [
      "Evaluating RMSE, MAE, PREC_5, REC_5, NDCG_5, PREC_10, REC_10, NDCG_10, PREC_15, REC_15, NDCG_15 of algorithm SVD on 10 split(s).\n",
      "\n",
      "                  Fold 1  Fold 2  Fold 3  Fold 4  Fold 5  Fold 6  Fold 7  Fold 8  Fold 9  Fold 10 Mean    Std     \n",
      "RMSE (testset)    0.9229  0.9242  0.9231  0.9234  0.9230  0.9242  0.9231  0.9242  0.9232  0.9239  0.9235  0.0005  \n",
      "MAE (testset)     0.7157  0.7171  0.7160  0.7163  0.7160  0.7171  0.7162  0.7173  0.7162  0.7168  0.7165  0.0005  \n",
      "PREC_5 (testset)  0.6462  0.6410  0.6483  0.6452  0.6445  0.6510  0.6486  0.6503  0.6413  0.6516  0.6468  0.0036  \n",
      "REC_5 (testset)   0.0896  0.0869  0.0893  0.0888  0.0865  0.0880  0.0874  0.0882  0.0872  0.0882  0.0880  0.0010  \n",
      "NDCG_5 (testset)  0.6841  0.6807  0.6855  0.6813  0.6828  0.6884  0.6849  0.6850  0.6799  0.6855  0.6838  0.0025  \n",
      "PREC_10 (testset) 0.6364  0.6315  0.6379  0.6352  0.6352  0.6401  0.6381  0.6401  0.6320  0.6405  0.6367  0.0031  \n",
      "REC_10 (testset)  0.1558  0.1515  0.1548  0.1549  0.1508  0.1533  0.1525  0.1529  0.1523  0.1524  0.1531  0.0015  \n",
      "NDCG_10 (testset) 0.6953  0.6922  0.6953  0.6925  0.6937  0.6975  0.6949  0.6949  0.6915  0.6949  0.6942  0.0017  \n",
      "PREC_15 (testset) 0.6294  0.6247  0.6309  0.6285  0.6286  0.6330  0.6312  0.6333  0.6255  0.6339  0.6299  0.0030  \n",
      "REC_15 (testset)  0.2075  0.2019  0.2062  0.2062  0.2014  0.2043  0.2036  0.2032  0.2032  0.2028  0.2040  0.0019  \n",
      "NDCG_15 (testset) 0.7137  0.7108  0.7135  0.7113  0.7123  0.7152  0.7130  0.7128  0.7106  0.7132  0.7126  0.0014  \n",
      "Fit time          35.98   34.73   34.83   34.94   35.23   35.45   34.96   35.03   35.14   35.28   35.16   0.34    \n",
      "Test time         46.83   48.71   45.89   49.15   48.34   48.07   47.17   47.01   48.88   48.71   47.88   1.03    \n",
      "933.8999443054199\n"
     ]
    }
   ],
   "source": [
    "algo = SVD(verbose=False, n_epochs=60, lr_all=0.008, reg_all=0.091, n_factors=30, random_state=123)\n",
    "start = time.time()\n",
    "parellel_cold_start_item(algo, data, rate, m_list, random_state=123, n_rating=100, n_exp=10, n_jobs=5)\n",
    "print(time.time() - start)"
   ]
  },
  {
   "cell_type": "code",
   "execution_count": 49,
   "metadata": {},
   "outputs": [
    {
     "name": "stdout",
     "output_type": "stream",
     "text": [
      "Evaluating RMSE, MAE, PREC_5, REC_5, NDCG_5, PREC_10, REC_10, NDCG_10, PREC_15, REC_15, NDCG_15 of algorithm SVD on 10 split(s).\n",
      "\n",
      "                  Fold 1  Fold 2  Fold 3  Fold 4  Fold 5  Fold 6  Fold 7  Fold 8  Fold 9  Fold 10 Mean    Std     \n",
      "RMSE (testset)    0.9241  0.9256  0.9236  0.9241  0.9249  0.9244  0.9245  0.9245  0.9242  0.9250  0.9245  0.0005  \n",
      "MAE (testset)     0.7161  0.7177  0.7160  0.7163  0.7171  0.7168  0.7168  0.7169  0.7164  0.7172  0.7167  0.0005  \n",
      "PREC_5 (testset)  0.6452  0.6414  0.6469  0.6437  0.6432  0.6493  0.6497  0.6502  0.6400  0.6498  0.6459  0.0036  \n",
      "REC_5 (testset)   0.0895  0.0869  0.0894  0.0888  0.0874  0.0879  0.0875  0.0884  0.0875  0.0881  0.0881  0.0008  \n",
      "NDCG_5 (testset)  0.6847  0.6813  0.6860  0.6809  0.6834  0.6887  0.6856  0.6866  0.6814  0.6856  0.6844  0.0025  \n",
      "PREC_10 (testset) 0.6353  0.6316  0.6369  0.6344  0.6344  0.6387  0.6393  0.6397  0.6311  0.6389  0.6360  0.0030  \n",
      "REC_10 (testset)  0.1557  0.1515  0.1551  0.1549  0.1523  0.1531  0.1530  0.1534  0.1532  0.1524  0.1534  0.0013  \n",
      "NDCG_10 (testset) 0.6955  0.6929  0.6962  0.6926  0.6944  0.6979  0.6954  0.6960  0.6927  0.6953  0.6949  0.0016  \n",
      "PREC_15 (testset) 0.6286  0.6251  0.6302  0.6279  0.6275  0.6316  0.6324  0.6327  0.6245  0.6322  0.6293  0.0029  \n",
      "REC_15 (testset)  0.2076  0.2021  0.2068  0.2064  0.2030  0.2042  0.2045  0.2038  0.2046  0.2030  0.2046  0.0017  \n",
      "NDCG_15 (testset) 0.7141  0.7117  0.7144  0.7115  0.7129  0.7156  0.7137  0.7137  0.7115  0.7136  0.7133  0.0013  \n",
      "Fit time          28.83   28.78   29.23   28.94   29.05   29.11   29.14   29.78   29.11   28.83   29.08   0.27    \n",
      "Test time         48.41   47.84   46.18   48.95   48.05   46.28   47.40   48.40   49.27   47.99   47.88   0.97    \n",
      "933.0482563972473\n"
     ]
    }
   ],
   "source": [
    "algo = SVD(verbose=False, n_epochs=60, lr_all=0.008, reg_all=0.091, n_factors=20, random_state=123)\n",
    "start = time.time()\n",
    "parellel_cold_start_item(algo, data, rate, m_list, random_state=123, n_rating=100, n_exp=10, n_jobs=5)\n",
    "print(time.time() - start)"
   ]
  },
  {
   "cell_type": "markdown",
   "metadata": {},
   "source": [
    "### SVD++"
   ]
  },
  {
   "cell_type": "code",
   "execution_count": 50,
   "metadata": {},
   "outputs": [
    {
     "name": "stdout",
     "output_type": "stream",
     "text": [
      "Evaluating RMSE, MAE, PREC_5, REC_5, NDCG_5, PREC_10, REC_10, NDCG_10, PREC_15, REC_15, NDCG_15 of algorithm SVDpp on 10 split(s).\n",
      "\n",
      "                  Fold 1  Fold 2  Fold 3  Fold 4  Fold 5  Fold 6  Fold 7  Fold 8  Fold 9  Fold 10 Mean    Std     \n",
      "RMSE (testset)    0.9086  0.9096  0.9089  0.9089  0.9092  0.9092  0.9087  0.9087  0.9089  0.9096  0.9090  0.0003  \n",
      "MAE (testset)     0.7086  0.7098  0.7092  0.7091  0.7094  0.7095  0.7088  0.7094  0.7094  0.7096  0.7093  0.0003  \n",
      "PREC_5 (testset)  0.6487  0.6474  0.6509  0.6515  0.6534  0.6590  0.6589  0.6583  0.6445  0.6525  0.6525  0.0048  \n",
      "REC_5 (testset)   0.0883  0.0869  0.0886  0.0896  0.0877  0.0890  0.0880  0.0884  0.0865  0.0873  0.0880  0.0009  \n",
      "NDCG_5 (testset)  0.6824  0.6814  0.6851  0.6801  0.6838  0.6870  0.6879  0.6870  0.6796  0.6844  0.6839  0.0028  \n",
      "PREC_10 (testset) 0.6397  0.6380  0.6408  0.6428  0.6436  0.6487  0.6492  0.6478  0.6364  0.6421  0.6429  0.0042  \n",
      "REC_10 (testset)  0.1540  0.1511  0.1536  0.1553  0.1520  0.1544  0.1535  0.1530  0.1512  0.1515  0.1530  0.0014  \n",
      "NDCG_10 (testset) 0.6953  0.6941  0.6961  0.6933  0.6949  0.6975  0.6979  0.6972  0.6928  0.6953  0.6954  0.0017  \n",
      "PREC_15 (testset) 0.6332  0.6314  0.6345  0.6364  0.6373  0.6417  0.6422  0.6410  0.6303  0.6352  0.6363  0.0040  \n",
      "REC_15 (testset)  0.2051  0.2003  0.2040  0.2054  0.2019  0.2047  0.2042  0.2031  0.2013  0.2012  0.2031  0.0017  \n",
      "NDCG_15 (testset) 0.7143  0.7129  0.7150  0.7125  0.7138  0.7156  0.7162  0.7151  0.7125  0.7140  0.7142  0.0012  \n",
      "Fit time          3578.17 3618.28 3594.83 3538.18 3581.26 3538.90 3513.65 3577.44 3616.22 3574.97 3573.19 32.26   \n",
      "Test time         355.74  363.17  353.08  360.56  352.96  348.92  363.99  353.40  355.52  348.30  355.56  5.18    \n",
      "8569.747463941574\n"
     ]
    }
   ],
   "source": [
    "algo = SVDpp(verbose=False, n_epochs=45, lr_all=0.0012, reg_all=0.0012, n_factors=40, random_state=123)\n",
    "\n",
    "start = time.time()\n",
    "parellel_cold_start_item(algo, data, rate, m_list, random_state=123, n_rating=100, n_exp=10, n_jobs=5)\n",
    "print(time.time() - start)"
   ]
  },
  {
   "cell_type": "code",
   "execution_count": 51,
   "metadata": {},
   "outputs": [
    {
     "name": "stdout",
     "output_type": "stream",
     "text": [
      "Evaluating RMSE, MAE, PREC_5, REC_5, NDCG_5, PREC_10, REC_10, NDCG_10, PREC_15, REC_15, NDCG_15 of algorithm SVDpp on 10 split(s).\n",
      "\n",
      "                  Fold 1  Fold 2  Fold 3  Fold 4  Fold 5  Fold 6  Fold 7  Fold 8  Fold 9  Fold 10 Mean    Std     \n",
      "RMSE (testset)    0.9062  0.9072  0.9065  0.9070  0.9068  0.9070  0.9068  0.9074  0.9069  0.9075  0.9070  0.0004  \n",
      "MAE (testset)     0.7062  0.7071  0.7067  0.7066  0.7069  0.7071  0.7065  0.7076  0.7071  0.7074  0.7069  0.0004  \n",
      "PREC_5 (testset)  0.6557  0.6556  0.6567  0.6516  0.6562  0.6619  0.6603  0.6621  0.6501  0.6639  0.6574  0.0043  \n",
      "REC_5 (testset)   0.0901  0.0907  0.0910  0.0903  0.0888  0.0894  0.0888  0.0898  0.0880  0.0897  0.0896  0.0009  \n",
      "NDCG_5 (testset)  0.6873  0.6857  0.6875  0.6815  0.6876  0.6900  0.6890  0.6908  0.6817  0.6922  0.6873  0.0034  \n",
      "PREC_10 (testset) 0.6455  0.6450  0.6472  0.6429  0.6466  0.6512  0.6499  0.6515  0.6408  0.6524  0.6473  0.0037  \n",
      "REC_10 (testset)  0.1566  0.1563  0.1577  0.1570  0.1540  0.1554  0.1547  0.1553  0.1537  0.1545  0.1555  0.0013  \n",
      "NDCG_10 (testset) 0.6994  0.6975  0.6988  0.6952  0.6983  0.7000  0.6991  0.7003  0.6946  0.7013  0.6984  0.0020  \n",
      "PREC_15 (testset) 0.6380  0.6380  0.6401  0.6364  0.6402  0.6440  0.6434  0.6439  0.6346  0.6452  0.6404  0.0034  \n",
      "REC_15 (testset)  0.2082  0.2061  0.2094  0.2081  0.2046  0.2063  0.2061  0.2053  0.2051  0.2045  0.2064  0.0016  \n",
      "NDCG_15 (testset) 0.7177  0.7161  0.7173  0.7146  0.7169  0.7180  0.7177  0.7178  0.7141  0.7188  0.7169  0.0014  \n",
      "Fit time          2907.02 2975.33 2952.49 2913.50 2929.51 2891.59 2877.91 2953.61 2979.61 2944.39 2932.50 32.73   \n",
      "Test time         359.65  359.53  348.73  353.75  375.38  358.22  356.08  348.43  346.63  370.65  357.70  8.92    \n",
      "7329.750757694244\n"
     ]
    }
   ],
   "source": [
    "algo = SVDpp(verbose=False, n_epochs=45, lr_all=0.0012, reg_all=0.0012, n_factors=30, random_state=123)\n",
    "\n",
    "start = time.time()\n",
    "parellel_cold_start_item(algo, data, rate, m_list, random_state=123, n_rating=100, n_exp=10, n_jobs=5)\n",
    "print(time.time() - start)"
   ]
  },
  {
   "cell_type": "code",
   "execution_count": 52,
   "metadata": {},
   "outputs": [
    {
     "name": "stdout",
     "output_type": "stream",
     "text": [
      "Evaluating RMSE, MAE, PREC_5, REC_5, NDCG_5, PREC_10, REC_10, NDCG_10, PREC_15, REC_15, NDCG_15 of algorithm SVDpp on 10 split(s).\n",
      "\n",
      "                  Fold 1  Fold 2  Fold 3  Fold 4  Fold 5  Fold 6  Fold 7  Fold 8  Fold 9  Fold 10 Mean    Std     \n",
      "RMSE (testset)    0.9057  0.9057  0.9056  0.9057  0.9057  0.9056  0.9051  0.9054  0.9053  0.9053  0.9055  0.0002  \n",
      "MAE (testset)     0.7050  0.7050  0.7052  0.7049  0.7052  0.7052  0.7043  0.7052  0.7048  0.7048  0.7050  0.0003  \n",
      "PREC_5 (testset)  0.6614  0.6633  0.6602  0.6601  0.6572  0.6712  0.6650  0.6671  0.6544  0.6661  0.6626  0.0047  \n",
      "REC_5 (testset)   0.0934  0.0927  0.0924  0.0917  0.0912  0.0937  0.0916  0.0920  0.0908  0.0913  0.0921  0.0009  \n",
      "NDCG_5 (testset)  0.6924  0.6890  0.6903  0.6875  0.6880  0.6967  0.6931  0.6927  0.6861  0.6943  0.6910  0.0032  \n",
      "PREC_10 (testset) 0.6505  0.6520  0.6498  0.6504  0.6469  0.6593  0.6538  0.6559  0.6452  0.6545  0.6518  0.0040  \n",
      "REC_10 (testset)  0.1618  0.1597  0.1606  0.1593  0.1580  0.1611  0.1586  0.1592  0.1580  0.1577  0.1594  0.0013  \n",
      "NDCG_10 (testset) 0.7030  0.7002  0.7010  0.6990  0.6992  0.7047  0.7025  0.7021  0.6983  0.7032  0.7013  0.0020  \n",
      "PREC_15 (testset) 0.6429  0.6447  0.6424  0.6436  0.6403  0.6515  0.6470  0.6487  0.6387  0.6470  0.6447  0.0037  \n",
      "REC_15 (testset)  0.2147  0.2110  0.2135  0.2114  0.2098  0.2125  0.2107  0.2113  0.2106  0.2088  0.2114  0.0016  \n",
      "NDCG_15 (testset) 0.7210  0.7186  0.7195  0.7177  0.7180  0.7219  0.7206  0.7199  0.7175  0.7208  0.7196  0.0015  \n",
      "Fit time          2259.20 2296.21 2292.83 2273.58 2315.26 2238.63 2250.95 2273.69 2356.06 2267.82 2282.42 32.58   \n",
      "Test time         353.84  347.37  371.22  366.30  356.07  351.52  350.17  373.56  362.91  353.21  358.62  8.75    \n",
      "6004.906761169434\n"
     ]
    }
   ],
   "source": [
    "algo = SVDpp(verbose=False, n_epochs=45, lr_all=0.0012, reg_all=0.0012, n_factors=20, random_state=123)\n",
    "\n",
    "start = time.time()\n",
    "parellel_cold_start_item(algo, data, rate, m_list, random_state=123, n_rating=100, n_exp=10, n_jobs=5)\n",
    "print(time.time() - start)"
   ]
  },
  {
   "cell_type": "markdown",
   "metadata": {},
   "source": [
    "### NMF"
   ]
  },
  {
   "cell_type": "code",
   "execution_count": 53,
   "metadata": {},
   "outputs": [
    {
     "name": "stdout",
     "output_type": "stream",
     "text": [
      "Evaluating RMSE, MAE, PREC_5, REC_5, NDCG_5, PREC_10, REC_10, NDCG_10, PREC_15, REC_15, NDCG_15 of algorithm NMF on 10 split(s).\n",
      "\n",
      "                  Fold 1  Fold 2  Fold 3  Fold 4  Fold 5  Fold 6  Fold 7  Fold 8  Fold 9  Fold 10 Mean    Std     \n",
      "RMSE (testset)    0.9971  0.9974  0.9956  0.9970  0.9957  0.9973  0.9960  0.9970  0.9961  0.9978  0.9967  0.0007  \n",
      "MAE (testset)     0.7730  0.7734  0.7720  0.7731  0.7723  0.7733  0.7722  0.7731  0.7722  0.7738  0.7728  0.0006  \n",
      "PREC_5 (testset)  0.4664  0.4653  0.4721  0.4697  0.4685  0.4771  0.4716  0.4713  0.4659  0.4697  0.4698  0.0034  \n",
      "REC_5 (testset)   0.0498  0.0492  0.0501  0.0499  0.0493  0.0502  0.0497  0.0495  0.0491  0.0494  0.0496  0.0004  \n",
      "NDCG_5 (testset)  0.6299  0.6266  0.6333  0.6307  0.6295  0.6375  0.6348  0.6318  0.6293  0.6322  0.6316  0.0029  \n",
      "PREC_10 (testset) 0.4631  0.4619  0.4676  0.4655  0.4652  0.4724  0.4673  0.4670  0.4625  0.4650  0.4657  0.0029  \n",
      "REC_10 (testset)  0.0910  0.0900  0.0909  0.0905  0.0899  0.0909  0.0906  0.0899  0.0898  0.0897  0.0903  0.0005  \n",
      "NDCG_10 (testset) 0.6455  0.6431  0.6472  0.6457  0.6450  0.6502  0.6484  0.6463  0.6452  0.6463  0.6463  0.0019  \n",
      "PREC_15 (testset) 0.4599  0.4587  0.4644  0.4623  0.4622  0.4690  0.4640  0.4636  0.4594  0.4616  0.4625  0.0029  \n",
      "REC_15 (testset)  0.1265  0.1250  0.1263  0.1254  0.1249  0.1259  0.1258  0.1247  0.1245  0.1242  0.1253  0.0007  \n",
      "NDCG_15 (testset) 0.6690  0.6670  0.6700  0.6687  0.6684  0.6725  0.6714  0.6692  0.6685  0.6691  0.6694  0.0015  \n",
      "Fit time          39.81   39.89   41.10   40.79   40.88   40.69   40.38   41.04   41.16   40.98   40.67   0.46    \n",
      "Test time         42.21   40.03   41.05   44.12   43.21   43.57   41.40   42.32   44.14   42.29   42.43   1.28    \n",
      "949.2897062301636\n"
     ]
    }
   ],
   "source": [
    "algo = NMF(verbose=False, n_epochs=40, reg_pu=0.19, reg_qi=0.08, lr_bu=0.001, lr_bi=0.001, reg_bu=0.001, reg_bi=0.001, n_factors=40, random_state=123)\n",
    "\n",
    "start = time.time()\n",
    "parellel_cold_start_item(algo, data, rate, m_list, random_state=123, n_rating=100, n_exp=10, n_jobs=5)\n",
    "print(time.time() - start)"
   ]
  },
  {
   "cell_type": "code",
   "execution_count": 54,
   "metadata": {},
   "outputs": [
    {
     "name": "stdout",
     "output_type": "stream",
     "text": [
      "Evaluating RMSE, MAE, PREC_5, REC_5, NDCG_5, PREC_10, REC_10, NDCG_10, PREC_15, REC_15, NDCG_15 of algorithm NMF on 10 split(s).\n",
      "\n",
      "                  Fold 1  Fold 2  Fold 3  Fold 4  Fold 5  Fold 6  Fold 7  Fold 8  Fold 9  Fold 10 Mean    Std     \n",
      "RMSE (testset)    1.0012  1.0015  1.0001  1.0017  1.0005  1.0019  1.0004  1.0015  1.0005  1.0020  1.0011  0.0007  \n",
      "MAE (testset)     0.7772  0.7776  0.7767  0.7778  0.7771  0.7780  0.7766  0.7777  0.7768  0.7780  0.7773  0.0005  \n",
      "PREC_5 (testset)  0.4683  0.4700  0.4711  0.4720  0.4719  0.4770  0.4702  0.4742  0.4656  0.4706  0.4711  0.0029  \n",
      "REC_5 (testset)   0.0498  0.0495  0.0499  0.0498  0.0498  0.0501  0.0498  0.0494  0.0488  0.0494  0.0496  0.0003  \n",
      "NDCG_5 (testset)  0.6278  0.6261  0.6289  0.6282  0.6297  0.6337  0.6307  0.6306  0.6254  0.6287  0.6290  0.0023  \n",
      "PREC_10 (testset) 0.4645  0.4663  0.4666  0.4672  0.4673  0.4723  0.4663  0.4700  0.4625  0.4662  0.4669  0.0026  \n",
      "REC_10 (testset)  0.0908  0.0901  0.0909  0.0901  0.0902  0.0907  0.0907  0.0896  0.0890  0.0895  0.0902  0.0006  \n",
      "NDCG_10 (testset) 0.6431  0.6420  0.6435  0.6427  0.6439  0.6475  0.6453  0.6447  0.6418  0.6436  0.6438  0.0016  \n",
      "PREC_15 (testset) 0.4614  0.4633  0.4637  0.4643  0.4643  0.4690  0.4629  0.4670  0.4598  0.4630  0.4639  0.0025  \n",
      "REC_15 (testset)  0.1261  0.1250  0.1260  0.1249  0.1250  0.1256  0.1256  0.1242  0.1235  0.1239  0.1250  0.0008  \n",
      "NDCG_15 (testset) 0.6663  0.6658  0.6667  0.6658  0.6669  0.6701  0.6683  0.6677  0.6654  0.6667  0.6670  0.0013  \n",
      "Fit time          32.79   33.31   33.54   34.21   36.40   34.04   34.21   34.28   34.53   34.11   34.14   0.90    \n",
      "Test time         41.51   43.48   39.53   43.10   43.76   41.87   43.13   40.52   43.38   42.68   42.30   1.34    \n",
      "932.2405729293823\n"
     ]
    }
   ],
   "source": [
    "algo = NMF(verbose=False, n_epochs=40, reg_pu=0.19, reg_qi=0.08, lr_bu=0.001, lr_bi=0.001, reg_bu=0.001, reg_bi=0.001, n_factors=30, random_state=123)\n",
    "\n",
    "start = time.time()\n",
    "parellel_cold_start_item(algo, data, rate, m_list, random_state=123, n_rating=100, n_exp=10, n_jobs=5)\n",
    "print(time.time() - start)"
   ]
  },
  {
   "cell_type": "code",
   "execution_count": 55,
   "metadata": {},
   "outputs": [
    {
     "name": "stdout",
     "output_type": "stream",
     "text": [
      "Evaluating RMSE, MAE, PREC_5, REC_5, NDCG_5, PREC_10, REC_10, NDCG_10, PREC_15, REC_15, NDCG_15 of algorithm NMF on 10 split(s).\n",
      "\n",
      "                  Fold 1  Fold 2  Fold 3  Fold 4  Fold 5  Fold 6  Fold 7  Fold 8  Fold 9  Fold 10 Mean    Std     \n",
      "RMSE (testset)    1.0091  1.0096  1.0070  1.0084  1.0081  1.0087  1.0080  1.0092  1.0080  1.0093  1.0085  0.0008  \n",
      "MAE (testset)     0.7848  0.7857  0.7835  0.7845  0.7847  0.7849  0.7844  0.7852  0.7843  0.7854  0.7847  0.0006  \n",
      "PREC_5 (testset)  0.4714  0.4714  0.4738  0.4737  0.4726  0.4756  0.4743  0.4769  0.4690  0.4717  0.4730  0.0022  \n",
      "REC_5 (testset)   0.0502  0.0493  0.0504  0.0501  0.0496  0.0503  0.0500  0.0499  0.0493  0.0496  0.0499  0.0004  \n",
      "NDCG_5 (testset)  0.6240  0.6225  0.6268  0.6240  0.6236  0.6293  0.6270  0.6261  0.6231  0.6232  0.6250  0.0021  \n",
      "PREC_10 (testset) 0.4672  0.4670  0.4695  0.4693  0.4683  0.4708  0.4697  0.4718  0.4648  0.4677  0.4686  0.0019  \n",
      "REC_10 (testset)  0.0910  0.0895  0.0912  0.0905  0.0898  0.0906  0.0904  0.0899  0.0893  0.0897  0.0902  0.0006  \n",
      "NDCG_10 (testset) 0.6394  0.6374  0.6412  0.6388  0.6390  0.6428  0.6409  0.6404  0.6389  0.6385  0.6397  0.0015  \n",
      "PREC_15 (testset) 0.4643  0.4642  0.4665  0.4664  0.4653  0.4677  0.4665  0.4687  0.4619  0.4646  0.4656  0.0019  \n",
      "REC_15 (testset)  0.1259  0.1241  0.1261  0.1250  0.1244  0.1252  0.1249  0.1242  0.1235  0.1239  0.1247  0.0008  \n",
      "NDCG_15 (testset) 0.6629  0.6611  0.6644  0.6622  0.6622  0.6655  0.6640  0.6636  0.6625  0.6620  0.6630  0.0013  \n",
      "Fit time          26.38   26.59   27.15   27.10   28.20   27.22   27.21   27.22   27.12   27.15   27.13   0.45    \n",
      "Test time         44.54   41.05   39.72   41.88   42.29   42.67   41.16   40.93   42.10   42.74   41.91   1.24    \n",
      "931.1084439754486\n"
     ]
    }
   ],
   "source": [
    "algo = NMF(verbose=False, n_epochs=40, reg_pu=0.19, reg_qi=0.08, lr_bu=0.001, lr_bi=0.001, reg_bu=0.001, reg_bi=0.001, n_factors=20, random_state=123)\n",
    "\n",
    "start = time.time()\n",
    "parellel_cold_start_item(algo, data, rate, m_list, random_state=123, n_rating=100, n_exp=10, n_jobs=5)\n",
    "print(time.time() - start)"
   ]
  }
 ],
 "metadata": {
  "kernelspec": {
   "display_name": "Python 3",
   "language": "python",
   "name": "python3"
  },
  "language_info": {
   "codemirror_mode": {
    "name": "ipython",
    "version": 3
   },
   "file_extension": ".py",
   "mimetype": "text/x-python",
   "name": "python",
   "nbconvert_exporter": "python",
   "pygments_lexer": "ipython3",
   "version": "3.7.1"
  }
 },
 "nbformat": 4,
 "nbformat_minor": 2
}
