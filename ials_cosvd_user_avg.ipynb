{
 "cells": [
  {
   "cell_type": "code",
   "execution_count": 1,
   "metadata": {},
   "outputs": [],
   "source": [
    "from __future__ import (absolute_import, division, print_function,\n",
    "                        unicode_literals)\n",
    "\n",
    "#cimport numpy as np # noqa\n",
    "import numpy as np\n",
    "\n",
    "from surprise import Reader, AlgoBase, PredictionImpossible\n",
    "from surprise import Dataset, SVD\n",
    "from surprise.model_selection import cross_validate\n",
    "from surprise.utils import get_rng\n",
    "from surprise.model_selection import train_test_split\n",
    "from surprise import accuracy\n",
    "\n",
    "import pandas as pd\n",
    "import os\n",
    "import time\n",
    "\n",
    "import math\n",
    "import implicit\n",
    "\n",
    "from tqdm import tqdm\n",
    "from itertools import product\n",
    "\n",
    "from sklearn.metrics import confusion_matrix, mean_squared_error, mean_absolute_error, precision_score, recall_score\n",
    "from math import sqrt\n",
    "import scipy.sparse as sparse\n",
    "from surprise import CoSVD, NMF, SVDpp\n",
    "\n",
    "from joblib import Parallel\n",
    "from joblib import delayed\n",
    "from surprise.model_selection.validation import fit_and_score, print_summary\n",
    "\n",
    "from datetime import datetime\n",
    "\n",
    "import warnings\n",
    "warnings.filterwarnings('ignore')\n",
    "#import matrices_generation as mg\n",
    "#%reload_ext Cython\n",
    "%load_ext Cython"
   ]
  },
  {
   "cell_type": "code",
   "execution_count": 2,
   "metadata": {},
   "outputs": [],
   "source": [
    "def convert_time(seconds): \n",
    "    seconds = seconds % (24 * 3600) \n",
    "    hour = seconds // 3600\n",
    "    seconds %= 3600\n",
    "    minutes = seconds // 60\n",
    "    seconds %= 60\n",
    "      \n",
    "    return \"%d:%02d:%02d\" % (hour, minutes, seconds) "
   ]
  },
  {
   "cell_type": "code",
   "execution_count": 17,
   "metadata": {},
   "outputs": [],
   "source": [
    "#data_source = 'ml-latest-small' # 100k MovieLens dataset 2016\n",
    "#data_source = 'mlsmall' # 100k MovieLens dataset 2018\n",
    "data_source = 'ml-10M100K' # 10M MovieLens dataset\n",
    "\n",
    "reader = Reader()\n",
    "path = os.path.join('../','Data',data_source)\n",
    "\n",
    "rate = pd.read_csv(path+'/ratings.csv', encoding='utf-8')\n",
    "data = Dataset.load_from_df(rate[['userId', 'movieId', 'rating']], reader)\n",
    "raw_tags = pd.read_csv(path+'/tags.csv', encoding='utf-8')"
   ]
  },
  {
   "cell_type": "code",
   "execution_count": 18,
   "metadata": {},
   "outputs": [],
   "source": [
    "full_trainset = data.build_full_trainset()"
   ]
  },
  {
   "cell_type": "code",
   "execution_count": 44,
   "metadata": {},
   "outputs": [],
   "source": [
    "# 510 365 382 322 988 98 742 17 595 106\n",
    "rs = 742\n",
    "percentile_threshold = 99.5\n",
    "n_factors = 32\n",
    "alpha = 40"
   ]
  },
  {
   "cell_type": "code",
   "execution_count": 45,
   "metadata": {},
   "outputs": [
    {
     "data": {
      "application/vnd.jupyter.widget-view+json": {
       "model_id": "0bc188edb57c49f1869d3a1b962356d5",
       "version_major": 2,
       "version_minor": 0
      },
      "text/plain": [
       "HBox(children=(IntProgress(value=0, max=15), HTML(value='')))"
      ]
     },
     "metadata": {},
     "output_type": "display_data"
    },
    {
     "name": "stdout",
     "output_type": "stream",
     "text": [
      "\n"
     ]
    }
   ],
   "source": [
    "### Rated + Item Average\n",
    "#temp_data = rate.groupby('movieId')['userId'].apply(lambda s: s.sample(100, random_state=rs) if len(s) > 100 else s).reset_index()\n",
    "temp_data = rate.groupby('userId')['movieId'].apply(lambda s: s.sample(10, random_state=rs)).reset_index()\n",
    "temp = rate[rate.index.isin(temp_data.level_1)]\n",
    "temp['user_id'] = temp['userId'].astype(\"category\").cat.codes\n",
    "temp['item_id'] = temp['movieId'].astype(\"category\").cat.codes\n",
    "temp['rate'] = 1\n",
    "\n",
    "users = list(np.sort(temp.user_id.unique()))\n",
    "items = list(np.sort(temp.item_id.unique()))\n",
    "rated = list(temp.rate)\n",
    "cols = temp.user_id.astype(int)\n",
    "rows = temp.item_id.astype(int)\n",
    "\n",
    "#sparsity = len(temp) / (len(items)*len(users))\n",
    "sparsity = alpha\n",
    "\n",
    "data_sparse = sparse.csr_matrix((rated, (rows, cols)), shape=(len(items), len(users)))\n",
    "\n",
    "### iALS model train and score\n",
    "model = implicit.als.AlternatingLeastSquares(factors=n_factors, random_state=123)\n",
    "\n",
    "model.fit((data_sparse*sparsity).astype('double'))\n",
    "user_vecs = model.user_factors\n",
    "item_vecs = model.item_factors\n",
    "implicit_feedback = user_vecs.dot(item_vecs.T)\n",
    "\n",
    "### Retrieve Implicit User Item pairs\n",
    "result = np.where(implicit_feedback >= np.percentile(implicit_feedback, percentile_threshold))\n",
    "rating_pairs = list(temp[['user_id', 'item_id']].apply(tuple, axis=1))\n",
    "implicit_pairs = list(zip(result[0], result[1]))\n",
    "uipairs = list(set(implicit_pairs)-set(rating_pairs))"
   ]
  },
  {
   "cell_type": "code",
   "execution_count": 46,
   "metadata": {},
   "outputs": [],
   "source": [
    "weightage = 1.25\n",
    "\n",
    "#user_avg_rate = temp[['movieId', 'item_id', 'rating']].groupby(['movieId', 'item_id']).mean().reset_index()\n",
    "user_avg_rate = temp[['userId', 'user_id', 'rating']].groupby(['userId', 'user_id']).mean().reset_index()\n",
    "user_avg_rate['rating'] = user_avg_rate['rating'].map(lambda x: 5 if x * weightage > 5 else x * weightage).tolist()\n",
    "\n",
    "pairs = pd.DataFrame(uipairs, columns=[\"user_id\", \"item_id\"])\n",
    "#pairs= pd.merge(pairs, user_avg_rate, how='left', on='item_id')\n",
    "pairs= pd.merge(pairs, user_avg_rate, how='left', on='user_id')\n",
    "#pairs = pd.merge(pairs, temp[['userId', 'user_id']].drop_duplicates(), how='left', on='user_id')\n",
    "pairs = pd.merge(pairs, temp[['movieId', 'item_id']].drop_duplicates(), how='left', on='item_id')\n",
    "pairs = pairs[['userId', 'movieId', 'rating']]\n",
    "pairs['timestamp'] = None\n",
    "extra_rate = [tuple(x) for x in pairs.values]\n",
    "\n",
    "temp2 = np.arange(len(data.raw_ratings))\n",
    "temp2 = np.delete(temp2, temp_data.level_1)\n",
    "\n",
    "raw_trainset = [data.raw_ratings[i] for i in temp_data.level_1]\n",
    "raw_testset = [data.raw_ratings[i] for i in temp2]\n",
    "\n",
    "trainset = data.construct_trainset(raw_trainset + extra_rate)\n",
    "testset = data.construct_testset(raw_testset)"
   ]
  },
  {
   "cell_type": "code",
   "execution_count": 47,
   "metadata": {},
   "outputs": [
    {
     "name": "stdout",
     "output_type": "stream",
     "text": [
      "SVDpp User Average 742 1.25\n",
      "RMSE: 1.0553\n",
      "MAE:  0.8078\n",
      "Precision@K:  0.6502\n",
      "Recall@K:  0.1508\n",
      "nDCG@5:  0.6339\n",
      "0:53:34\n"
     ]
    }
   ],
   "source": [
    "start = time.time()\n",
    "\n",
    "algo = SVDpp(verbose=False, n_epochs=45, lr_all=0.0012, reg_all=0.0012, n_factors=20, random_state=123)\n",
    "algo.fit(trainset)\n",
    "predictions = algo.test(testset)\n",
    "\n",
    "print(\"SVDpp User Average \" + str(rs) + \" \" + str(weightage))\n",
    "\n",
    "rmse = accuracy.rmse(predictions)\n",
    "mae = accuracy.mae(predictions)\n",
    "prec_5 = accuracy.prec_5(predictions, full_trainset)\n",
    "rec_5 = accuracy.rec_5(predictions, full_trainset)\n",
    "ndcg_5 = accuracy.ndcg_5(predictions)\n",
    "\n",
    "print(convert_time(time.time() - start))"
   ]
  },
  {
   "cell_type": "code",
   "execution_count": 48,
   "metadata": {},
   "outputs": [
    {
     "name": "stdout",
     "output_type": "stream",
     "text": [
      "SVD User Average 742 1.25\n",
      "RMSE: 1.0766\n",
      "MAE:  0.8256\n",
      "Precision@K:  0.6906\n",
      "Recall@K:  0.1607\n",
      "nDCG@5:  0.6805\n",
      "0:04:43\n"
     ]
    }
   ],
   "source": [
    "start = time.time()\n",
    "\n",
    "algo = SVD(verbose=False, n_epochs=60, lr_all=0.008, reg_all=0.091, n_factors=30, random_state=123)\n",
    "algo.fit(trainset)\n",
    "predictions = algo.test(testset)\n",
    "\n",
    "print(\"SVD User Average \" + str(rs) + \" \" + str(weightage))\n",
    "\n",
    "rmse = accuracy.rmse(predictions)\n",
    "mae = accuracy.mae(predictions)\n",
    "prec_5 = accuracy.prec_5(predictions, full_trainset)\n",
    "rec_5 = accuracy.rec_5(predictions, full_trainset)\n",
    "ndcg_5 = accuracy.ndcg_5(predictions)\n",
    "\n",
    "print(convert_time(time.time() - start))"
   ]
  },
  {
   "cell_type": "code",
   "execution_count": 49,
   "metadata": {},
   "outputs": [
    {
     "name": "stdout",
     "output_type": "stream",
     "text": [
      "CoSVD User Average 742 1.25\n",
      "RMSE: 1.0738\n",
      "MAE:  0.8234\n",
      "Precision@K:  0.6907\n",
      "Recall@K:  0.1597\n",
      "nDCG@5:  0.6888\n",
      "5:25:30\n"
     ]
    }
   ],
   "source": [
    "start = time.time()\n",
    "\n",
    "algo = CoSVD(verbose=False, n_epochs=65, lr_all=0.0028, n_factors=40, tags=raw_tags, random_state=123)\n",
    "algo.fit(trainset)\n",
    "predictions = algo.test(testset)\n",
    "\n",
    "print(\"CoSVD User Average \" + str(rs) + \" \" + str(weightage))\n",
    "\n",
    "rmse = accuracy.rmse(predictions)\n",
    "mae = accuracy.mae(predictions)\n",
    "prec_5 = accuracy.prec_5(predictions, full_trainset)\n",
    "rec_5 = accuracy.rec_5(predictions, full_trainset)\n",
    "ndcg_5 = accuracy.ndcg_5(predictions)\n",
    "\n",
    "print(convert_time(time.time() - start))"
   ]
  },
  {
   "cell_type": "code",
   "execution_count": null,
   "metadata": {},
   "outputs": [],
   "source": []
  },
  {
   "cell_type": "code",
   "execution_count": null,
   "metadata": {},
   "outputs": [],
   "source": []
  }
 ],
 "metadata": {
  "kernelspec": {
   "display_name": "Python 3",
   "language": "python",
   "name": "python3"
  },
  "language_info": {
   "codemirror_mode": {
    "name": "ipython",
    "version": 3
   },
   "file_extension": ".py",
   "mimetype": "text/x-python",
   "name": "python",
   "nbconvert_exporter": "python",
   "pygments_lexer": "ipython3",
   "version": "3.7.0"
  }
 },
 "nbformat": 4,
 "nbformat_minor": 4
}
